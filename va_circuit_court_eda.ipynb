{
 "cells": [
  {
   "cell_type": "markdown",
   "metadata": {},
   "source": [
    "# Preprocessing Data "
   ]
  },
  {
   "cell_type": "code",
   "execution_count": 7,
   "metadata": {
    "ExecuteTime": {
     "end_time": "2021-04-01T18:15:17.158478Z",
     "start_time": "2021-04-01T18:15:17.064481Z"
    },
    "tags": []
   },
   "outputs": [
    {
     "name": "stdout",
     "output_type": "stream",
     "text": [
      "current directory: C:\\Users\\mhomb\\Documents\\Sandbox\\myprojects\\case-expungement\n"
     ]
    }
   ],
   "source": [
    "# setup\n",
    "import os, sys\n",
    "'''\n",
    "LOCAL and COLLAB, ONLY one of the two environements should be set True.\n",
    "'''\n",
    "# running on local desktop\n",
    "LOCAL = True\n",
    "\n",
    "# running on UVA collab\n",
    "UVA_COLAB = False\n",
    "\n",
    "#print current directory\n",
    "print(f\"current directory: {os.getcwd()}\")"
   ]
  },
  {
   "cell_type": "code",
   "execution_count": 8,
   "metadata": {
    "ExecuteTime": {
     "end_time": "2021-04-01T18:15:17.793768Z",
     "start_time": "2021-04-01T18:15:17.692769Z"
    }
   },
   "outputs": [],
   "source": [
    "# setup environment variables\n",
    "%run -i setup.py"
   ]
  },
  {
   "cell_type": "code",
   "execution_count": 9,
   "metadata": {
    "ExecuteTime": {
     "end_time": "2021-04-01T18:15:18.380735Z",
     "start_time": "2021-04-01T18:15:18.286735Z"
    }
   },
   "outputs": [
    {
     "name": "stdout",
     "output_type": "stream",
     "text": [
      "Imports and display options set...\n",
      "Loading all utility functions...\n"
     ]
    }
   ],
   "source": [
    "# import all required libraries\n",
    "%run -i settings.py\n",
    "\n",
    "#import all utility functions\n",
    "%run -i utility-functions.py"
   ]
  },
  {
   "cell_type": "code",
   "execution_count": 10,
   "metadata": {
    "ExecuteTime": {
     "end_time": "2021-04-01T18:15:21.255663Z",
     "start_time": "2021-04-01T18:15:21.115652Z"
    }
   },
   "outputs": [],
   "source": [
    "# To auto-reload modules in jupyter notebook (so that changes in files *.py doesn't require manual reloading):\n",
    "# for auto-reloading external modules\n",
    "# see http://stackoverflow.com/questions/1907993/autoreload-of-modules-in-ipython\n",
    "%reload_ext autoreload\n",
    "%autoreload 2\n",
    "\n",
    "# you can now enable 2x images by just adding the line:\n",
    "# see: https://gist.github.com/minrk/3301035\n",
    "%config InlineBackend.figure_format = 'png'"
   ]
  },
  {
   "cell_type": "code",
   "execution_count": 11,
   "metadata": {
    "ExecuteTime": {
     "end_time": "2021-04-01T18:15:27.294822Z",
     "start_time": "2021-04-01T18:15:23.927836Z"
    }
   },
   "outputs": [
    {
     "data": {
      "application/vnd.jupyter.widget-view+json": {
       "model_id": "e4e67df47c1c4aefbad2b07755fed43e"
      },
      "text/html": [
       "<div>\n",
       "<style scoped>\n",
       "    .dataframe tbody tr th:only-of-type {\n",
       "        vertical-align: middle;\n",
       "    }\n",
       "\n",
       "    .dataframe tbody tr th {\n",
       "        vertical-align: top;\n",
       "    }\n",
       "\n",
       "    .dataframe thead th {\n",
       "        text-align: right;\n",
       "    }\n",
       "</style>\n",
       "<table border=\"1\" class=\"dataframe\">\n",
       "  <thead>\n",
       "    <tr style=\"text-align: right;\">\n",
       "      <th></th>\n",
       "      <th>person_id</th>\n",
       "      <th>offense_date</th>\n",
       "      <th>final_disposition</th>\n",
       "      <th>fips</th>\n",
       "      <th>gender</th>\n",
       "      <th>race</th>\n",
       "      <th>charge</th>\n",
       "      <th>charge_type</th>\n",
       "      <th>ammended_charge</th>\n",
       "    </tr>\n",
       "  </thead>\n",
       "  <tbody>\n",
       "    <tr>\n",
       "      <th>0</th>\n",
       "      <td>152051000000121</td>\n",
       "      <td>2007-01-09</td>\n",
       "      <td>Nolle Prosequi</td>\n",
       "      <td>99</td>\n",
       "      <td>Female</td>\n",
       "      <td>White Caucasian (Non-Hispanic)</td>\n",
       "      <td>FAILURE TO APPEAR</td>\n",
       "      <td>Felony</td>\n",
       "      <td>NaN</td>\n",
       "    </tr>\n",
       "    <tr>\n",
       "      <th>1</th>\n",
       "      <td>152051000000121</td>\n",
       "      <td>2007-01-09</td>\n",
       "      <td>Nolle Prosequi</td>\n",
       "      <td>99</td>\n",
       "      <td>Female</td>\n",
       "      <td>White Caucasian (Non-Hispanic)</td>\n",
       "      <td>FAILURE TO APPEAR</td>\n",
       "      <td>Felony</td>\n",
       "      <td>NaN</td>\n",
       "    </tr>\n",
       "    <tr>\n",
       "      <th>2</th>\n",
       "      <td>152051000000121</td>\n",
       "      <td>2007-01-09</td>\n",
       "      <td>Nolle Prosequi</td>\n",
       "      <td>99</td>\n",
       "      <td>Female</td>\n",
       "      <td>White Caucasian (Non-Hispanic)</td>\n",
       "      <td>FAILURE TO APPEAR</td>\n",
       "      <td>Felony</td>\n",
       "      <td>NaN</td>\n",
       "    </tr>\n",
       "    <tr>\n",
       "      <th>3</th>\n",
       "      <td>152051000000121</td>\n",
       "      <td>2007-01-09</td>\n",
       "      <td>Nolle Prosequi</td>\n",
       "      <td>99</td>\n",
       "      <td>Female</td>\n",
       "      <td>White Caucasian (Non-Hispanic)</td>\n",
       "      <td>FAILURE TO APPEAR</td>\n",
       "      <td>Felony</td>\n",
       "      <td>NaN</td>\n",
       "    </tr>\n",
       "    <tr>\n",
       "      <th>4</th>\n",
       "      <td>152051000000121</td>\n",
       "      <td>2006-12-13</td>\n",
       "      <td>Sentence/Probation Revoked</td>\n",
       "      <td>99</td>\n",
       "      <td>Female</td>\n",
       "      <td>White Caucasian (Non-Hispanic)</td>\n",
       "      <td>FAIL COMPLY W/ COND SUSP SENT</td>\n",
       "      <td>Felony</td>\n",
       "      <td>NaN</td>\n",
       "    </tr>\n",
       "  </tbody>\n",
       "</table>\n",
       "</div>"
      ],
      "text/plain": [
       "         person_id offense_date           final_disposition  fips  gender  \\\n",
       "0  152051000000121   2007-01-09              Nolle Prosequi    99  Female   \n",
       "1  152051000000121   2007-01-09              Nolle Prosequi    99  Female   \n",
       "2  152051000000121   2007-01-09              Nolle Prosequi    99  Female   \n",
       "3  152051000000121   2007-01-09              Nolle Prosequi    99  Female   \n",
       "4  152051000000121   2006-12-13  Sentence/Probation Revoked    99  Female   \n",
       "\n",
       "                             race                         charge charge_type  \\\n",
       "0  White Caucasian (Non-Hispanic)              FAILURE TO APPEAR      Felony   \n",
       "1  White Caucasian (Non-Hispanic)              FAILURE TO APPEAR      Felony   \n",
       "2  White Caucasian (Non-Hispanic)              FAILURE TO APPEAR      Felony   \n",
       "3  White Caucasian (Non-Hispanic)              FAILURE TO APPEAR      Felony   \n",
       "4  White Caucasian (Non-Hispanic)  FAIL COMPLY W/ COND SUSP SENT      Felony   \n",
       "\n",
       "  ammended_charge  \n",
       "0             NaN  \n",
       "1             NaN  \n",
       "2             NaN  \n",
       "3             NaN  \n",
       "4             NaN  "
      ]
     },
     "metadata": {},
     "output_type": "display_data"
    }
   ],
   "source": [
    "import bamboolib as bam\n",
    "file = f'{BASE_DIR}/data/circuit_court_2009_2019.csv.gz'\n",
    "df = pd.read_csv(file, parse_dates =['offense_date'])\n",
    "df.head(5)"
   ]
  },
  {
   "cell_type": "markdown",
   "metadata": {},
   "source": [
    "### Summary Statistics"
   ]
  },
  {
   "cell_type": "code",
   "execution_count": 12,
   "metadata": {
    "ExecuteTime": {
     "end_time": "2021-04-01T17:41:05.288304Z",
     "start_time": "2021-04-01T17:40:59.705232Z"
    }
   },
   "outputs": [
    {
     "data": {
      "application/vnd.jupyter.widget-view+json": {
       "model_id": "b82ee325f3664e2dbeeaaf520c4ff972"
      },
      "text/html": [
       "<div>\n",
       "<style scoped>\n",
       "    .dataframe tbody tr th:only-of-type {\n",
       "        vertical-align: middle;\n",
       "    }\n",
       "\n",
       "    .dataframe tbody tr th {\n",
       "        vertical-align: top;\n",
       "    }\n",
       "\n",
       "    .dataframe thead th {\n",
       "        text-align: right;\n",
       "    }\n",
       "</style>\n",
       "<table border=\"1\" class=\"dataframe\">\n",
       "  <thead>\n",
       "    <tr style=\"text-align: right;\">\n",
       "      <th></th>\n",
       "      <th>count</th>\n",
       "      <th>unique</th>\n",
       "      <th>top</th>\n",
       "      <th>freq</th>\n",
       "    </tr>\n",
       "  </thead>\n",
       "  <tbody>\n",
       "    <tr>\n",
       "      <th>offense_date</th>\n",
       "      <td>1990315</td>\n",
       "      <td>11192</td>\n",
       "      <td>2013-03-26</td>\n",
       "      <td>1624</td>\n",
       "    </tr>\n",
       "    <tr>\n",
       "      <th>final_disposition</th>\n",
       "      <td>1933598</td>\n",
       "      <td>12</td>\n",
       "      <td>Guilty</td>\n",
       "      <td>873527</td>\n",
       "    </tr>\n",
       "    <tr>\n",
       "      <th>gender</th>\n",
       "      <td>1990315</td>\n",
       "      <td>2</td>\n",
       "      <td>Male</td>\n",
       "      <td>1496894</td>\n",
       "    </tr>\n",
       "    <tr>\n",
       "      <th>race</th>\n",
       "      <td>1987177</td>\n",
       "      <td>10</td>\n",
       "      <td>White Caucasian (Non-Hispanic)</td>\n",
       "      <td>987196</td>\n",
       "    </tr>\n",
       "    <tr>\n",
       "      <th>charge</th>\n",
       "      <td>1990311</td>\n",
       "      <td>201508</td>\n",
       "      <td>VIOL PROBATION ON FEL OFF</td>\n",
       "      <td>137303</td>\n",
       "    </tr>\n",
       "    <tr>\n",
       "      <th>charge_type</th>\n",
       "      <td>1990315</td>\n",
       "      <td>6</td>\n",
       "      <td>Felony</td>\n",
       "      <td>1388595</td>\n",
       "    </tr>\n",
       "    <tr>\n",
       "      <th>ammended_charge</th>\n",
       "      <td>167943</td>\n",
       "      <td>19377</td>\n",
       "      <td>PETIT LARCENY</td>\n",
       "      <td>7739</td>\n",
       "    </tr>\n",
       "  </tbody>\n",
       "</table>\n",
       "</div>"
      ],
      "text/plain": [
       "                     count  unique                             top     freq\n",
       "offense_date       1990315   11192                      2013-03-26     1624\n",
       "final_disposition  1933598      12                          Guilty   873527\n",
       "gender             1990315       2                            Male  1496894\n",
       "race               1987177      10  White Caucasian (Non-Hispanic)   987196\n",
       "charge             1990311  201508       VIOL PROBATION ON FEL OFF   137303\n",
       "charge_type        1990315       6                          Felony  1388595\n",
       "ammended_charge     167943   19377                   PETIT LARCENY     7739"
      ]
     },
     "metadata": {},
     "output_type": "display_data"
    }
   ],
   "source": [
    "# In this example, the data frame is described and [‘object’] is passed to include parameter\n",
    "# to see description of object series. [.20, .40, .60, .80] is passed to percentile parameter \n",
    "# to view the respective percentile of Numeric series.\n",
    "# see: https://www.geeksforgeeks.org/python-pandas-dataframe-describe-method/\n",
    "perc = [0.20, .40, .60, 0.80]\n",
    "include = ['object', 'float', 'int']\n",
    "df.describe(percentiles= perc, include=include).T"
   ]
  },
  {
   "cell_type": "markdown",
   "metadata": {},
   "source": []
  },
  {
   "cell_type": "markdown",
   "metadata": {},
   "source": [
    "## Data Cleaning"
   ]
  },
  {
   "cell_type": "code",
   "execution_count": 33,
   "metadata": {
    "ExecuteTime": {
     "end_time": "2021-04-01T17:41:06.970303Z",
     "start_time": "2021-04-01T17:41:05.353303Z"
    }
   },
   "outputs": [
    {
     "data": {
      "text/plain": [
       "person_id                  0\n",
       "offense_date               0\n",
       "final_disposition      56717\n",
       "fips                       0\n",
       "gender                     0\n",
       "race                    3138\n",
       "charge                     4\n",
       "charge_type                0\n",
       "ammended_charge      1822372\n",
       "dtype: int64"
      ]
     },
     "execution_count": 33,
     "metadata": {},
     "output_type": "execute_result"
    }
   ],
   "source": [
    "# number of na values in each column\n",
    "df.isna().sum()"
   ]
  },
  {
   "cell_type": "markdown",
   "metadata": {},
   "source": [
    "For our study, 'personId', 'offense_date', 'final_disposition', 'fips', 'race', 'gender', 'charge', 'fips_area' are mandatory columns.\n",
    "So removing all records where these field values are missing will be removed"
   ]
  },
  {
   "cell_type": "code",
   "execution_count": 34,
   "metadata": {
    "ExecuteTime": {
     "end_time": "2021-04-01T17:41:08.419303Z",
     "start_time": "2021-04-01T17:41:07.035304Z"
    }
   },
   "outputs": [],
   "source": [
    "df.dropna(axis=0, subset=['final_disposition'], inplace=True)\n",
    "df.dropna(axis=0, subset=['race'], inplace=True)"
   ]
  },
  {
   "cell_type": "code",
   "execution_count": 35,
   "metadata": {
    "ExecuteTime": {
     "end_time": "2021-04-01T17:41:10.050303Z",
     "start_time": "2021-04-01T17:41:08.484305Z"
    }
   },
   "outputs": [
    {
     "data": {
      "text/plain": [
       "person_id                  0\n",
       "offense_date               0\n",
       "final_disposition          0\n",
       "fips                       0\n",
       "gender                     0\n",
       "race                       0\n",
       "charge                     0\n",
       "charge_type                0\n",
       "ammended_charge      1763917\n",
       "dtype: int64"
      ]
     },
     "execution_count": 35,
     "metadata": {},
     "output_type": "execute_result"
    }
   ],
   "source": [
    "df.isna().sum()"
   ]
  },
  {
   "cell_type": "code",
   "execution_count": 36,
   "metadata": {},
   "outputs": [],
   "source": [
    "# for the moment we consider case_class as important field, so we will impute missing value 'unknown'\n",
    "df['ammended_charge'].fillna('unknown', inplace=True)"
   ]
  },
  {
   "cell_type": "code",
   "execution_count": 37,
   "metadata": {},
   "outputs": [
    {
     "data": {
      "text/plain": [
       "person_id            0\n",
       "offense_date         0\n",
       "final_disposition    0\n",
       "fips                 0\n",
       "gender               0\n",
       "race                 0\n",
       "charge               0\n",
       "charge_type          0\n",
       "ammended_charge      0\n",
       "dtype: int64"
      ]
     },
     "execution_count": 37,
     "metadata": {},
     "output_type": "execute_result"
    }
   ],
   "source": [
    "df.isna().sum()"
   ]
  },
  {
   "cell_type": "code",
   "execution_count": 38,
   "metadata": {},
   "outputs": [
    {
     "data": {
      "application/vnd.jupyter.widget-view+json": {
       "model_id": "8d0be40999a44c2797ea3570ed6ab4ca"
      },
      "text/html": [
       "<div>\n",
       "<style scoped>\n",
       "    .dataframe tbody tr th:only-of-type {\n",
       "        vertical-align: middle;\n",
       "    }\n",
       "\n",
       "    .dataframe tbody tr th {\n",
       "        vertical-align: top;\n",
       "    }\n",
       "\n",
       "    .dataframe thead th {\n",
       "        text-align: right;\n",
       "    }\n",
       "</style>\n",
       "<table border=\"1\" class=\"dataframe\">\n",
       "  <thead>\n",
       "    <tr style=\"text-align: right;\">\n",
       "      <th></th>\n",
       "      <th>index</th>\n",
       "    </tr>\n",
       "    <tr>\n",
       "      <th>isduplicate</th>\n",
       "      <th></th>\n",
       "    </tr>\n",
       "  </thead>\n",
       "  <tbody>\n",
       "    <tr>\n",
       "      <th>False</th>\n",
       "      <td>1646690</td>\n",
       "    </tr>\n",
       "    <tr>\n",
       "      <th>True</th>\n",
       "      <td>284323</td>\n",
       "    </tr>\n",
       "  </tbody>\n",
       "</table>\n",
       "</div>"
      ],
      "text/plain": [
       "               index\n",
       "isduplicate         \n",
       "False        1646690\n",
       "True          284323"
      ]
     },
     "metadata": {},
     "output_type": "display_data"
    }
   ],
   "source": [
    "duplicate_records = pd.DataFrame(df.duplicated(), columns=['isduplicate'])\n",
    "duplicate_records = duplicate_records.reset_index()\n",
    "duplicate_records.columns = [str(column) for column in duplicate_records.columns]\n",
    "duplicate_records.set_index('index')\n",
    "duplicate_records.groupby('isduplicate').count()"
   ]
  },
  {
   "cell_type": "markdown",
   "metadata": {},
   "source": [
    "Our dataset has 974935 duplicate records, so we purge these records from our dataset"
   ]
  },
  {
   "cell_type": "code",
   "execution_count": 26,
   "metadata": {
    "ExecuteTime": {
     "end_time": "2021-04-01T17:41:14.486303Z",
     "start_time": "2021-04-01T17:41:10.115304Z"
    }
   },
   "outputs": [
    {
     "data": {
      "text/plain": [
       "1638097"
      ]
     },
     "execution_count": 26,
     "metadata": {},
     "output_type": "execute_result"
    }
   ],
   "source": [
    "#drop duplicate records\n",
    "df = df.drop_duplicates(['person_id', 'offense_date', 'final_disposition', 'fips', 'race', 'gender', 'charge', 'ammended_charge'])\n",
    "len(df)"
   ]
  },
  {
   "cell_type": "markdown",
   "metadata": {},
   "source": [
    "df"
   ]
  },
  {
   "cell_type": "markdown",
   "metadata": {},
   "source": [
    "* We can see that hearing_date, fips, gender, charge_type and person_id do not have any missing data, however we need to address the missing data  for other columns.\n",
    "\n"
   ]
  },
  {
   "cell_type": "code",
   "execution_count": null,
   "metadata": {
    "ExecuteTime": {
     "end_time": "2021-04-01T17:41:15.785303Z",
     "start_time": "2021-04-01T17:41:14.550304Z"
    }
   },
   "outputs": [],
   "source": [
    "df.isna().sum()"
   ]
  },
  {
   "cell_type": "markdown",
   "metadata": {},
   "source": [
    "Per our domain expert if ammended_charge is reduced to **'DWI'** then the case is a candidate for expungement."
   ]
  },
  {
   "cell_type": "code",
   "execution_count": null,
   "metadata": {},
   "outputs": [],
   "source": [
    "dwi_ammended_charge_df =  df [df.ammended_charge.str.contains('DWI') == True]\n",
    "len(dwi_ammended_charge_df)"
   ]
  },
  {
   "cell_type": "markdown",
   "metadata": {},
   "source": [
    "Our aim is to derive the cadidate cases for expungement based on hearing_results, let us examine the uniuqe values for hearing_result"
   ]
  },
  {
   "cell_type": "code",
   "execution_count": null,
   "metadata": {
    "ExecuteTime": {
     "end_time": "2021-04-01T17:43:07.922217Z",
     "start_time": "2021-04-01T17:43:07.386929Z"
    }
   },
   "outputs": [],
   "source": [
    "# top 15 hearing results\n",
    "hearing_result_counts = df['final_disposition'].value_counts()\n",
    "subset = hearing_result_counts[:15]\n",
    "sns.barplot(y=subset.index, x=subset.values)"
   ]
  },
  {
   "cell_type": "code",
   "execution_count": null,
   "metadata": {
    "ExecuteTime": {
     "end_time": "2021-04-01T17:43:25.868642Z",
     "start_time": "2021-04-01T17:43:25.055419Z"
    }
   },
   "outputs": [],
   "source": [
    "# to 15 hearing results by gender\n",
    "df_result_bygendger = df.groupby(['final_disposition', 'gender'])\\\n",
    "                        .size()\\\n",
    "                        .unstack()\\\n",
    "                        .fillna(0)\\\n",
    "                        .sort_values(['Female', 'Male'], ascending=False)\n",
    "df_stacked = df_result_bygendger.head(15).stack()\n",
    "df_stacked.name = 'total'\n",
    "df_stacked= df_stacked.reset_index()\n",
    "sns.barplot(x='total', y='final_disposition', hue='gender', data= df_stacked)"
   ]
  },
  {
   "cell_type": "markdown",
   "metadata": {},
   "source": [
    "## Preprocessing Data"
   ]
  },
  {
   "cell_type": "markdown",
   "metadata": {},
   "source": [
    "### Adding fips_area name column"
   ]
  },
  {
   "cell_type": "code",
   "execution_count": null,
   "metadata": {},
   "outputs": [],
   "source": [
    "#load fips code table\n",
    "fips_file = 'reference-data/va-fips-codes.csv'\n",
    "fips_df = pd.read_csv(fips_file)\n",
    "fips_df = fips_df[['CountyFIPSCode', 'GUName']]\n",
    "fips_df"
   ]
  },
  {
   "cell_type": "code",
   "execution_count": null,
   "metadata": {},
   "outputs": [],
   "source": [
    "#add fips_GUName\n",
    "df = pd.merge(df,fips_df,left_on='fips', right_on='CountyFIPSCode',  how='left')\\\n",
    "    .drop(columns=['CountyFIPSCode'], axis=1)\\\n",
    "    .rename(columns={'GUName': 'fips_area'})\n",
    "df"
   ]
  },
  {
   "cell_type": "markdown",
   "metadata": {},
   "source": [
    "## Identifying the candidates for case expungement"
   ]
  },
  {
   "cell_type": "markdown",
   "metadata": {},
   "source": [
    "Assumptions maded based on domain expert input:\n",
    "1. If the final_disposition is any the following values 'Dismissed','Noile Prosequi','Not Guilty', 'Withdrawn', 'Not Found', 'No Indictment Presented', 'No Longer Under Advisement', 'Not True Bill' then the case is candidate for expungement.\n",
    "2. **TODO:** If the charges are ammended to DWI then also it can be a candidate for expungement if the person does not have any prior felony charges \n"
   ]
  },
  {
   "cell_type": "code",
   "execution_count": null,
   "metadata": {},
   "outputs": [],
   "source": [
    "cand_list =['Dismissed','Noile Prosequi','Not Guilty', 'Withdrawn', 'Not Found', 'No Indictment Presented', 'No Longer Under Advisement', 'Not True Bill']"
   ]
  },
  {
   "cell_type": "code",
   "execution_count": null,
   "metadata": {},
   "outputs": [],
   "source": [
    "df['candidate'] = [1 if x in cand_list else 0 for x in df['final_disposition']]"
   ]
  },
  {
   "cell_type": "code",
   "execution_count": 14,
   "metadata": {
    "scrolled": true,
    "tags": []
   },
   "outputs": [
    {
     "data": {
      "application/vnd.jupyter.widget-view+json": {
       "model_id": "38c0fa1c4acf4f6b9d27ba9358d8168e"
      },
      "text/html": [
       "<div>\n",
       "<style scoped>\n",
       "    .dataframe tbody tr th:only-of-type {\n",
       "        vertical-align: middle;\n",
       "    }\n",
       "\n",
       "    .dataframe tbody tr th {\n",
       "        vertical-align: top;\n",
       "    }\n",
       "\n",
       "    .dataframe thead th {\n",
       "        text-align: right;\n",
       "    }\n",
       "</style>\n",
       "<table border=\"1\" class=\"dataframe\">\n",
       "  <thead>\n",
       "    <tr style=\"text-align: right;\">\n",
       "      <th></th>\n",
       "      <th>person_id</th>\n",
       "      <th>offense_date</th>\n",
       "      <th>final_disposition</th>\n",
       "      <th>fips</th>\n",
       "      <th>gender</th>\n",
       "      <th>race</th>\n",
       "      <th>charge</th>\n",
       "      <th>charge_type</th>\n",
       "      <th>ammended_charge</th>\n",
       "    </tr>\n",
       "  </thead>\n",
       "  <tbody>\n",
       "    <tr>\n",
       "      <th>0</th>\n",
       "      <td>152051000000121</td>\n",
       "      <td>2007-01-09</td>\n",
       "      <td>Nolle Prosequi</td>\n",
       "      <td>99</td>\n",
       "      <td>Female</td>\n",
       "      <td>White Caucasian (Non-Hispanic)</td>\n",
       "      <td>FAILURE TO APPEAR</td>\n",
       "      <td>Felony</td>\n",
       "      <td>NaN</td>\n",
       "    </tr>\n",
       "    <tr>\n",
       "      <th>1</th>\n",
       "      <td>152051000000121</td>\n",
       "      <td>2007-01-09</td>\n",
       "      <td>Nolle Prosequi</td>\n",
       "      <td>99</td>\n",
       "      <td>Female</td>\n",
       "      <td>White Caucasian (Non-Hispanic)</td>\n",
       "      <td>FAILURE TO APPEAR</td>\n",
       "      <td>Felony</td>\n",
       "      <td>NaN</td>\n",
       "    </tr>\n",
       "    <tr>\n",
       "      <th>2</th>\n",
       "      <td>152051000000121</td>\n",
       "      <td>2007-01-09</td>\n",
       "      <td>Nolle Prosequi</td>\n",
       "      <td>99</td>\n",
       "      <td>Female</td>\n",
       "      <td>White Caucasian (Non-Hispanic)</td>\n",
       "      <td>FAILURE TO APPEAR</td>\n",
       "      <td>Felony</td>\n",
       "      <td>NaN</td>\n",
       "    </tr>\n",
       "    <tr>\n",
       "      <th>3</th>\n",
       "      <td>152051000000121</td>\n",
       "      <td>2007-01-09</td>\n",
       "      <td>Nolle Prosequi</td>\n",
       "      <td>99</td>\n",
       "      <td>Female</td>\n",
       "      <td>White Caucasian (Non-Hispanic)</td>\n",
       "      <td>FAILURE TO APPEAR</td>\n",
       "      <td>Felony</td>\n",
       "      <td>NaN</td>\n",
       "    </tr>\n",
       "    <tr>\n",
       "      <th>4</th>\n",
       "      <td>152051000000121</td>\n",
       "      <td>2006-12-13</td>\n",
       "      <td>Sentence/Probation Revoked</td>\n",
       "      <td>99</td>\n",
       "      <td>Female</td>\n",
       "      <td>White Caucasian (Non-Hispanic)</td>\n",
       "      <td>FAIL COMPLY W/ COND SUSP SENT</td>\n",
       "      <td>Felony</td>\n",
       "      <td>NaN</td>\n",
       "    </tr>\n",
       "    <tr>\n",
       "      <th>...</th>\n",
       "      <td>...</td>\n",
       "      <td>...</td>\n",
       "      <td>...</td>\n",
       "      <td>...</td>\n",
       "      <td>...</td>\n",
       "      <td>...</td>\n",
       "      <td>...</td>\n",
       "      <td>...</td>\n",
       "      <td>...</td>\n",
       "    </tr>\n",
       "    <tr>\n",
       "      <th>1990310</th>\n",
       "      <td>30150000000657</td>\n",
       "      <td>2018-04-16</td>\n",
       "      <td>Guilty</td>\n",
       "      <td>89</td>\n",
       "      <td>Male</td>\n",
       "      <td>White</td>\n",
       "      <td>B&amp;E DWELL W/ARMED DEADLY WPN</td>\n",
       "      <td>Felony</td>\n",
       "      <td>ENT W/INT INTERFERE</td>\n",
       "    </tr>\n",
       "    <tr>\n",
       "      <th>1990311</th>\n",
       "      <td>30150000000657</td>\n",
       "      <td>2018-04-16</td>\n",
       "      <td>Guilty</td>\n",
       "      <td>89</td>\n",
       "      <td>Male</td>\n",
       "      <td>White</td>\n",
       "      <td>A&amp;B FAM/HH MEMB</td>\n",
       "      <td>Misdemeanor</td>\n",
       "      <td>NaN</td>\n",
       "    </tr>\n",
       "    <tr>\n",
       "      <th>1990312</th>\n",
       "      <td>347070000000282</td>\n",
       "      <td>2018-11-30</td>\n",
       "      <td>Dismissed</td>\n",
       "      <td>89</td>\n",
       "      <td>Male</td>\n",
       "      <td>Black</td>\n",
       "      <td>BOND APPEAL</td>\n",
       "      <td>Other (Animal Violations, Bond Appeals)</td>\n",
       "      <td>NaN</td>\n",
       "    </tr>\n",
       "    <tr>\n",
       "      <th>1990313</th>\n",
       "      <td>131071000000437</td>\n",
       "      <td>2018-11-10</td>\n",
       "      <td>Guilty</td>\n",
       "      <td>89</td>\n",
       "      <td>Female</td>\n",
       "      <td>White</td>\n",
       "      <td>SHOPLIFT 3RD/SUB</td>\n",
       "      <td>Felony</td>\n",
       "      <td>NaN</td>\n",
       "    </tr>\n",
       "    <tr>\n",
       "      <th>1990314</th>\n",
       "      <td>131071000000437</td>\n",
       "      <td>2018-11-10</td>\n",
       "      <td>Guilty</td>\n",
       "      <td>89</td>\n",
       "      <td>Female</td>\n",
       "      <td>White</td>\n",
       "      <td>SHOPLIFT 3RD/SUB</td>\n",
       "      <td>Felony</td>\n",
       "      <td>NaN</td>\n",
       "    </tr>\n",
       "  </tbody>\n",
       "</table>\n",
       "<p>1990315 rows × 9 columns</p>\n",
       "</div>"
      ],
      "text/plain": [
       "               person_id offense_date           final_disposition  fips  \\\n",
       "0        152051000000121   2007-01-09              Nolle Prosequi    99   \n",
       "1        152051000000121   2007-01-09              Nolle Prosequi    99   \n",
       "2        152051000000121   2007-01-09              Nolle Prosequi    99   \n",
       "3        152051000000121   2007-01-09              Nolle Prosequi    99   \n",
       "4        152051000000121   2006-12-13  Sentence/Probation Revoked    99   \n",
       "...                  ...          ...                         ...   ...   \n",
       "1990310   30150000000657   2018-04-16                      Guilty    89   \n",
       "1990311   30150000000657   2018-04-16                      Guilty    89   \n",
       "1990312  347070000000282   2018-11-30                   Dismissed    89   \n",
       "1990313  131071000000437   2018-11-10                      Guilty    89   \n",
       "1990314  131071000000437   2018-11-10                      Guilty    89   \n",
       "\n",
       "         gender                            race  \\\n",
       "0        Female  White Caucasian (Non-Hispanic)   \n",
       "1        Female  White Caucasian (Non-Hispanic)   \n",
       "2        Female  White Caucasian (Non-Hispanic)   \n",
       "3        Female  White Caucasian (Non-Hispanic)   \n",
       "4        Female  White Caucasian (Non-Hispanic)   \n",
       "...         ...                             ...   \n",
       "1990310    Male                           White   \n",
       "1990311    Male                           White   \n",
       "1990312    Male                           Black   \n",
       "1990313  Female                           White   \n",
       "1990314  Female                           White   \n",
       "\n",
       "                                charge  \\\n",
       "0                    FAILURE TO APPEAR   \n",
       "1                    FAILURE TO APPEAR   \n",
       "2                    FAILURE TO APPEAR   \n",
       "3                    FAILURE TO APPEAR   \n",
       "4        FAIL COMPLY W/ COND SUSP SENT   \n",
       "...                                ...   \n",
       "1990310   B&E DWELL W/ARMED DEADLY WPN   \n",
       "1990311                A&B FAM/HH MEMB   \n",
       "1990312                    BOND APPEAL   \n",
       "1990313               SHOPLIFT 3RD/SUB   \n",
       "1990314               SHOPLIFT 3RD/SUB   \n",
       "\n",
       "                                     charge_type      ammended_charge  \n",
       "0                                         Felony                  NaN  \n",
       "1                                         Felony                  NaN  \n",
       "2                                         Felony                  NaN  \n",
       "3                                         Felony                  NaN  \n",
       "4                                         Felony                  NaN  \n",
       "...                                          ...                  ...  \n",
       "1990310                                   Felony  ENT W/INT INTERFERE  \n",
       "1990311                              Misdemeanor                  NaN  \n",
       "1990312  Other (Animal Violations, Bond Appeals)                  NaN  \n",
       "1990313                                   Felony                  NaN  \n",
       "1990314                                   Felony                  NaN  \n",
       "\n",
       "[1990315 rows x 9 columns]"
      ]
     },
     "metadata": {},
     "output_type": "display_data"
    }
   ],
   "source": [
    "df"
   ]
  },
  {
   "cell_type": "code",
   "execution_count": null,
   "metadata": {},
   "outputs": [],
   "source": [
    "df.groupby(['candidate']).count().head()"
   ]
  },
  {
   "cell_type": "code",
   "execution_count": null,
   "metadata": {},
   "outputs": [],
   "source": [
    "df.groupby(['candidate','race','gender']).count()"
   ]
  },
  {
   "cell_type": "code",
   "execution_count": null,
   "metadata": {},
   "outputs": [],
   "source": [
    "df.to_csv(\n",
    "    PROCESSED_PATH + \"district_court_2009_2019_cleansed.csv.gz\",\n",
    "    index=False,\n",
    "    compression=\"gzip\",\n",
    "    header=True,\n",
    "    quotechar='\"',\n",
    "    doublequote=True,\n",
    "    line_terminator=\"\\n\",\n",
    ")"
   ]
  },
  {
   "cell_type": "code",
   "execution_count": null,
   "metadata": {},
   "outputs": [],
   "source": [
    "delete_file(PROCESSED_PATH + \"district_court_2009_2019.csv.gz\")"
   ]
  },
  {
   "cell_type": "code",
   "execution_count": null,
   "metadata": {},
   "outputs": [],
   "source": [
    "#!jupyter nbconvert va_circuit_court_eda.ipynb --to pdf"
   ]
  }
 ],
 "metadata": {
  "kernelspec": {
   "display_name": "Python 3",
   "language": "python",
   "name": "python3"
  },
  "language_info": {
   "codemirror_mode": {
    "name": "ipython",
    "version": 3
   },
   "file_extension": ".py",
   "mimetype": "text/x-python",
   "name": "python",
   "nbconvert_exporter": "python",
   "pygments_lexer": "ipython3",
   "version": "3.8.8"
  },
  "toc": {
   "base_numbering": 1,
   "nav_menu": {},
   "number_sections": true,
   "sideBar": true,
   "skip_h1_title": false,
   "title_cell": "Table of Contents",
   "title_sidebar": "Contents",
   "toc_cell": false,
   "toc_position": {},
   "toc_section_display": true,
   "toc_window_display": false
  },
  "varInspector": {
   "cols": {
    "lenName": 16,
    "lenType": 16,
    "lenVar": 40
   },
   "kernels_config": {
    "python": {
     "delete_cmd_postfix": "",
     "delete_cmd_prefix": "del ",
     "library": "var_list.py",
     "varRefreshCmd": "print(var_dic_list())"
    },
    "r": {
     "delete_cmd_postfix": ") ",
     "delete_cmd_prefix": "rm(",
     "library": "var_list.r",
     "varRefreshCmd": "cat(var_dic_list()) "
    }
   },
   "types_to_exclude": [
    "module",
    "function",
    "builtin_function_or_method",
    "instance",
    "_Feature"
   ],
   "window_display": false
  }
 },
 "nbformat": 4,
 "nbformat_minor": 4
}
