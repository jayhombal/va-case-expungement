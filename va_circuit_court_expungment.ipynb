{
 "cells": [
  {
   "cell_type": "markdown",
   "metadata": {},
   "source": [
    " #  Virginia Expungement Data Science Project "
   ]
  },
  {
   "cell_type": "markdown",
   "metadata": {},
   "source": [
    "## DS 5559 - Big Data Analytics\n",
    "* PaulHicks pdh2d\n",
    "* Mrityunjaya (Jay) Hombal mh4ey\n",
    "* Sudhanshu Luthras l3zs\n",
    "* Mahew Dakolios mrd7f "
   ]
  },
  {
   "cell_type": "markdown",
   "metadata": {},
   "source": [
    "## Research Question / Hypothesis\n",
    "\n",
    "The broad problem: In Virginia, if someone is charged (not necessarily convicted, just charged) with a crime (either felony or misdemeanor), they end up with a criminal record that can be found by criminal background checks that employers run when hiring, landlords run when searching for renters, and banks run when deciding whether to issue a loan. So, having a criminal record can keep a person from a job, housing, and financial opportunity. In effect, this situation creates a permanent underclass in society. Criminal record EXPUNGMENT means that the state courts legally hide these records from other members of the public, so that they no longer are findable by criminal background checks. Currently, records are only expungable if a person was never convicted, and records are only expunged after a long and costly bureaucratic process. That's changing however: in the current legislative session happening right now there are several bills under consideration to expand what is expungable and to make expungement automatic for people with certain kinds of records. Still, there are many unaddressed questions about the nature of expungement and law enforcement (see below for the LAJC's questions), and limitations on the data that can be used to answer these questions.\n",
    "\n"
   ]
  },
  {
   "cell_type": "markdown",
   "metadata": {},
   "source": [
    "## Setup"
   ]
  },
  {
   "cell_type": "code",
   "execution_count": 168,
   "metadata": {
    "ExecuteTime": {
     "end_time": "2021-04-06T12:15:46.421017Z",
     "start_time": "2021-04-06T12:15:46.145218Z"
    }
   },
   "outputs": [
    {
     "name": "stdout",
     "output_type": "stream",
     "text": [
      "VA file download script loaded!\n"
     ]
    }
   ],
   "source": [
    "# setup environment variables\n",
    "%run -i setup.py\n",
    "\n",
    "# load va file data load script\n",
    "%run  -i va_court_files_download.py"
   ]
  },
  {
   "cell_type": "code",
   "execution_count": 169,
   "metadata": {
    "ExecuteTime": {
     "end_time": "2021-04-06T12:15:47.455256Z",
     "start_time": "2021-04-06T12:15:46.783318Z"
    }
   },
   "outputs": [
    {
     "name": "stdout",
     "output_type": "stream",
     "text": [
      "Imports and display options set...\n"
     ]
    }
   ],
   "source": [
    "# NOTE: IF RUNNING ON RIVINNA set the RIVNNA FLAG to TRUE in settings.py file, default if False\n",
    "%run -i settings.py\n",
    "\n",
    "# load spark UDF functions\n",
    "%run -i utility-functions.py"
   ]
  },
  {
   "cell_type": "code",
   "execution_count": 3,
   "metadata": {
    "ExecuteTime": {
     "end_time": "2021-04-06T12:15:47.565256Z",
     "start_time": "2021-04-06T12:15:47.506256Z"
    }
   },
   "outputs": [],
   "source": [
    "# To auto-reload modules in jupyter notebook (so that changes in files *.py doesn't require manual reloading):\n",
    "# for auto-reloading external modules\n",
    "# see http://stackoverflow.com/questions/1907993/autoreload-of-modules-in-ipython\n",
    "%reload_ext autoreload\n",
    "%autoreload 2\n",
    "\n",
    "# you can now enable 2x images by just adding the line:\n",
    "# see: https://gist.github.com/minrk/3301035\n",
    "%config InlineBackend.figure_format = 'png'"
   ]
  },
  {
   "cell_type": "markdown",
   "metadata": {},
   "source": [
    "# Data Ingestion and Data Cleaning\n",
    "Download and Merge Circuit Court Records (10 years)"
   ]
  },
  {
   "cell_type": "code",
   "execution_count": 4,
   "metadata": {
    "ExecuteTime": {
     "end_time": "2021-04-06T12:16:26.825046Z",
     "start_time": "2021-04-06T12:15:48.814573Z"
    }
   },
   "outputs": [
    {
     "name": "stdout",
     "output_type": "stream",
     "text": [
      "data directory already existis, files will be deleted\n",
      "./data/circuit_court_2009_2019.csv.gz file does not exist!\n",
      "circuit court file download path : ./download-data/circuit\n",
      "directory does not exist\n",
      "download directory ./download-data/circuit created\n",
      "start circuit court files download...\n",
      "downloading file https://s3.amazonaws.com/virginia-court-data/circuit_criminal_2020_anon_SQYRXB.zip \n",
      "downloading file https://s3.amazonaws.com/virginia-court-data/circuit_criminal_2019_anon_8JMX4R.zip \n",
      "downloading file https://s3.amazonaws.com/virginia-court-data/circuit_criminal_2018_anon_1Y613I.zip \n",
      "downloading file https://s3.amazonaws.com/virginia-court-data/circuit_criminal_2017_anon_B9BUKQ.zip \n",
      "downloading file https://s3.amazonaws.com/virginia-court-data/circuit_criminal_2016_anon_HMVIZY.zip \n",
      "downloading file https://s3.amazonaws.com/virginia-court-data/circuit_criminal_2015_anon_1WMI7Q.zip \n",
      "downloading file https://s3.amazonaws.com/virginia-court-data/circuit_criminal_2014_anon_P2L0Y4.zip \n",
      "downloading file https://s3.amazonaws.com/virginia-court-data/circuit_criminal_2013_anon_1FOA9N.zip \n",
      "downloading file https://s3.amazonaws.com/virginia-court-data/circuit_criminal_2012_anon_Y6DBO7.zip \n",
      "downloading file https://s3.amazonaws.com/virginia-court-data/circuit_criminal_2011_anon_P928SU.zip \n",
      "circuit court files download is complete...\n",
      "Number of Circuit Court files: 11\n",
      "Deleting downloaded files from ./download-data/circuit\n",
      "\n",
      "Deleting file download staging directory ./download-data/circuit\n"
     ]
    }
   ],
   "source": [
    "# download and concat circuit court data from 2009 to 2019 into a dataset and persist to csv\n",
    "download_and_merge_court_data('circuit')"
   ]
  },
  {
   "cell_type": "markdown",
   "metadata": {},
   "source": [
    "## Load Merged Dataset"
   ]
  },
  {
   "cell_type": "code",
   "execution_count": 5,
   "metadata": {
    "ExecuteTime": {
     "end_time": "2021-04-04T14:38:15.424465Z",
     "start_time": "2021-04-04T14:38:12.947736Z"
    }
   },
   "outputs": [],
   "source": [
    "# Load merged circuit court file\n",
    "file = f'{BASE_DIR}/data/circuit_court_2009_2019.csv.gz'\n",
    "df = pd.read_csv(file, dtype = {\n",
    "        'person_id' : 'int64',\n",
    "        'offense_date' : 'object',\n",
    "        'final_disposition': 'object',\n",
    "        'fips': 'int64',\n",
    "        'gender' : 'object',\n",
    "        'race' : 'object',\n",
    "        'class' :'object',\n",
    "        'charge_type' :'object',\n",
    "        'ammended_charge_type' :'object'})"
   ]
  },
  {
   "cell_type": "code",
   "execution_count": 6,
   "metadata": {},
   "outputs": [
    {
     "name": "stdout",
     "output_type": "stream",
     "text": [
      "<class 'pandas.core.frame.DataFrame'>\n",
      "RangeIndex: 1867245 entries, 0 to 1867244\n",
      "Data columns (total 9 columns):\n",
      " #   Column                Dtype         \n",
      "---  ------                -----         \n",
      " 0   person_id             int64         \n",
      " 1   offense_date          datetime64[ns]\n",
      " 2   final_disposition     object        \n",
      " 3   fips                  int64         \n",
      " 4   gender                object        \n",
      " 5   race                  object        \n",
      " 6   class                 object        \n",
      " 7   charge_type           object        \n",
      " 8   ammended_charge_type  object        \n",
      "dtypes: datetime64[ns](1), int64(2), object(6)\n",
      "memory usage: 128.2+ MB\n"
     ]
    }
   ],
   "source": [
    "# If  error is 'coerce', then invalid parsing will be set as NaT\n",
    "df['offense_date'] = pd.to_datetime(df.offense_date, errors='coerce')\n",
    "df.info()"
   ]
  },
  {
   "cell_type": "code",
   "execution_count": 7,
   "metadata": {},
   "outputs": [
    {
     "data": {
      "text/html": [
       "<div>\n",
       "<style scoped>\n",
       "    .dataframe tbody tr th:only-of-type {\n",
       "        vertical-align: middle;\n",
       "    }\n",
       "\n",
       "    .dataframe tbody tr th {\n",
       "        vertical-align: top;\n",
       "    }\n",
       "\n",
       "    .dataframe thead th {\n",
       "        text-align: right;\n",
       "    }\n",
       "</style>\n",
       "<table border=\"1\" class=\"dataframe\">\n",
       "  <thead>\n",
       "    <tr style=\"text-align: right;\">\n",
       "      <th></th>\n",
       "      <th>person_id</th>\n",
       "      <th>offense_date</th>\n",
       "      <th>final_disposition</th>\n",
       "      <th>fips</th>\n",
       "      <th>gender</th>\n",
       "      <th>race</th>\n",
       "      <th>class</th>\n",
       "      <th>charge_type</th>\n",
       "      <th>ammended_charge_type</th>\n",
       "    </tr>\n",
       "  </thead>\n",
       "  <tbody>\n",
       "    <tr>\n",
       "      <th>325587</th>\n",
       "      <td>344190000000090</td>\n",
       "      <td>2015-12-27</td>\n",
       "      <td>Guilty</td>\n",
       "      <td>149</td>\n",
       "      <td>Male</td>\n",
       "      <td>Black (Non-Hispanic)</td>\n",
       "      <td>1</td>\n",
       "      <td>Misdemeanor</td>\n",
       "      <td>NaN</td>\n",
       "    </tr>\n",
       "    <tr>\n",
       "      <th>584718</th>\n",
       "      <td>337150000000643</td>\n",
       "      <td>2020-07-11</td>\n",
       "      <td>Resolved</td>\n",
       "      <td>85</td>\n",
       "      <td>Male</td>\n",
       "      <td>White</td>\n",
       "      <td>NaN</td>\n",
       "      <td>Other (Animal Violations, Bond Appeals)</td>\n",
       "      <td>NaN</td>\n",
       "    </tr>\n",
       "    <tr>\n",
       "      <th>642834</th>\n",
       "      <td>341150000000271</td>\n",
       "      <td>2008-04-09</td>\n",
       "      <td>Sentence/Probation Revoked</td>\n",
       "      <td>710</td>\n",
       "      <td>Male</td>\n",
       "      <td>Black (Non-Hispanic)</td>\n",
       "      <td>NaN</td>\n",
       "      <td>Misdemeanor</td>\n",
       "      <td>NaN</td>\n",
       "    </tr>\n",
       "    <tr>\n",
       "      <th>1785266</th>\n",
       "      <td>207010000000735</td>\n",
       "      <td>2019-01-17</td>\n",
       "      <td>Sentence/Probation Revoked</td>\n",
       "      <td>87</td>\n",
       "      <td>Male</td>\n",
       "      <td>White</td>\n",
       "      <td>U</td>\n",
       "      <td>Felony</td>\n",
       "      <td>NaN</td>\n",
       "    </tr>\n",
       "    <tr>\n",
       "      <th>70080</th>\n",
       "      <td>295120000000709</td>\n",
       "      <td>2012-04-30</td>\n",
       "      <td>Guilty</td>\n",
       "      <td>35</td>\n",
       "      <td>Male</td>\n",
       "      <td>White Caucasian (Non-Hispanic)</td>\n",
       "      <td>1</td>\n",
       "      <td>Misdemeanor</td>\n",
       "      <td>NaN</td>\n",
       "    </tr>\n",
       "  </tbody>\n",
       "</table>\n",
       "</div>"
      ],
      "text/plain": [
       "               person_id offense_date           final_disposition  fips  \\\n",
       "325587   344190000000090   2015-12-27                      Guilty   149   \n",
       "584718   337150000000643   2020-07-11                    Resolved    85   \n",
       "642834   341150000000271   2008-04-09  Sentence/Probation Revoked   710   \n",
       "1785266  207010000000735   2019-01-17  Sentence/Probation Revoked    87   \n",
       "70080    295120000000709   2012-04-30                      Guilty    35   \n",
       "\n",
       "        gender                            race class  \\\n",
       "325587    Male            Black (Non-Hispanic)     1   \n",
       "584718    Male                           White   NaN   \n",
       "642834    Male            Black (Non-Hispanic)   NaN   \n",
       "1785266   Male                           White     U   \n",
       "70080     Male  White Caucasian (Non-Hispanic)     1   \n",
       "\n",
       "                                     charge_type ammended_charge_type  \n",
       "325587                               Misdemeanor                  NaN  \n",
       "584718   Other (Animal Violations, Bond Appeals)                  NaN  \n",
       "642834                               Misdemeanor                  NaN  \n",
       "1785266                                   Felony                  NaN  \n",
       "70080                                Misdemeanor                  NaN  "
      ]
     },
     "execution_count": 7,
     "metadata": {},
     "output_type": "execute_result"
    }
   ],
   "source": [
    "df.sample(5)"
   ]
  },
  {
   "cell_type": "markdown",
   "metadata": {},
   "source": [
    "### Summary Statistics"
   ]
  },
  {
   "cell_type": "code",
   "execution_count": 8,
   "metadata": {
    "ExecuteTime": {
     "end_time": "2021-04-04T14:38:17.170775Z",
     "start_time": "2021-04-04T14:38:15.706300Z"
    }
   },
   "outputs": [
    {
     "data": {
      "text/html": [
       "<div>\n",
       "<style scoped>\n",
       "    .dataframe tbody tr th:only-of-type {\n",
       "        vertical-align: middle;\n",
       "    }\n",
       "\n",
       "    .dataframe tbody tr th {\n",
       "        vertical-align: top;\n",
       "    }\n",
       "\n",
       "    .dataframe thead th {\n",
       "        text-align: right;\n",
       "    }\n",
       "</style>\n",
       "<table border=\"1\" class=\"dataframe\">\n",
       "  <thead>\n",
       "    <tr style=\"text-align: right;\">\n",
       "      <th></th>\n",
       "      <th>count</th>\n",
       "      <th>unique</th>\n",
       "      <th>top</th>\n",
       "      <th>freq</th>\n",
       "      <th>mean</th>\n",
       "      <th>std</th>\n",
       "      <th>min</th>\n",
       "      <th>20%</th>\n",
       "      <th>40%</th>\n",
       "      <th>50%</th>\n",
       "      <th>60%</th>\n",
       "      <th>80%</th>\n",
       "      <th>max</th>\n",
       "    </tr>\n",
       "  </thead>\n",
       "  <tbody>\n",
       "    <tr>\n",
       "      <th>person_id</th>\n",
       "      <td>1867245.00</td>\n",
       "      <td>NaN</td>\n",
       "      <td>NaN</td>\n",
       "      <td>NaN</td>\n",
       "      <td>185324235976317.81</td>\n",
       "      <td>105288644046851.28</td>\n",
       "      <td>1000000000055.00</td>\n",
       "      <td>75021000000480.00</td>\n",
       "      <td>152070000000879.00</td>\n",
       "      <td>189130000000222.00</td>\n",
       "      <td>224011000000100.00</td>\n",
       "      <td>292170000000703.00</td>\n",
       "      <td>366251000000025.00</td>\n",
       "    </tr>\n",
       "    <tr>\n",
       "      <th>final_disposition</th>\n",
       "      <td>1758697</td>\n",
       "      <td>12</td>\n",
       "      <td>Guilty</td>\n",
       "      <td>777853</td>\n",
       "      <td>NaN</td>\n",
       "      <td>NaN</td>\n",
       "      <td>NaN</td>\n",
       "      <td>NaN</td>\n",
       "      <td>NaN</td>\n",
       "      <td>NaN</td>\n",
       "      <td>NaN</td>\n",
       "      <td>NaN</td>\n",
       "      <td>NaN</td>\n",
       "    </tr>\n",
       "    <tr>\n",
       "      <th>fips</th>\n",
       "      <td>1867245.00</td>\n",
       "      <td>NaN</td>\n",
       "      <td>NaN</td>\n",
       "      <td>NaN</td>\n",
       "      <td>335.91</td>\n",
       "      <td>298.20</td>\n",
       "      <td>1.00</td>\n",
       "      <td>75.00</td>\n",
       "      <td>153.00</td>\n",
       "      <td>175.00</td>\n",
       "      <td>195.00</td>\n",
       "      <td>710.00</td>\n",
       "      <td>840.00</td>\n",
       "    </tr>\n",
       "    <tr>\n",
       "      <th>gender</th>\n",
       "      <td>1867245</td>\n",
       "      <td>2</td>\n",
       "      <td>Male</td>\n",
       "      <td>1402330</td>\n",
       "      <td>NaN</td>\n",
       "      <td>NaN</td>\n",
       "      <td>NaN</td>\n",
       "      <td>NaN</td>\n",
       "      <td>NaN</td>\n",
       "      <td>NaN</td>\n",
       "      <td>NaN</td>\n",
       "      <td>NaN</td>\n",
       "      <td>NaN</td>\n",
       "    </tr>\n",
       "    <tr>\n",
       "      <th>race</th>\n",
       "      <td>1864473</td>\n",
       "      <td>10</td>\n",
       "      <td>White Caucasian (Non-Hispanic)</td>\n",
       "      <td>797958</td>\n",
       "      <td>NaN</td>\n",
       "      <td>NaN</td>\n",
       "      <td>NaN</td>\n",
       "      <td>NaN</td>\n",
       "      <td>NaN</td>\n",
       "      <td>NaN</td>\n",
       "      <td>NaN</td>\n",
       "      <td>NaN</td>\n",
       "      <td>NaN</td>\n",
       "    </tr>\n",
       "    <tr>\n",
       "      <th>class</th>\n",
       "      <td>1493687</td>\n",
       "      <td>8</td>\n",
       "      <td>U</td>\n",
       "      <td>764129</td>\n",
       "      <td>NaN</td>\n",
       "      <td>NaN</td>\n",
       "      <td>NaN</td>\n",
       "      <td>NaN</td>\n",
       "      <td>NaN</td>\n",
       "      <td>NaN</td>\n",
       "      <td>NaN</td>\n",
       "      <td>NaN</td>\n",
       "      <td>NaN</td>\n",
       "    </tr>\n",
       "    <tr>\n",
       "      <th>charge_type</th>\n",
       "      <td>1867245</td>\n",
       "      <td>6</td>\n",
       "      <td>Felony</td>\n",
       "      <td>1303564</td>\n",
       "      <td>NaN</td>\n",
       "      <td>NaN</td>\n",
       "      <td>NaN</td>\n",
       "      <td>NaN</td>\n",
       "      <td>NaN</td>\n",
       "      <td>NaN</td>\n",
       "      <td>NaN</td>\n",
       "      <td>NaN</td>\n",
       "      <td>NaN</td>\n",
       "    </tr>\n",
       "    <tr>\n",
       "      <th>ammended_charge_type</th>\n",
       "      <td>152232</td>\n",
       "      <td>5</td>\n",
       "      <td>Misdemeanor</td>\n",
       "      <td>91185</td>\n",
       "      <td>NaN</td>\n",
       "      <td>NaN</td>\n",
       "      <td>NaN</td>\n",
       "      <td>NaN</td>\n",
       "      <td>NaN</td>\n",
       "      <td>NaN</td>\n",
       "      <td>NaN</td>\n",
       "      <td>NaN</td>\n",
       "      <td>NaN</td>\n",
       "    </tr>\n",
       "  </tbody>\n",
       "</table>\n",
       "</div>"
      ],
      "text/plain": [
       "                          count unique                             top  \\\n",
       "person_id            1867245.00    NaN                             NaN   \n",
       "final_disposition       1758697     12                          Guilty   \n",
       "fips                 1867245.00    NaN                             NaN   \n",
       "gender                  1867245      2                            Male   \n",
       "race                    1864473     10  White Caucasian (Non-Hispanic)   \n",
       "class                   1493687      8                               U   \n",
       "charge_type             1867245      6                          Felony   \n",
       "ammended_charge_type     152232      5                     Misdemeanor   \n",
       "\n",
       "                         freq               mean                std  \\\n",
       "person_id                 NaN 185324235976317.81 105288644046851.28   \n",
       "final_disposition      777853                NaN                NaN   \n",
       "fips                      NaN             335.91             298.20   \n",
       "gender                1402330                NaN                NaN   \n",
       "race                   797958                NaN                NaN   \n",
       "class                  764129                NaN                NaN   \n",
       "charge_type           1303564                NaN                NaN   \n",
       "ammended_charge_type    91185                NaN                NaN   \n",
       "\n",
       "                                  min               20%                40%  \\\n",
       "person_id            1000000000055.00 75021000000480.00 152070000000879.00   \n",
       "final_disposition                 NaN               NaN                NaN   \n",
       "fips                             1.00             75.00             153.00   \n",
       "gender                            NaN               NaN                NaN   \n",
       "race                              NaN               NaN                NaN   \n",
       "class                             NaN               NaN                NaN   \n",
       "charge_type                       NaN               NaN                NaN   \n",
       "ammended_charge_type              NaN               NaN                NaN   \n",
       "\n",
       "                                    50%                60%                80%  \\\n",
       "person_id            189130000000222.00 224011000000100.00 292170000000703.00   \n",
       "final_disposition                   NaN                NaN                NaN   \n",
       "fips                             175.00             195.00             710.00   \n",
       "gender                              NaN                NaN                NaN   \n",
       "race                                NaN                NaN                NaN   \n",
       "class                               NaN                NaN                NaN   \n",
       "charge_type                         NaN                NaN                NaN   \n",
       "ammended_charge_type                NaN                NaN                NaN   \n",
       "\n",
       "                                    max  \n",
       "person_id            366251000000025.00  \n",
       "final_disposition                   NaN  \n",
       "fips                             840.00  \n",
       "gender                              NaN  \n",
       "race                                NaN  \n",
       "class                               NaN  \n",
       "charge_type                         NaN  \n",
       "ammended_charge_type                NaN  "
      ]
     },
     "execution_count": 8,
     "metadata": {},
     "output_type": "execute_result"
    }
   ],
   "source": [
    "# In this example, the data frame is described and [‘object’] is passed to include parameter\n",
    "# to see description of object series. [.20, .40, .60, .80] is passed to percentile parameter \n",
    "# to view the respective percentile of Numeric series.\n",
    "# see: https://www.geeksforgeeks.org/python-pandas-dataframe-describe-method/\n",
    "perc = [0.20, .40, .60, 0.80]\n",
    "include = ['object', 'float', 'int']\n",
    "df.describe(percentiles= perc, include=include).T"
   ]
  },
  {
   "cell_type": "markdown",
   "metadata": {},
   "source": [
    "**Observations:**  \n",
    "**TODO** - need to update \n",
    "* largest numbers of hearings on a given day - 2267 hearings were scheduled on 2019-05-06,\n",
    "* Max number of cases (987196) were filed White Caucasian (Non-Hispanic) race"
   ]
  },
  {
   "cell_type": "markdown",
   "metadata": {},
   "source": [
    "---"
   ]
  },
  {
   "cell_type": "markdown",
   "metadata": {},
   "source": [
    "## Data Cleaning"
   ]
  },
  {
   "cell_type": "markdown",
   "metadata": {},
   "source": [
    "### Check for missing values  \n",
    "\n",
    "Delete records with missing values for 'person_id', 'offense_date', 'final_disposition', 'fips', 'class', 'race', 'gender', 'charge_type'."
   ]
  },
  {
   "cell_type": "code",
   "execution_count": 9,
   "metadata": {
    "ExecuteTime": {
     "end_time": "2021-04-04T14:38:17.855481Z",
     "start_time": "2021-04-04T14:38:17.420587Z"
    }
   },
   "outputs": [
    {
     "data": {
      "text/plain": [
       "person_id                     0\n",
       "offense_date                  4\n",
       "final_disposition        108548\n",
       "fips                          0\n",
       "gender                        0\n",
       "race                       2772\n",
       "class                    373558\n",
       "charge_type                   0\n",
       "ammended_charge_type    1715013\n",
       "dtype: int64"
      ]
     },
     "execution_count": 9,
     "metadata": {},
     "output_type": "execute_result"
    }
   ],
   "source": [
    "# number of na values in each column\n",
    "df.isna().sum()"
   ]
  },
  {
   "cell_type": "code",
   "execution_count": 10,
   "metadata": {},
   "outputs": [
    {
     "name": "stdout",
     "output_type": "stream",
     "text": [
      "Num of records after cleaning missing data 1397985\n"
     ]
    }
   ],
   "source": [
    "df.dropna(axis=0,\\\n",
    "          subset=['offense_date', 'final_disposition','class', 'race', 'gender', 'charge_type'],\\\n",
    "          inplace=True)\n",
    "print(f\"Num of records after cleaning missing data {len(df)}\")"
   ]
  },
  {
   "cell_type": "markdown",
   "metadata": {},
   "source": [
    "### Remove duplicate race categories\n",
    "\n",
    "Following are the valid races from the data dictionary at https://medium.com/@virginiacourtdata/virginia-court-data-fields-e224a9a41e15#.qkeo5r6ds.\n",
    "\n",
    "[“American Indian”   \n",
    " “Asian Or Pacific Islander”   \n",
    " “Black (Non-Hispanic)”  \n",
    " “Hispanic”   \n",
    " “Other (Includes Not Applicable, Unknown)”  \n",
    " “White Caucasian (Non-Hispanic)” ]  \n",
    "\n",
    "The circuit-court data contains 'Black', 'white', 'nan' values, so we are making assumption the following assumptions\n",
    "\n",
    "1. The 'nan' value will be treated as missing value and will be imputed to \"Other (Includes Not Applicable, Unknown)\"  case\n",
    "2. The 'White' value will be treated as  'White Caucasian (Non-Hispanic)'\n",
    "3. The 'Black' value will be treated as  'White Caucasian (Non-Hispanic)'\n",
    "4. The 'Unkown' value will be treated as "
   ]
  },
  {
   "cell_type": "code",
   "execution_count": 11,
   "metadata": {
    "ExecuteTime": {
     "end_time": "2021-04-04T14:38:19.056970Z",
     "start_time": "2021-04-04T14:38:18.482290Z"
    }
   },
   "outputs": [
    {
     "data": {
      "text/plain": [
       "White Caucasian (Non-Hispanic)              815763\n",
       "Black (Non-Hispanic)                        554709\n",
       "Other (Includes Not Applicable, Unknown)     13917\n",
       "Hispanic                                      7811\n",
       "Asian Or Pacific Islander                     5155\n",
       "American Indian                                546\n",
       "American Indian Or Alaskan Native               84\n",
       "Name: race, dtype: int64"
      ]
     },
     "execution_count": 11,
     "metadata": {},
     "output_type": "execute_result"
    }
   ],
   "source": [
    "df.loc[df['race'] == 'White', 'race'] = 'White Caucasian (Non-Hispanic)' \n",
    "df.loc[df['race'] == 'Black', 'race'] = 'Black (Non-Hispanic)' \n",
    "df.loc[df['race'] == 'Unknown', 'race'] = 'Other (Includes Not Applicable, Unknown)'\n",
    "df.loc[df['race'].isna(), 'race'] = 'Other (Includes Not Applicable, Unknown)'\n",
    "df['race'].value_counts()"
   ]
  },
  {
   "cell_type": "markdown",
   "metadata": {},
   "source": [
    "### impute missing values in ammended_charge_type column"
   ]
  },
  {
   "cell_type": "code",
   "execution_count": 12,
   "metadata": {
    "ExecuteTime": {
     "end_time": "2021-04-04T14:38:21.479870Z",
     "start_time": "2021-04-04T14:38:21.356017Z"
    }
   },
   "outputs": [
    {
     "data": {
      "text/plain": [
       "unknown                                    1256285\n",
       "Misdemeanor                                  87085\n",
       "Felony                                       38428\n",
       "Infraction                                   16023\n",
       "Civil                                          161\n",
       "Other (Animal Violations, Bond Appeals)          3\n",
       "Name: ammended_charge_type, dtype: int64"
      ]
     },
     "execution_count": 12,
     "metadata": {},
     "output_type": "execute_result"
    }
   ],
   "source": [
    "#Possible values from doc metadata ChargeType “Civil” “F” “Felony” “Infraction” “Misdemeanor” “Other (Animal Violations, Bond Appeals)”\n",
    "df['ammended_charge_type'].fillna('unknown', inplace=True)\n",
    "df['ammended_charge_type'].value_counts()"
   ]
  },
  {
   "cell_type": "markdown",
   "metadata": {},
   "source": [
    "### Drop for duplicate records"
   ]
  },
  {
   "cell_type": "code",
   "execution_count": 13,
   "metadata": {},
   "outputs": [
    {
     "data": {
      "text/plain": [
       "False    1080679\n",
       "True      317306\n",
       "dtype: int64"
      ]
     },
     "execution_count": 13,
     "metadata": {},
     "output_type": "execute_result"
    }
   ],
   "source": [
    "df.duplicated().value_counts()"
   ]
  },
  {
   "cell_type": "markdown",
   "metadata": {},
   "source": [
    "**TODO:** Our dataset has X duplicate records, so we purge these records from our dataset"
   ]
  },
  {
   "cell_type": "code",
   "execution_count": 14,
   "metadata": {
    "ExecuteTime": {
     "end_time": "2021-04-04T14:38:25.382603Z",
     "start_time": "2021-04-04T14:38:24.665771Z"
    }
   },
   "outputs": [
    {
     "name": "stdout",
     "output_type": "stream",
     "text": [
      "Num of records after deleting duplicate records 943563\n"
     ]
    }
   ],
   "source": [
    "#drop duplicate records\n",
    "df = df.drop_duplicates(['person_id', 'offense_date', 'final_disposition', 'fips', 'race', 'gender', 'ammended_charge_type'])\n",
    "print(f\"Num of records after deleting duplicate records {len(df)}\")"
   ]
  },
  {
   "cell_type": "markdown",
   "metadata": {},
   "source": [
    "### Validate no column values are missing in the dataset"
   ]
  },
  {
   "cell_type": "code",
   "execution_count": 15,
   "metadata": {
    "ExecuteTime": {
     "end_time": "2021-04-04T14:38:23.275304Z",
     "start_time": "2021-04-04T14:38:22.946760Z"
    }
   },
   "outputs": [
    {
     "data": {
      "text/plain": [
       "person_id               0\n",
       "offense_date            0\n",
       "final_disposition       0\n",
       "fips                    0\n",
       "gender                  0\n",
       "race                    0\n",
       "class                   0\n",
       "charge_type             0\n",
       "ammended_charge_type    0\n",
       "dtype: int64"
      ]
     },
     "execution_count": 15,
     "metadata": {},
     "output_type": "execute_result"
    }
   ],
   "source": [
    "df.isna().sum()"
   ]
  },
  {
   "cell_type": "markdown",
   "metadata": {},
   "source": [
    "## Preprocessing Data"
   ]
  },
  {
   "cell_type": "markdown",
   "metadata": {},
   "source": [
    "### Adding fips_area name column"
   ]
  },
  {
   "cell_type": "markdown",
   "metadata": {},
   "source": [
    "**Note**: FIPS Code file that I am using has duplicates resulting in Cartesian product, for now commenting the code"
   ]
  },
  {
   "cell_type": "code",
   "execution_count": 16,
   "metadata": {
    "ExecuteTime": {
     "end_time": "2021-04-04T14:38:25.693707Z",
     "start_time": "2021-04-04T14:38:25.632739Z"
    }
   },
   "outputs": [
    {
     "data": {
      "text/html": [
       "<div>\n",
       "<style scoped>\n",
       "    .dataframe tbody tr th:only-of-type {\n",
       "        vertical-align: middle;\n",
       "    }\n",
       "\n",
       "    .dataframe tbody tr th {\n",
       "        vertical-align: top;\n",
       "    }\n",
       "\n",
       "    .dataframe thead th {\n",
       "        text-align: right;\n",
       "    }\n",
       "</style>\n",
       "<table border=\"1\" class=\"dataframe\">\n",
       "  <thead>\n",
       "    <tr style=\"text-align: right;\">\n",
       "      <th></th>\n",
       "      <th>fips</th>\n",
       "      <th>name</th>\n",
       "    </tr>\n",
       "  </thead>\n",
       "  <tbody>\n",
       "    <tr>\n",
       "      <th>0</th>\n",
       "      <td>1</td>\n",
       "      <td>Accomack Circuit Court</td>\n",
       "    </tr>\n",
       "    <tr>\n",
       "      <th>1</th>\n",
       "      <td>3</td>\n",
       "      <td>Albemarle Circuit Court</td>\n",
       "    </tr>\n",
       "    <tr>\n",
       "      <th>2</th>\n",
       "      <td>5</td>\n",
       "      <td>Alleghany Circuit Court</td>\n",
       "    </tr>\n",
       "    <tr>\n",
       "      <th>3</th>\n",
       "      <td>7</td>\n",
       "      <td>Amelia Circuit Court</td>\n",
       "    </tr>\n",
       "    <tr>\n",
       "      <th>4</th>\n",
       "      <td>9</td>\n",
       "      <td>Amherst Circuit Court</td>\n",
       "    </tr>\n",
       "    <tr>\n",
       "      <th>...</th>\n",
       "      <td>...</td>\n",
       "      <td>...</td>\n",
       "    </tr>\n",
       "    <tr>\n",
       "      <th>114</th>\n",
       "      <td>800</td>\n",
       "      <td>Suffolk Circuit Court</td>\n",
       "    </tr>\n",
       "    <tr>\n",
       "      <th>115</th>\n",
       "      <td>810</td>\n",
       "      <td>Virginia Beach Circuit Court</td>\n",
       "    </tr>\n",
       "    <tr>\n",
       "      <th>116</th>\n",
       "      <td>820</td>\n",
       "      <td>Waynesboro Circuit Court</td>\n",
       "    </tr>\n",
       "    <tr>\n",
       "      <th>117</th>\n",
       "      <td>830</td>\n",
       "      <td>Williamsburg/James City County Circuit Court</td>\n",
       "    </tr>\n",
       "    <tr>\n",
       "      <th>118</th>\n",
       "      <td>840</td>\n",
       "      <td>Winchester Circuit Court</td>\n",
       "    </tr>\n",
       "  </tbody>\n",
       "</table>\n",
       "<p>119 rows × 2 columns</p>\n",
       "</div>"
      ],
      "text/plain": [
       "     fips                                          name\n",
       "0       1                        Accomack Circuit Court\n",
       "1       3                       Albemarle Circuit Court\n",
       "2       5                       Alleghany Circuit Court\n",
       "3       7                          Amelia Circuit Court\n",
       "4       9                         Amherst Circuit Court\n",
       "..    ...                                           ...\n",
       "114   800                         Suffolk Circuit Court\n",
       "115   810                  Virginia Beach Circuit Court\n",
       "116   820                      Waynesboro Circuit Court\n",
       "117   830  Williamsburg/James City County Circuit Court\n",
       "118   840                      Winchester Circuit Court\n",
       "\n",
       "[119 rows x 2 columns]"
      ]
     },
     "execution_count": 16,
     "metadata": {},
     "output_type": "execute_result"
    }
   ],
   "source": [
    "#load fips code table\n",
    "fips_file = 'reference-data/va-fips-codes.csv'\n",
    "fips_df = pd.read_csv(fips_file)\n",
    "fips_df"
   ]
  },
  {
   "cell_type": "code",
   "execution_count": 17,
   "metadata": {},
   "outputs": [
    {
     "data": {
      "text/html": [
       "<div>\n",
       "<style scoped>\n",
       "    .dataframe tbody tr th:only-of-type {\n",
       "        vertical-align: middle;\n",
       "    }\n",
       "\n",
       "    .dataframe tbody tr th {\n",
       "        vertical-align: top;\n",
       "    }\n",
       "\n",
       "    .dataframe thead th {\n",
       "        text-align: right;\n",
       "    }\n",
       "</style>\n",
       "<table border=\"1\" class=\"dataframe\">\n",
       "  <thead>\n",
       "    <tr style=\"text-align: right;\">\n",
       "      <th></th>\n",
       "      <th>person_id</th>\n",
       "      <th>offense_date</th>\n",
       "      <th>final_disposition</th>\n",
       "      <th>fips</th>\n",
       "      <th>gender</th>\n",
       "      <th>race</th>\n",
       "      <th>class</th>\n",
       "      <th>charge_type</th>\n",
       "      <th>ammended_charge_type</th>\n",
       "      <th>fips_area</th>\n",
       "    </tr>\n",
       "  </thead>\n",
       "  <tbody>\n",
       "    <tr>\n",
       "      <th>381631</th>\n",
       "      <td>85021000000131</td>\n",
       "      <td>2017-10-15</td>\n",
       "      <td>Nolle Prosequi</td>\n",
       "      <td>810</td>\n",
       "      <td>Female</td>\n",
       "      <td>Black (Non-Hispanic)</td>\n",
       "      <td>1</td>\n",
       "      <td>Misdemeanor</td>\n",
       "      <td>unknown</td>\n",
       "      <td>Virginia Beach Circuit Court</td>\n",
       "    </tr>\n",
       "    <tr>\n",
       "      <th>556987</th>\n",
       "      <td>171151000000024</td>\n",
       "      <td>2014-08-26</td>\n",
       "      <td>Guilty</td>\n",
       "      <td>153</td>\n",
       "      <td>Female</td>\n",
       "      <td>White Caucasian (Non-Hispanic)</td>\n",
       "      <td>U</td>\n",
       "      <td>Infraction</td>\n",
       "      <td>unknown</td>\n",
       "      <td>Prince William Circuit Court</td>\n",
       "    </tr>\n",
       "    <tr>\n",
       "      <th>372732</th>\n",
       "      <td>200010000000309</td>\n",
       "      <td>2018-08-30</td>\n",
       "      <td>Sentence/Probation Revoked</td>\n",
       "      <td>139</td>\n",
       "      <td>Male</td>\n",
       "      <td>White Caucasian (Non-Hispanic)</td>\n",
       "      <td>U</td>\n",
       "      <td>Felony</td>\n",
       "      <td>unknown</td>\n",
       "      <td>Page Circuit Court</td>\n",
       "    </tr>\n",
       "    <tr>\n",
       "      <th>894434</th>\n",
       "      <td>210030000000463</td>\n",
       "      <td>2008-09-01</td>\n",
       "      <td>Guilty</td>\n",
       "      <td>153</td>\n",
       "      <td>Male</td>\n",
       "      <td>White Caucasian (Non-Hispanic)</td>\n",
       "      <td>U</td>\n",
       "      <td>Felony</td>\n",
       "      <td>unknown</td>\n",
       "      <td>Prince William Circuit Court</td>\n",
       "    </tr>\n",
       "    <tr>\n",
       "      <th>436016</th>\n",
       "      <td>139100000000169</td>\n",
       "      <td>2001-03-21</td>\n",
       "      <td>Guilty</td>\n",
       "      <td>9</td>\n",
       "      <td>Male</td>\n",
       "      <td>Black (Non-Hispanic)</td>\n",
       "      <td>2</td>\n",
       "      <td>Felony</td>\n",
       "      <td>unknown</td>\n",
       "      <td>Amherst Circuit Court</td>\n",
       "    </tr>\n",
       "  </tbody>\n",
       "</table>\n",
       "</div>"
      ],
      "text/plain": [
       "              person_id offense_date           final_disposition  fips  \\\n",
       "381631   85021000000131   2017-10-15              Nolle Prosequi   810   \n",
       "556987  171151000000024   2014-08-26                      Guilty   153   \n",
       "372732  200010000000309   2018-08-30  Sentence/Probation Revoked   139   \n",
       "894434  210030000000463   2008-09-01                      Guilty   153   \n",
       "436016  139100000000169   2001-03-21                      Guilty     9   \n",
       "\n",
       "        gender                            race class  charge_type  \\\n",
       "381631  Female            Black (Non-Hispanic)     1  Misdemeanor   \n",
       "556987  Female  White Caucasian (Non-Hispanic)     U   Infraction   \n",
       "372732    Male  White Caucasian (Non-Hispanic)     U       Felony   \n",
       "894434    Male  White Caucasian (Non-Hispanic)     U       Felony   \n",
       "436016    Male            Black (Non-Hispanic)     2       Felony   \n",
       "\n",
       "       ammended_charge_type                     fips_area  \n",
       "381631              unknown  Virginia Beach Circuit Court  \n",
       "556987              unknown  Prince William Circuit Court  \n",
       "372732              unknown            Page Circuit Court  \n",
       "894434              unknown  Prince William Circuit Court  \n",
       "436016              unknown         Amherst Circuit Court  "
      ]
     },
     "execution_count": 17,
     "metadata": {},
     "output_type": "execute_result"
    }
   ],
   "source": [
    "df = pd.merge(df,fips_df, on='fips', how='left')\\\n",
    "    .rename(columns={'name': 'fips_area'})\n",
    "df.sample(5)"
   ]
  },
  {
   "cell_type": "markdown",
   "metadata": {},
   "source": [
    "### Drop cases other than 'Felony' and 'Misdemeanor'"
   ]
  },
  {
   "cell_type": "code",
   "execution_count": 18,
   "metadata": {},
   "outputs": [],
   "source": [
    "df = df[df.charge_type.isin(['Felony', 'Misdemeanor'])]"
   ]
  },
  {
   "cell_type": "markdown",
   "metadata": {},
   "source": [
    "**TODO:** If the charges are ammended to DWI then also it can be a candidate for expungement if the person does not have any prior felony charges "
   ]
  },
  {
   "cell_type": "markdown",
   "metadata": {},
   "source": [
    "### Saving Cleaned Data & Delete the large Merged File"
   ]
  },
  {
   "cell_type": "code",
   "execution_count": 19,
   "metadata": {
    "ExecuteTime": {
     "end_time": "2021-04-04T14:39:13.836590Z",
     "start_time": "2021-04-04T14:39:06.608024Z"
    }
   },
   "outputs": [],
   "source": [
    "df.to_csv(\n",
    "    PROCESSED_PATH + \"circuit_court_2009_2019_cleansed.csv.gz\",\n",
    "    index=False,\n",
    "    compression=\"gzip\",\n",
    "    header=True,\n",
    "    quotechar='\"',\n",
    "    doublequote=True,\n",
    "    line_terminator=\"\\n\",\n",
    ")"
   ]
  },
  {
   "cell_type": "markdown",
   "metadata": {},
   "source": [
    "---"
   ]
  },
  {
   "cell_type": "markdown",
   "metadata": {},
   "source": [
    "# Exploratory Data Analysis"
   ]
  },
  {
   "cell_type": "markdown",
   "metadata": {},
   "source": [
    "**Note to Team:** You can execute the above code once and start from Exploratory Data Analysis, execute first three lines"
   ]
  },
  {
   "cell_type": "code",
   "execution_count": 20,
   "metadata": {
    "ExecuteTime": {
     "end_time": "2021-04-04T14:39:15.785893Z",
     "start_time": "2021-04-04T14:39:14.136876Z"
    }
   },
   "outputs": [],
   "source": [
    "# Load the cleaned data file\n",
    "file = f'{BASE_DIR}/data/circuit_court_2009_2019_cleansed.csv.gz'\n",
    "cleansed_df = pd.read_csv(file, parse_dates =['offense_date'])\n",
    "cleansed_df.head(5)\n",
    "df = cleansed_df"
   ]
  },
  {
   "cell_type": "code",
   "execution_count": 21,
   "metadata": {
    "ExecuteTime": {
     "end_time": "2021-04-04T14:39:16.146009Z",
     "start_time": "2021-04-04T14:39:16.084703Z"
    }
   },
   "outputs": [
    {
     "data": {
      "text/html": [
       "<div>\n",
       "<style scoped>\n",
       "    .dataframe tbody tr th:only-of-type {\n",
       "        vertical-align: middle;\n",
       "    }\n",
       "\n",
       "    .dataframe tbody tr th {\n",
       "        vertical-align: top;\n",
       "    }\n",
       "\n",
       "    .dataframe thead th {\n",
       "        text-align: right;\n",
       "    }\n",
       "</style>\n",
       "<table border=\"1\" class=\"dataframe\">\n",
       "  <thead>\n",
       "    <tr style=\"text-align: right;\">\n",
       "      <th></th>\n",
       "      <th>person_id</th>\n",
       "      <th>offense_date</th>\n",
       "      <th>final_disposition</th>\n",
       "      <th>fips</th>\n",
       "      <th>gender</th>\n",
       "      <th>race</th>\n",
       "      <th>class</th>\n",
       "      <th>charge_type</th>\n",
       "      <th>ammended_charge_type</th>\n",
       "      <th>fips_area</th>\n",
       "    </tr>\n",
       "  </thead>\n",
       "  <tbody>\n",
       "    <tr>\n",
       "      <th>0</th>\n",
       "      <td>217101000000208</td>\n",
       "      <td>2012-07-26</td>\n",
       "      <td>Appeal Withdrawn</td>\n",
       "      <td>99</td>\n",
       "      <td>Female</td>\n",
       "      <td>White Caucasian (Non-Hispanic)</td>\n",
       "      <td>1</td>\n",
       "      <td>Misdemeanor</td>\n",
       "      <td>unknown</td>\n",
       "      <td>King George Circuit Court</td>\n",
       "    </tr>\n",
       "    <tr>\n",
       "      <th>1</th>\n",
       "      <td>357100000000310</td>\n",
       "      <td>2012-08-12</td>\n",
       "      <td>Guilty</td>\n",
       "      <td>99</td>\n",
       "      <td>Male</td>\n",
       "      <td>White Caucasian (Non-Hispanic)</td>\n",
       "      <td>U</td>\n",
       "      <td>Felony</td>\n",
       "      <td>unknown</td>\n",
       "      <td>King George Circuit Court</td>\n",
       "    </tr>\n",
       "    <tr>\n",
       "      <th>2</th>\n",
       "      <td>67070000000958</td>\n",
       "      <td>2012-02-19</td>\n",
       "      <td>Guilty</td>\n",
       "      <td>99</td>\n",
       "      <td>Male</td>\n",
       "      <td>White Caucasian (Non-Hispanic)</td>\n",
       "      <td>6</td>\n",
       "      <td>Felony</td>\n",
       "      <td>unknown</td>\n",
       "      <td>King George Circuit Court</td>\n",
       "    </tr>\n",
       "    <tr>\n",
       "      <th>3</th>\n",
       "      <td>236150000000660</td>\n",
       "      <td>2012-04-18</td>\n",
       "      <td>Guilty</td>\n",
       "      <td>99</td>\n",
       "      <td>Male</td>\n",
       "      <td>Black (Non-Hispanic)</td>\n",
       "      <td>5</td>\n",
       "      <td>Felony</td>\n",
       "      <td>unknown</td>\n",
       "      <td>King George Circuit Court</td>\n",
       "    </tr>\n",
       "    <tr>\n",
       "      <th>4</th>\n",
       "      <td>236150000000660</td>\n",
       "      <td>2012-04-18</td>\n",
       "      <td>Nolle Prosequi</td>\n",
       "      <td>99</td>\n",
       "      <td>Male</td>\n",
       "      <td>Black (Non-Hispanic)</td>\n",
       "      <td>U</td>\n",
       "      <td>Felony</td>\n",
       "      <td>unknown</td>\n",
       "      <td>King George Circuit Court</td>\n",
       "    </tr>\n",
       "  </tbody>\n",
       "</table>\n",
       "</div>"
      ],
      "text/plain": [
       "         person_id offense_date final_disposition  fips  gender  \\\n",
       "0  217101000000208   2012-07-26  Appeal Withdrawn    99  Female   \n",
       "1  357100000000310   2012-08-12            Guilty    99    Male   \n",
       "2   67070000000958   2012-02-19            Guilty    99    Male   \n",
       "3  236150000000660   2012-04-18            Guilty    99    Male   \n",
       "4  236150000000660   2012-04-18    Nolle Prosequi    99    Male   \n",
       "\n",
       "                             race class  charge_type ammended_charge_type  \\\n",
       "0  White Caucasian (Non-Hispanic)     1  Misdemeanor              unknown   \n",
       "1  White Caucasian (Non-Hispanic)     U       Felony              unknown   \n",
       "2  White Caucasian (Non-Hispanic)     6       Felony              unknown   \n",
       "3            Black (Non-Hispanic)     5       Felony              unknown   \n",
       "4            Black (Non-Hispanic)     U       Felony              unknown   \n",
       "\n",
       "                   fips_area  \n",
       "0  King George Circuit Court  \n",
       "1  King George Circuit Court  \n",
       "2  King George Circuit Court  \n",
       "3  King George Circuit Court  \n",
       "4  King George Circuit Court  "
      ]
     },
     "execution_count": 21,
     "metadata": {},
     "output_type": "execute_result"
    }
   ],
   "source": [
    "df.head()"
   ]
  },
  {
   "cell_type": "markdown",
   "metadata": {},
   "source": [
    "### Top 20 final_disposition result"
   ]
  },
  {
   "cell_type": "code",
   "execution_count": 22,
   "metadata": {},
   "outputs": [
    {
     "data": {
      "text/plain": [
       "<AxesSubplot:>"
      ]
     },
     "execution_count": 22,
     "metadata": {},
     "output_type": "execute_result"
    },
    {
     "data": {
      "image/png": "[encoded data removed]",
      "text/plain": [
       "<Figure size 1000x600 with 1 Axes>"
      ]
     },
     "metadata": {},
     "output_type": "display_data"
    }
   ],
   "source": [
    "hearing_result_counts = df['final_disposition'].value_counts()\n",
    "subset = hearing_result_counts[:15]\n",
    "sns.barplot(y=subset.index, x=subset.values)"
   ]
  },
  {
   "cell_type": "markdown",
   "metadata": {
    "ExecuteTime": {
     "end_time": "2021-04-01T21:07:13.431627Z",
     "start_time": "2021-04-01T21:07:13.354627Z"
    }
   },
   "source": [
    "### Top 20 final_disposition by gender"
   ]
  },
  {
   "cell_type": "code",
   "execution_count": 23,
   "metadata": {
    "ExecuteTime": {
     "end_time": "2021-04-04T14:39:20.939732Z",
     "start_time": "2021-04-04T14:39:20.512565Z"
    },
    "tags": []
   },
   "outputs": [
    {
     "data": {
      "text/plain": [
       "<AxesSubplot:xlabel='total', ylabel='final_disposition'>"
      ]
     },
     "execution_count": 23,
     "metadata": {},
     "output_type": "execute_result"
    },
    {
     "data": {
      "image/png": "[encoded data removed]",
      "text/plain": [
       "<Figure size 1000x600 with 1 Axes>"
      ]
     },
     "metadata": {},
     "output_type": "display_data"
    }
   ],
   "source": [
    "df_result_bygendger = df.groupby(['final_disposition', 'gender'])\\\n",
    "                        .size()\\\n",
    "                        .unstack()\\\n",
    "                        .fillna(0)\\\n",
    "                        .sort_values(['Female', 'Male'], ascending=False)\n",
    "df_stacked = df_result_bygendger.head(15).stack()\n",
    "df_stacked.name = 'total'\n",
    "df_stacked= df_stacked.reset_index()\n",
    "sns.barplot(x='total', y='final_disposition', hue='gender', data= df_stacked)"
   ]
  },
  {
   "cell_type": "code",
   "execution_count": 24,
   "metadata": {},
   "outputs": [
    {
     "data": {
      "text/plain": [
       "array(['Appeal Withdrawn', 'Guilty', 'Nolle Prosequi',\n",
       "       'Not Guilty/Acquitted', 'Dismissed', 'Sentence/Probation Revoked',\n",
       "       'Not Guilty By Reason Of Insanity', 'No Indictment Presented',\n",
       "       'Remanded', 'Mistrial', 'Not True Bill', 'Resolved'], dtype=object)"
      ]
     },
     "execution_count": 24,
     "metadata": {},
     "output_type": "execute_result"
    }
   ],
   "source": [
    "df['final_disposition'].unique()"
   ]
  },
  {
   "cell_type": "code",
   "execution_count": 25,
   "metadata": {},
   "outputs": [
    {
     "data": {
      "text/plain": [
       "Male      680611\n",
       "Female    240368\n",
       "Name: gender, dtype: int64"
      ]
     },
     "execution_count": 25,
     "metadata": {},
     "output_type": "execute_result"
    }
   ],
   "source": [
    "df['gender'].value_counts()"
   ]
  },
  {
   "cell_type": "code",
   "execution_count": 26,
   "metadata": {},
   "outputs": [
    {
     "data": {
      "text/plain": [
       "U    441202\n",
       "5    148651\n",
       "1    143978\n",
       "6    139006\n",
       "4     18905\n",
       "3     15054\n",
       "2     14173\n",
       "O        10\n",
       "Name: class, dtype: int64"
      ]
     },
     "execution_count": 26,
     "metadata": {},
     "output_type": "execute_result"
    }
   ],
   "source": [
    "df['class'].value_counts()"
   ]
  },
  {
   "cell_type": "code",
   "execution_count": 27,
   "metadata": {},
   "outputs": [],
   "source": [
    "### Delete cases with charge type other than Felony or Misdemeanor"
   ]
  },
  {
   "cell_type": "code",
   "execution_count": 28,
   "metadata": {},
   "outputs": [
    {
     "data": {
      "text/plain": [
       "Felony         696437\n",
       "Misdemeanor    224542\n",
       "Name: charge_type, dtype: int64"
      ]
     },
     "execution_count": 28,
     "metadata": {},
     "output_type": "execute_result"
    }
   ],
   "source": [
    "#Possible values from doc metadata ChargeType “Civil” “F” “Felony” “Infraction” “Misdemeanor” “Other (Animal Violations, Bond Appeals)”\n",
    "df['charge_type'].value_counts()"
   ]
  },
  {
   "cell_type": "markdown",
   "metadata": {},
   "source": [
    "---"
   ]
  },
  {
   "cell_type": "markdown",
   "metadata": {},
   "source": [
    "**Create Apache Spark Session** "
   ]
  },
  {
   "cell_type": "code",
   "execution_count": 36,
   "metadata": {
    "ExecuteTime": {
     "end_time": "2021-04-04T15:41:56.867790Z",
     "start_time": "2021-04-04T15:41:56.771789Z"
    }
   },
   "outputs": [],
   "source": []
  },
  {
   "cell_type": "code",
   "execution_count": 37,
   "metadata": {},
   "outputs": [],
   "source": []
  },
  {
   "cell_type": "code",
   "execution_count": 45,
   "metadata": {
    "ExecuteTime": {
     "end_time": "2021-04-04T15:41:58.398700Z",
     "start_time": "2021-04-04T15:41:58.330699Z"
    }
   },
   "outputs": [],
   "source": [
    "app_name = 'va_expungement'\n",
    "\n",
    "if RIVANA != True:\n",
    "    # update spark_master to your master local IP and port\n",
    "    spark_master = \"spark://TRX40:7077\"\n",
    "    spark = SparkSession\\\n",
    "        .builder\\\n",
    "        .config('spark.executor.memory', '2g')\\\n",
    "        .config('spark.executor.cores', '2')\\\n",
    "        .config('spark.cores.max', '24')\\\n",
    "        .config('spark.cores.min', '20')\\\n",
    "        .config('spark.driver.memory', '8g')\\\n",
    "        .config(\"spark.local.dir\", \"C:/tmp/hive\")\\\n",
    "        .appName(app_name)\\\n",
    "        .master(spark_master)\\\n",
    "        .getOrCreate()\n",
    "elif RIVANA == True:\n",
    "    spark = SparkSession \\\n",
    "        .builder \\\n",
    "        .master(\"local\") \\\n",
    "        .appName(app_name) \\\n",
    "        .config(\"spark.executor.memory\", '8g') \\\n",
    "        .config('spark.executor.cores', '4') \\\n",
    "        .config('spark.cores.max', '4') \\\n",
    "        .config(\"spark.driver.memory\",'8g') \\\n",
    "        .getOrCreate()"
   ]
  },
  {
   "cell_type": "code",
   "execution_count": 46,
   "metadata": {
    "ExecuteTime": {
     "end_time": "2021-04-04T15:41:59.060660Z",
     "start_time": "2021-04-04T15:41:58.988662Z"
    }
   },
   "outputs": [
    {
     "name": "stdout",
     "output_type": "stream",
     "text": [
      "+---------------+------------+-----------------+----+------+--------------------+-----+-----------+--------------------+--------------------+\n",
      "|      person_id|offense_date|final_disposition|fips|gender|                race|class|charge_type|ammended_charge_type|           fips_area|\n",
      "+---------------+------------+-----------------+----+------+--------------------+-----+-----------+--------------------+--------------------+\n",
      "|217101000000208|  2012-07-26| Appeal Withdrawn|  99|Female|White Caucasian (...|    1|Misdemeanor|             unknown|King George Circu...|\n",
      "|357100000000310|  2012-08-12|           Guilty|  99|  Male|White Caucasian (...|    U|     Felony|             unknown|King George Circu...|\n",
      "| 67070000000958|  2012-02-19|           Guilty|  99|  Male|White Caucasian (...|    6|     Felony|             unknown|King George Circu...|\n",
      "|236150000000660|  2012-04-18|           Guilty|  99|  Male|Black (Non-Hispanic)|    5|     Felony|             unknown|King George Circu...|\n",
      "|236150000000660|  2012-04-18|   Nolle Prosequi|  99|  Male|Black (Non-Hispanic)|    U|     Felony|             unknown|King George Circu...|\n",
      "+---------------+------------+-----------------+----+------+--------------------+-----+-----------+--------------------+--------------------+\n",
      "only showing top 5 rows\n",
      "\n"
     ]
    }
   ],
   "source": [
    "file = f'{BASE_DIR}/data/circuit_court_2009_2019_cleansed.csv.gz'\n",
    "\n",
    "schema = StructType([\n",
    "    StructField('person_id', LongType(), False),\n",
    "    StructField('offense_date', DateType(), False),\n",
    "    StructField('final_disposition', StringType(), False),\n",
    "    StructField('fips', IntegerType(), False),\n",
    "    StructField('gender', StringType(), False),\n",
    "    StructField('race', StringType(), False),\n",
    "    StructField('class', StringType(), False),\n",
    "    StructField('charge_type', StringType(), False),\n",
    "    StructField('ammended_charge_type', StringType(), False),\n",
    "    StructField('fips_area', StringType(), False),\n",
    "])\n",
    "\n",
    "circuit_df = (spark.read.schema(schema)\n",
    "             .format(\"csv\")\n",
    "             .option(\"inferSchema\", True)\n",
    "             .option(\"header\", True)\n",
    "             .load(file))\n",
    "\n",
    "circuit_df.show(5)"
   ]
  },
  {
   "cell_type": "markdown",
   "metadata": {},
   "source": [
    "---"
   ]
  },
  {
   "cell_type": "markdown",
   "metadata": {},
   "source": [
    "# Feature Engineering\n",
    "\n",
    "### Adding new 'repeat_offender' column\n",
    "From the above analysis we see the following condition in the data  \n",
    " - The charge column is free form text, charge_type is categorical. The same person can be charges one more times on the same day or on different days on multiple counts  \n",
    " - however since we are not able to use charge as a predictor variable using only charge_types will result in multiple record for the same person (by person_id)  \n",
    " - so to minimize the noise in the data we will introduce a variable called 'repeat_offender', this will be 1 if a person has felony or otherwise  "
   ]
  },
  {
   "cell_type": "code",
   "execution_count": 47,
   "metadata": {},
   "outputs": [],
   "source": [
    "# add where condition where case_type is not \n",
    "repeat_offenders = circuit_df.groupBy('person_id').count().orderBy('count', ascending=False)\n",
    "repeat_offenders = repeat_offenders.withColumnRenamed(\"count\", \"rpt_offense_ct\")\n",
    "\n",
    "# create temporary views\n",
    "circuit_df.createOrReplaceTempView(\"cc_case\")\n",
    "repeat_offenders.createOrReplaceTempView(\"cc_rpt_offender\")\n",
    "\n",
    "circuit_df = circuit_df.join(repeat_offenders,circuit_df.person_id ==  repeat_offenders.person_id,\"left\")\n",
    "\n",
    "# create a repeat_offender column when repeat_offense_ct is greater than 1 \n",
    "# and drop the repeat_offense_ct column\n",
    "circuit_df = circuit_df\\\n",
    "    .withColumn('repeat_offender', expr(\"CASE WHEN rpt_offense_ct > 1 THEN 1 ELSE 0 END\"))\\\n",
    "    .drop('rpt_offense_ct')\n",
    "\n",
    "#create or replce cc_case\n",
    "circuit_df.createOrReplaceTempView(\"cc_case\")"
   ]
  },
  {
   "cell_type": "code",
   "execution_count": 48,
   "metadata": {
    "ExecuteTime": {
     "end_time": "2021-04-04T15:42:16.124768Z",
     "start_time": "2021-04-04T15:42:16.053768Z"
    }
   },
   "outputs": [
    {
     "name": "stdout",
     "output_type": "stream",
     "text": [
      "+---------------+------------+-----------------+----+------+--------------------+-----+-----------+--------------------+--------------------+---------------+---------------+\n",
      "|      person_id|offense_date|final_disposition|fips|gender|                race|class|charge_type|ammended_charge_type|           fips_area|      person_id|repeat_offender|\n",
      "+---------------+------------+-----------------+----+------+--------------------+-----+-----------+--------------------+--------------------+---------------+---------------+\n",
      "|217101000000208|  2012-07-26| Appeal Withdrawn|  99|Female|White Caucasian (...|    1|Misdemeanor|             unknown|King George Circu...|217101000000208|              1|\n",
      "|357100000000310|  2012-08-12|           Guilty|  99|  Male|White Caucasian (...|    U|     Felony|             unknown|King George Circu...|357100000000310|              0|\n",
      "+---------------+------------+-----------------+----+------+--------------------+-----+-----------+--------------------+--------------------+---------------+---------------+\n",
      "only showing top 2 rows\n",
      "\n"
     ]
    }
   ],
   "source": [
    "circuit_df.show(2)"
   ]
  },
  {
   "cell_type": "markdown",
   "metadata": {},
   "source": [
    "### Adding new 'candidate' column (Response Variable)\n",
    "\n",
    "if the final_disposition of the case is in the list ['Dismissed','Noile Prosequi','Not Guilty', 'Withdrawn', 'Not Found', 'No Indictment Presented', 'No Longer Under Advisement', 'Not True Bill']\n",
    "then we set **candidate** column value to 1 else to 0."
   ]
  },
  {
   "cell_type": "code",
   "execution_count": 49,
   "metadata": {},
   "outputs": [
    {
     "name": "stdout",
     "output_type": "stream",
     "text": [
      "+---------------+------------+-----------------+----+------+--------------------+-----+-----------+--------------------+--------------------+---------------+---------------+---------+\n",
      "|      person_id|offense_date|final_disposition|fips|gender|                race|class|charge_type|ammended_charge_type|           fips_area|      person_id|repeat_offender|candidate|\n",
      "+---------------+------------+-----------------+----+------+--------------------+-----+-----------+--------------------+--------------------+---------------+---------------+---------+\n",
      "|217101000000208|  2012-07-26| Appeal Withdrawn|  99|Female|White Caucasian (...|    1|Misdemeanor|             unknown|King George Circu...|217101000000208|              1|        0|\n",
      "|357100000000310|  2012-08-12|           Guilty|  99|  Male|White Caucasian (...|    U|     Felony|             unknown|King George Circu...|357100000000310|              0|        0|\n",
      "+---------------+------------+-----------------+----+------+--------------------+-----+-----------+--------------------+--------------------+---------------+---------------+---------+\n",
      "only showing top 2 rows\n",
      "\n"
     ]
    }
   ],
   "source": [
    "# Adding a candidate column\n",
    "candidate_udf = udf(encode_expungement_candidate, IntegerType())\n",
    "circuit_df = circuit_df.withColumn('candidate', candidate_udf('final_disposition'))\n",
    "\n",
    "# Create or replace cc_caste view\n",
    "circuit_df.createOrReplaceTempView(\"cc_case\")\n",
    "\n",
    "circuit_df.show(2)"
   ]
  },
  {
   "cell_type": "markdown",
   "metadata": {
    "ExecuteTime": {
     "end_time": "2021-04-04T15:42:20.466513Z",
     "start_time": "2021-04-04T15:42:18.529523Z"
    }
   },
   "source": [
    "### Adding a new column 'case_charge_type_enc' \n",
    "\n",
    "By encoding case and charge type"
   ]
  },
  {
   "cell_type": "code",
   "execution_count": 50,
   "metadata": {
    "ExecuteTime": {
     "end_time": "2021-04-04T15:42:21.811883Z",
     "start_time": "2021-04-04T15:42:21.743884Z"
    }
   },
   "outputs": [
    {
     "name": "stdout",
     "output_type": "stream",
     "text": [
      "+---------------+------------+-----------------+----+------+--------------------+-----+-----------+--------------------+--------------------+---------------+---------------+---------+--------------------+\n",
      "|      person_id|offense_date|final_disposition|fips|gender|                race|class|charge_type|ammended_charge_type|           fips_area|      person_id|repeat_offender|candidate|case_charge_type_enc|\n",
      "+---------------+------------+-----------------+----+------+--------------------+-----+-----------+--------------------+--------------------+---------------+---------------+---------+--------------------+\n",
      "|217101000000208|  2012-07-26| Appeal Withdrawn|  99|Female|White Caucasian (...|    1|Misdemeanor|             unknown|King George Circu...|217101000000208|              1|        0|                   4|\n",
      "|357100000000310|  2012-08-12|           Guilty|  99|  Male|White Caucasian (...|    U|     Felony|             unknown|King George Circu...|357100000000310|              0|        0|                   8|\n",
      "+---------------+------------+-----------------+----+------+--------------------+-----+-----------+--------------------+--------------------+---------------+---------------+---------+--------------------+\n",
      "only showing top 2 rows\n",
      "\n"
     ]
    }
   ],
   "source": [
    "encode_udf = udf(encode_class_and_chargetype, IntegerType())\n",
    "circuit_df = circuit_df.withColumn('case_charge_type_enc', encode_udf('class', 'charge_type'))\n",
    "\n",
    "#create or replace cc_caste view\n",
    "circuit_df.createOrReplaceTempView(\"cc_case\")\n",
    "\n",
    "circuit_df.show(2)"
   ]
  },
  {
   "cell_type": "code",
   "execution_count": 51,
   "metadata": {
    "ExecuteTime": {
     "end_time": "2021-04-04T15:42:41.531713Z",
     "start_time": "2021-04-04T15:42:41.476713Z"
    }
   },
   "outputs": [
    {
     "name": "stdout",
     "output_type": "stream",
     "text": [
      "root\n",
      " |-- person_id: long (nullable = true)\n",
      " |-- offense_date: date (nullable = true)\n",
      " |-- final_disposition: string (nullable = true)\n",
      " |-- fips: integer (nullable = true)\n",
      " |-- gender: string (nullable = true)\n",
      " |-- race: string (nullable = true)\n",
      " |-- class: string (nullable = true)\n",
      " |-- charge_type: string (nullable = true)\n",
      " |-- ammended_charge_type: string (nullable = true)\n",
      " |-- fips_area: string (nullable = true)\n",
      " |-- person_id: long (nullable = true)\n",
      " |-- repeat_offender: integer (nullable = false)\n",
      " |-- candidate: integer (nullable = true)\n",
      " |-- case_charge_type_enc: integer (nullable = true)\n",
      "\n"
     ]
    }
   ],
   "source": [
    "circuit_df.printSchema()"
   ]
  },
  {
   "cell_type": "code",
   "execution_count": 54,
   "metadata": {
    "ExecuteTime": {
     "end_time": "2021-04-04T15:43:03.634498Z",
     "start_time": "2021-04-04T15:42:44.037467Z"
    }
   },
   "outputs": [],
   "source": [
    "circuit_df.toPandas().to_csv(\n",
    "    PROCESSED_PATH + \"circuit_court_2009_2019_transformed.csv.gz\",\n",
    "    index=False,\n",
    "    compression=\"gzip\",\n",
    "    header=True,\n",
    "    quotechar='\"',\n",
    "    doublequote=True,\n",
    "    line_terminator=\"\\n\",\n",
    ")"
   ]
  },
  {
   "cell_type": "markdown",
   "metadata": {},
   "source": [
    "---"
   ]
  },
  {
   "cell_type": "markdown",
   "metadata": {},
   "source": [
    "# Model Training\n",
    "\n",
    "## Creating Training and Test Datasets"
   ]
  },
  {
   "cell_type": "code",
   "execution_count": 55,
   "metadata": {
    "ExecuteTime": {
     "end_time": "2021-04-04T15:44:29.623523Z",
     "start_time": "2021-04-04T15:44:12.696534Z"
    }
   },
   "outputs": [
    {
     "name": "stdout",
     "output_type": "stream",
     "text": [
      "majority class count: 827504\n",
      "minority class count: 93475\n",
      "sampling ratio : 8.85267718641348\n",
      "+---------+-----+\n",
      "|candidate|count|\n",
      "+---------+-----+\n",
      "|        1|93475|\n",
      "|        0|93770|\n",
      "+---------+-----+\n",
      "\n"
     ]
    }
   ],
   "source": [
    "sampled_cricuit_df = downsample(circuit_df)\n",
    "sampled_cricuit_df.groupBy('candidate').count().show()"
   ]
  },
  {
   "cell_type": "code",
   "execution_count": 57,
   "metadata": {
    "ExecuteTime": {
     "end_time": "2021-04-04T15:44:43.110151Z",
     "start_time": "2021-04-04T15:44:42.949151Z"
    }
   },
   "outputs": [],
   "source": [
    "# select a subset of columns from the dataset\n",
    "sub_circuit_df = sampled_cricuit_df.select(\"gender\", \"race\", \"repeat_offender\", \"case_charge_type_enc\", \"candidate\")\n",
    "train_df, test_df = sub_circuit_df.randomSplit([0.8, 0.2], seed=42)"
   ]
  },
  {
   "cell_type": "markdown",
   "metadata": {},
   "source": [
    "## Creating Pipelines"
   ]
  },
  {
   "cell_type": "code",
   "execution_count": 155,
   "metadata": {},
   "outputs": [],
   "source": [
    "# create a list of all categorical colums\n",
    "categorical_cols = [field for (field, dataType) in sub_circuit_df.dtypes if dataType == 'string']\n",
    "\n",
    "# Note:  String indexer converts the categorical values into category indexes ordered by label frequencies \n",
    "# so most frequent labels gets 0 which provides us with reproducible results across the various runs of the same data\n",
    "\n",
    "# create a list of indexed columns as output cols for string indexer\n",
    "index_output_cols = [x + \"Index\" for x in categorical_cols]\n",
    "\n",
    "# Note: Once you have created your category indecies, pass those to OneHotEncoder, it maps categorical indices into \n",
    "# a column of binary vectors\n",
    "\n",
    "# create a list of indexed columns as output cols for one hot encoding\n",
    "ohe_output_cols = [x + \"OHE\" for x in categorical_cols]\n",
    "\n",
    "string_indexer = StringIndexer(inputCols=categorical_cols,\n",
    "                             outputCols=index_output_cols,\n",
    "                             handleInvalid='skip')\n",
    "\n",
    "ohe_encoder = OneHotEncoder(inputCols=index_output_cols, outputCols=ohe_output_cols)\n",
    "\n",
    "numeric_cols = [field for (field, dataType) in sub_circuit_df.dtypes if ((dataType == 'int') & (field != 'candidate'))]\n",
    "\n",
    "assembler_inputs = ohe_output_cols + numeric_cols\n",
    "\n",
    "vec_assembler = VectorAssembler(inputCols = assembler_inputs, outputCol=\"features\")\n",
    "\n",
    "# createlogistic regression model\n",
    "lr = LogisticRegression(maxIter=10,\n",
    "        regParam=0.01, \n",
    "        labelCol='candidate')\n",
    "\n",
    "# Create Decision Tree model\n",
    "dt = DecisionTreeClassifier(labelCol='candidate', \n",
    "                            featuresCol=\"features\")\n",
    "\n",
    "# Create lr_pipeline\n",
    "stages = [string_indexer, ohe_encoder, vec_assembler, lr]\n",
    "lr_pipeline = Pipeline(stages = stages)\n",
    "\n",
    "# Create dt_pipeline\n",
    "stages2 = [string_indexer, ohe_encoder, vec_assembler, dt]\n",
    "dt_pipeline = Pipeline(stages = stages2)"
   ]
  },
  {
   "cell_type": "markdown",
   "metadata": {},
   "source": [
    "## Pipeline Model Training"
   ]
  },
  {
   "cell_type": "code",
   "execution_count": 157,
   "metadata": {},
   "outputs": [],
   "source": [
    "lr_pipeline_model = lr_pipeline.fit(train_df)\n",
    "dt_pipeline_model = dt_pipeline.fit(train_df)"
   ]
  },
  {
   "cell_type": "markdown",
   "metadata": {
    "ExecuteTime": {
     "end_time": "2021-04-04T15:45:15.825770Z",
     "start_time": "2021-04-04T15:44:55.192Z"
    }
   },
   "source": [
    "## Evaluating Model : Logistic Regression"
   ]
  },
  {
   "cell_type": "code",
   "execution_count": 158,
   "metadata": {
    "ExecuteTime": {
     "end_time": "2021-04-04T15:45:18.775280Z",
     "start_time": "2021-04-04T15:45:18.627255Z"
    }
   },
   "outputs": [],
   "source": [
    "lr_pipeline_pred = lr_pipeline_model.transform(test_df)\n",
    "dt_pipeline_pred = dt_pipeline_model.transform(test_df)"
   ]
  },
  {
   "cell_type": "code",
   "execution_count": 174,
   "metadata": {
    "ExecuteTime": {
     "end_time": "2021-04-05T11:07:14.399761Z",
     "start_time": "2021-04-05T11:07:08.811685Z"
    }
   },
   "outputs": [
    {
     "name": "stdout",
     "output_type": "stream",
     "text": [
      "\n",
      "Logistic Regression Model:\n",
      "+---------+----------------------------------------+---------------------------------------+----------+\n",
      "|candidate|rawPrediction                           |probability                            |prediction|\n",
      "+---------+----------------------------------------+---------------------------------------+----------+\n",
      "|0        |[0.2849828194371643,-0.2849828194371643]|[0.5707674027995937,0.4292325972004063]|0.0       |\n",
      "|0        |[0.6818198657794875,-0.6818198657794875]|[0.664144751481597,0.335855248518403]  |0.0       |\n",
      "+---------+----------------------------------------+---------------------------------------+----------+\n",
      "only showing top 2 rows\n",
      "\n",
      "\n",
      "Decision Tree Model:\n",
      "+---------+-----------------+----------------------------------------+----------+\n",
      "|candidate|rawPrediction    |probability                             |prediction|\n",
      "+---------+-----------------+----------------------------------------+----------+\n",
      "|0        |[3210.0,3407.0]  |[0.4851141000453378,0.5148858999546623] |1.0       |\n",
      "|0        |[51419.0,32238.0]|[0.6146407353837694,0.38535926461623055]|0.0       |\n",
      "+---------+-----------------+----------------------------------------+----------+\n",
      "only showing top 2 rows\n",
      "\n"
     ]
    }
   ],
   "source": [
    "print(\"\\nLogistic Regression Model:\")\n",
    "lr_pipeline_pred.select(['candidate','rawPrediction','probability','prediction']).show(2,False)\n",
    "\n",
    "print(\"\\nDecision Tree Model:\")\n",
    "dt_pipeline_pred.select(['candidate','rawPrediction','probability','prediction']).show(2,False)"
   ]
  },
  {
   "cell_type": "code",
   "execution_count": 170,
   "metadata": {
    "ExecuteTime": {
     "end_time": "2021-04-04T15:46:41.453260Z",
     "start_time": "2021-04-04T15:46:36.238259Z"
    }
   },
   "outputs": [
    {
     "name": "stdout",
     "output_type": "stream",
     "text": [
      "The auroc value of Logistic Regression Model is 0.6584126582019573\n",
      "The aupr value of Logistic Regression Model is 0.664435363564665\n",
      "The Accuracy of Logistic Regression : 0.625237166296999\n",
      "False Positive :  5883\n",
      "True Positive :  10420\n",
      "False Negative :  8141\n",
      "True Negative :  12977\n",
      "Logistic Regression model Acccuracy: 0.625237166296999\n",
      "              precision    recall  f1-score   support\n",
      "\n",
      "           0       0.61      0.69      0.65     18860\n",
      "           1       0.64      0.56      0.60     18561\n",
      "\n",
      "    accuracy                           0.63     37421\n",
      "   macro avg       0.63      0.62      0.62     37421\n",
      "weighted avg       0.63      0.63      0.62     37421\n",
      "\n",
      "Logistic Regression Confusion Matrix:\n",
      " [[12977  5883]\n",
      " [ 8141 10420]]\n"
     ]
    }
   ],
   "source": [
    "evaluate_model(lr_pipeline_pred)"
   ]
  },
  {
   "cell_type": "code",
   "execution_count": 171,
   "metadata": {},
   "outputs": [
    {
     "name": "stdout",
     "output_type": "stream",
     "text": [
      "The auroc value of Decision Tree Model is 0.3875972482010679\n",
      "The aupr value of Decision Tree Model is 0.4236900367362135\n",
      "The Accuracy of Decision Tree : 0.6422329707918014\n",
      "False Positive :  3820\n",
      "True Positive :  8993\n",
      "False Negative :  9568\n",
      "True Negative :  15040\n",
      "Decision Tree model Acccuracy: 0.6422329707918014\n",
      "              precision    recall  f1-score   support\n",
      "\n",
      "           0       0.61      0.80      0.69     18860\n",
      "           1       0.70      0.48      0.57     18561\n",
      "\n",
      "    accuracy                           0.64     37421\n",
      "   macro avg       0.66      0.64      0.63     37421\n",
      "weighted avg       0.66      0.64      0.63     37421\n",
      "\n",
      "Decision Tree Confusion Matrix:\n",
      " [[15040  3820]\n",
      " [ 9568  8993]]\n"
     ]
    }
   ],
   "source": [
    "evaluate_model(dt_pipeline_pred, model_name='Decision Tree')"
   ]
  },
  {
   "cell_type": "markdown",
   "metadata": {},
   "source": [
    "## Cross-Validation :Logistic Regression"
   ]
  },
  {
   "cell_type": "code",
   "execution_count": 111,
   "metadata": {},
   "outputs": [],
   "source": [
    "# cross validation \n",
    "param_grid = (ParamGridBuilder()\n",
    "              .addGrid(lr.regParam, [0.01, 0.1, 0.5,2.0]) #regularization parameter\n",
    "              .addGrid(lr.elasticNetParam, [0.0, 0.5,1.0]) #Elastic Net Parameter (Ridge = 0)\n",
    "              .addGrid(lr.maxIter, [1,5,10])\n",
    "              .build())\n",
    "\n",
    "cv = CrossValidator(estimator=pipeline, estimatorParamMaps = param_grid, evaluator = lr_evaluator, numFolds=5)\n",
    "\n",
    "cvModel = cv.fit(train_df)"
   ]
  },
  {
   "cell_type": "code",
   "execution_count": 175,
   "metadata": {
    "ExecuteTime": {
     "end_time": "2021-04-04T14:40:03.589306Z",
     "start_time": "2021-04-04T14:40:02.061Z"
    }
   },
   "outputs": [
    {
     "name": "stdout",
     "output_type": "stream",
     "text": [
      "The auroc value of  Logistic Regiression with CV Model is 0.6590861747139339\n",
      "The aupr value of  Logistic Regiression with CV Model is 0.6637288719582055\n",
      "The Accuracy of  Logistic Regiression with CV : 0.5059993052029609\n",
      "False Positive :  51\n",
      "True Positive :  126\n",
      "False Negative :  18435\n",
      "True Negative :  18809\n",
      " Logistic Regiression with CV model Acccuracy: 0.5059993052029609\n",
      "              precision    recall  f1-score   support\n",
      "\n",
      "           0       0.51      1.00      0.67     18860\n",
      "           1       0.71      0.01      0.01     18561\n",
      "\n",
      "    accuracy                           0.51     37421\n",
      "   macro avg       0.61      0.50      0.34     37421\n",
      "weighted avg       0.61      0.51      0.34     37421\n",
      "\n",
      " Logistic Regiression with CV Confusion Matrix:\n",
      " [[18809    51]\n",
      " [18435   126]]\n"
     ]
    }
   ],
   "source": [
    "lr_cv_pred = cvModel.transform(test_df)\n",
    "evaluate_model(lr_cv_pred, model_name=\" Logistic Regiression with CV\")"
   ]
  },
  {
   "cell_type": "code",
   "execution_count": 136,
   "metadata": {},
   "outputs": [
    {
     "data": {
      "image/png": "[encoded data removed]",
      "text/plain": [
       "<Figure size 1000x600 with 1 Axes>"
      ]
     },
     "metadata": {},
     "output_type": "display_data"
    },
    {
     "name": "stdout",
     "output_type": "stream",
     "text": [
      "Training set areaUnderROC: 0.6545782118152179\n"
     ]
    }
   ],
   "source": [
    "best_model = cvModel.bestModel.stages[-1] # last element in the pipeline stages is the Lr_model\n",
    "trainingSummary = best_model.summary\n",
    "roc = trainingSummary.roc.toPandas()\n",
    "plt.plot(roc['FPR'],roc['TPR'])\n",
    "plt.ylabel('False Positive Rate')\n",
    "plt.xlabel('True Positive Rate')\n",
    "plt.title('ROC Curve')\n",
    "plt.show()\n",
    "print('Training set areaUnderROC: ' + str(trainingSummary.areaUnderROC))"
   ]
  },
  {
   "cell_type": "code",
   "execution_count": 139,
   "metadata": {
    "ExecuteTime": {
     "end_time": "2021-04-04T14:40:03.592688Z",
     "start_time": "2021-04-04T14:40:03.100Z"
    }
   },
   "outputs": [
    {
     "data": {
      "image/png": "[encoded data removed]",
      "text/plain": [
       "<Figure size 1000x600 with 1 Axes>"
      ]
     },
     "metadata": {},
     "output_type": "display_data"
    }
   ],
   "source": [
    "import matplotlib.pyplot as plt\n",
    "import numpy as np\n",
    "beta = np.sort(best_model.coefficients)\n",
    "plt.plot(beta)\n",
    "plt.ylabel('Beta Coefficients')\n",
    "plt.show()"
   ]
  },
  {
   "cell_type": "code",
   "execution_count": 140,
   "metadata": {},
   "outputs": [
    {
     "data": {
      "image/png": "[encoded data removed]",
      "text/plain": [
       "<Figure size 1000x600 with 1 Axes>"
      ]
     },
     "metadata": {},
     "output_type": "display_data"
    }
   ],
   "source": [
    "pr = trainingSummary.pr.toPandas()\n",
    "plt.plot(pr['recall'],pr['precision'])\n",
    "plt.ylabel('Precision')\n",
    "plt.xlabel('Recall')\n",
    "plt.show()"
   ]
  },
  {
   "cell_type": "markdown",
   "metadata": {},
   "source": [
    "## 4.0 Model Training"
   ]
  },
  {
   "cell_type": "markdown",
   "metadata": {},
   "source": [
    "## 5.0 Predictions"
   ]
  },
  {
   "cell_type": "markdown",
   "metadata": {},
   "source": [
    "## 6.0 Conclusions"
   ]
  },
  {
   "cell_type": "code",
   "execution_count": null,
   "metadata": {
    "ExecuteTime": {
     "end_time": "2021-04-03T01:22:04.258751Z",
     "start_time": "2021-04-03T01:20:25.991Z"
    }
   },
   "outputs": [],
   "source": [
    "#!jupyter nbconvert va_circuit_court_expungment.ipynb --to pdf"
   ]
  },
  {
   "cell_type": "code",
   "execution_count": null,
   "metadata": {},
   "outputs": [],
   "source": []
  }
 ],
 "metadata": {
  "kernelspec": {
   "display_name": "Python 3",
   "language": "python",
   "name": "python3"
  },
  "language_info": {
   "codemirror_mode": {
    "name": "ipython",
    "version": 3
   },
   "file_extension": ".py",
   "mimetype": "text/x-python",
   "name": "python",
   "nbconvert_exporter": "python",
   "pygments_lexer": "ipython3",
   "version": "3.8.8"
  },
  "toc": {
   "base_numbering": 1,
   "nav_menu": {},
   "number_sections": true,
   "sideBar": true,
   "skip_h1_title": false,
   "title_cell": "Table of Contents",
   "title_sidebar": "Contents",
   "toc_cell": false,
   "toc_position": {},
   "toc_section_display": true,
   "toc_window_display": false
  },
  "toc-autonumbering": true,
  "toc-showtags": false,
  "varInspector": {
   "cols": {
    "lenName": 16,
    "lenType": 16,
    "lenVar": 40
   },
   "kernels_config": {
    "python": {
     "delete_cmd_postfix": "",
     "delete_cmd_prefix": "del ",
     "library": "var_list.py",
     "varRefreshCmd": "print(var_dic_list())"
    },
    "r": {
     "delete_cmd_postfix": ") ",
     "delete_cmd_prefix": "rm(",
     "library": "var_list.r",
     "varRefreshCmd": "cat(var_dic_list()) "
    }
   },
   "types_to_exclude": [
    "module",
    "function",
    "builtin_function_or_method",
    "instance",
    "_Feature"
   ],
   "window_display": false
  }
 },
 "nbformat": 4,
 "nbformat_minor": 4
}
