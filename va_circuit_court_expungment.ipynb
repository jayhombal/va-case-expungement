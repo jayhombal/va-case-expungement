{
 "cells": [
  {
   "cell_type": "markdown",
   "metadata": {},
   "source": [
    " #  Virginia Expungement Data Science Project "
   ]
  },
  {
   "cell_type": "markdown",
   "metadata": {},
   "source": [
    "## DS 5559 - Big Data Analytics\n",
    "* PaulHicks pdh2d\n",
    "* Mrityunjaya (Jay) Hombal mh4ey\n",
    "* Sudhanshu Luthras l3zs\n",
    "* Mahew Dakolios mrd7f "
   ]
  },
  {
   "cell_type": "markdown",
   "metadata": {},
   "source": [
    "## Research Question / Hypothesis\n",
    "\n",
    "The broad problem: In Virginia, if someone is charged (not necessarily convicted, just charged) with a crime (either felony or misdemeanor), they end up with a criminal record that can be found by criminal background checks that employers run when hiring, landlords run when searching for renters, and banks run when deciding whether to issue a loan. So, having a criminal record can keep a person from a job, housing, and financial opportunity. In effect, this situation creates a permanent underclass in society. Criminal record EXPUNGMENT means that the state courts legally hide these records from other members of the public, so that they no longer are findable by criminal background checks. Currently, records are only expungable if a person was never convicted, and records are only expunged after a long and costly bureaucratic process. That's changing however: in the current legislative session happening right now there are several bills under consideration to expand what is expungable and to make expungement automatic for people with certain kinds of records. Still, there are many unaddressed questions about the nature of expungement and law enforcement (see below for the LAJC's questions), and limitations on the data that can be used to answer these questions.\n",
    "\n"
   ]
  },
  {
   "cell_type": "markdown",
   "metadata": {},
   "source": [
    "## Setup"
   ]
  },
  {
   "cell_type": "code",
   "execution_count": 1,
   "metadata": {
    "ExecuteTime": {
     "end_time": "2021-04-06T12:15:46.421017Z",
     "start_time": "2021-04-06T12:15:46.145218Z"
    }
   },
   "outputs": [
    {
     "name": "stdout",
     "output_type": "stream",
     "text": [
      "VA file download script loaded!\n"
     ]
    }
   ],
   "source": [
    "# setup\n",
    "'''\n",
    "LOCAL and COLLAB, ONLY one of the two environements should be set True.\n",
    "'''\n",
    "# running on local desktop\n",
    "LOCAL = True\n",
    "\n",
    "# running on UVA collab\n",
    "UVA_COLAB = False\n",
    "\n",
    "# setup environment variables\n",
    "%run -i setup.py\n",
    "\n",
    "# load va file data load script\n",
    "%run  -i va_court_files_download.py"
   ]
  },
  {
   "cell_type": "code",
   "execution_count": 2,
   "metadata": {
    "ExecuteTime": {
     "end_time": "2021-04-06T12:15:47.455256Z",
     "start_time": "2021-04-06T12:15:46.783318Z"
    }
   },
   "outputs": [
    {
     "name": "stdout",
     "output_type": "stream",
     "text": [
      "Imports and display options set...\n"
     ]
    }
   ],
   "source": [
    "import os, sys\n",
    "# import all required libraries\n",
    "%run -i settings.py\n",
    "#import all utility functions\n",
    "%run -i utility-functions.py"
   ]
  },
  {
   "cell_type": "code",
   "execution_count": 3,
   "metadata": {
    "ExecuteTime": {
     "end_time": "2021-04-06T12:15:47.565256Z",
     "start_time": "2021-04-06T12:15:47.506256Z"
    }
   },
   "outputs": [],
   "source": [
    "# To auto-reload modules in jupyter notebook (so that changes in files *.py doesn't require manual reloading):\n",
    "# for auto-reloading external modules\n",
    "# see http://stackoverflow.com/questions/1907993/autoreload-of-modules-in-ipython\n",
    "%reload_ext autoreload\n",
    "%autoreload 2\n",
    "\n",
    "# you can now enable 2x images by just adding the line:\n",
    "# see: https://gist.github.com/minrk/3301035\n",
    "%config InlineBackend.figure_format = 'png'"
   ]
  },
  {
   "cell_type": "markdown",
   "metadata": {},
   "source": [
    "## Download and Merge Circuit Court Records (10 years)"
   ]
  },
  {
   "cell_type": "code",
   "execution_count": 4,
   "metadata": {
    "ExecuteTime": {
     "end_time": "2021-04-06T12:16:26.825046Z",
     "start_time": "2021-04-06T12:15:48.814573Z"
    }
   },
   "outputs": [
    {
     "name": "stdout",
     "output_type": "stream",
     "text": [
      "data directory already existis, files will be deleted\n",
      "./data/circuit_court_2009_2019.csv.gz file does not exist!\n",
      "circuit court file download path : ./download-data/circuit\n",
      "directory does not exist\n",
      "download directory ./download-data/circuit created\n",
      "start circuit court files download...\n",
      "downloading file https://s3.amazonaws.com/virginia-court-data/circuit_criminal_2019_anon_YNA8S7.zip \n",
      "downloading file https://s3.amazonaws.com/virginia-court-data/circuit_criminal_2018_anon_1GI9Q0.zip \n",
      "downloading file https://s3.amazonaws.com/virginia-court-data/circuit_criminal_2017_anon_VKJSJ2.zip \n",
      "downloading file https://s3.amazonaws.com/virginia-court-data/circuit_criminal_2016_anon_712ZX2.zip \n",
      "downloading file https://s3.amazonaws.com/virginia-court-data/circuit_criminal_2015_anon_S9DA5G.zip \n",
      "downloading file https://s3.amazonaws.com/virginia-court-data/circuit_criminal_2014_anon_VSE5UB.zip \n",
      "downloading file https://s3.amazonaws.com/virginia-court-data/circuit_criminal_2013_anon_3BWWKM.zip \n",
      "downloading file https://s3.amazonaws.com/virginia-court-data/circuit_criminal_2012_anon_ZOCWYI.zip \n",
      "downloading file https://s3.amazonaws.com/virginia-court-data/circuit_criminal_2011_anon_5J6VS4.zip \n",
      "downloading file https://s3.amazonaws.com/virginia-court-data/circuit_criminal_2010_anon_1MTUIA.zip \n",
      "downloading file https://s3.amazonaws.com/virginia-court-data/circuit_criminal_2009_anon_TIBLMH.zip \n",
      "circuit court files download is complete...\n",
      "Number of Circuit Court files: 11\n",
      "Deleting downloaded files from ./download-data/circuit\n",
      "\n",
      "Deleting file download staging directory ./download-data/circuit\n"
     ]
    }
   ],
   "source": [
    "# download and concat circuit court data from 2009 to 2019 into a dataset and persist to csv\n",
    "download_and_merge_court_data('circuit')"
   ]
  },
  {
   "cell_type": "markdown",
   "metadata": {},
   "source": [
    "## Load Merged Dataset"
   ]
  },
  {
   "cell_type": "code",
   "execution_count": 5,
   "metadata": {
    "ExecuteTime": {
     "end_time": "2021-04-04T14:38:15.424465Z",
     "start_time": "2021-04-04T14:38:12.947736Z"
    }
   },
   "outputs": [
    {
     "data": {
      "text/html": [
       "<div>\n",
       "<style scoped>\n",
       "    .dataframe tbody tr th:only-of-type {\n",
       "        vertical-align: middle;\n",
       "    }\n",
       "\n",
       "    .dataframe tbody tr th {\n",
       "        vertical-align: top;\n",
       "    }\n",
       "\n",
       "    .dataframe thead th {\n",
       "        text-align: right;\n",
       "    }\n",
       "</style>\n",
       "<table border=\"1\" class=\"dataframe\">\n",
       "  <thead>\n",
       "    <tr style=\"text-align: right;\">\n",
       "      <th></th>\n",
       "      <th>person_id</th>\n",
       "      <th>offense_date</th>\n",
       "      <th>final_disposition</th>\n",
       "      <th>fips</th>\n",
       "      <th>gender</th>\n",
       "      <th>race</th>\n",
       "      <th>class</th>\n",
       "      <th>charge_type</th>\n",
       "      <th>ammended_charge_type</th>\n",
       "    </tr>\n",
       "  </thead>\n",
       "  <tbody>\n",
       "    <tr>\n",
       "      <th>0</th>\n",
       "      <td>152051000000121</td>\n",
       "      <td>2007-01-09</td>\n",
       "      <td>Nolle Prosequi</td>\n",
       "      <td>99</td>\n",
       "      <td>Female</td>\n",
       "      <td>White Caucasian (Non-Hispanic)</td>\n",
       "      <td>NaN</td>\n",
       "      <td>Felony</td>\n",
       "      <td>NaN</td>\n",
       "    </tr>\n",
       "    <tr>\n",
       "      <th>1</th>\n",
       "      <td>152051000000121</td>\n",
       "      <td>2007-01-09</td>\n",
       "      <td>Nolle Prosequi</td>\n",
       "      <td>99</td>\n",
       "      <td>Female</td>\n",
       "      <td>White Caucasian (Non-Hispanic)</td>\n",
       "      <td>NaN</td>\n",
       "      <td>Felony</td>\n",
       "      <td>NaN</td>\n",
       "    </tr>\n",
       "    <tr>\n",
       "      <th>2</th>\n",
       "      <td>152051000000121</td>\n",
       "      <td>2007-01-09</td>\n",
       "      <td>Nolle Prosequi</td>\n",
       "      <td>99</td>\n",
       "      <td>Female</td>\n",
       "      <td>White Caucasian (Non-Hispanic)</td>\n",
       "      <td>NaN</td>\n",
       "      <td>Felony</td>\n",
       "      <td>NaN</td>\n",
       "    </tr>\n",
       "    <tr>\n",
       "      <th>3</th>\n",
       "      <td>152051000000121</td>\n",
       "      <td>2007-01-09</td>\n",
       "      <td>Nolle Prosequi</td>\n",
       "      <td>99</td>\n",
       "      <td>Female</td>\n",
       "      <td>White Caucasian (Non-Hispanic)</td>\n",
       "      <td>NaN</td>\n",
       "      <td>Felony</td>\n",
       "      <td>NaN</td>\n",
       "    </tr>\n",
       "    <tr>\n",
       "      <th>4</th>\n",
       "      <td>152051000000121</td>\n",
       "      <td>2006-12-13</td>\n",
       "      <td>Sentence/Probation Revoked</td>\n",
       "      <td>99</td>\n",
       "      <td>Female</td>\n",
       "      <td>White Caucasian (Non-Hispanic)</td>\n",
       "      <td>NaN</td>\n",
       "      <td>Felony</td>\n",
       "      <td>NaN</td>\n",
       "    </tr>\n",
       "  </tbody>\n",
       "</table>\n",
       "</div>"
      ],
      "text/plain": [
       "         person_id offense_date           final_disposition  fips  gender  \\\n",
       "0  152051000000121   2007-01-09              Nolle Prosequi    99  Female   \n",
       "1  152051000000121   2007-01-09              Nolle Prosequi    99  Female   \n",
       "2  152051000000121   2007-01-09              Nolle Prosequi    99  Female   \n",
       "3  152051000000121   2007-01-09              Nolle Prosequi    99  Female   \n",
       "4  152051000000121   2006-12-13  Sentence/Probation Revoked    99  Female   \n",
       "\n",
       "                             race class charge_type ammended_charge_type  \n",
       "0  White Caucasian (Non-Hispanic)   NaN      Felony                  NaN  \n",
       "1  White Caucasian (Non-Hispanic)   NaN      Felony                  NaN  \n",
       "2  White Caucasian (Non-Hispanic)   NaN      Felony                  NaN  \n",
       "3  White Caucasian (Non-Hispanic)   NaN      Felony                  NaN  \n",
       "4  White Caucasian (Non-Hispanic)   NaN      Felony                  NaN  "
      ]
     },
     "execution_count": 5,
     "metadata": {},
     "output_type": "execute_result"
    }
   ],
   "source": [
    "# Load merged circuit court file\n",
    "file = f'{BASE_DIR}/data/circuit_court_2009_2019.csv.gz'\n",
    "df = pd.read_csv(file, parse_dates =['offense_date'])\n",
    "df.head(5)"
   ]
  },
  {
   "cell_type": "markdown",
   "metadata": {},
   "source": [
    "### Summary Statistics"
   ]
  },
  {
   "cell_type": "code",
   "execution_count": 6,
   "metadata": {
    "ExecuteTime": {
     "end_time": "2021-04-04T14:38:17.170775Z",
     "start_time": "2021-04-04T14:38:15.706300Z"
    }
   },
   "outputs": [
    {
     "data": {
      "text/html": [
       "<div>\n",
       "<style scoped>\n",
       "    .dataframe tbody tr th:only-of-type {\n",
       "        vertical-align: middle;\n",
       "    }\n",
       "\n",
       "    .dataframe tbody tr th {\n",
       "        vertical-align: top;\n",
       "    }\n",
       "\n",
       "    .dataframe thead th {\n",
       "        text-align: right;\n",
       "    }\n",
       "</style>\n",
       "<table border=\"1\" class=\"dataframe\">\n",
       "  <thead>\n",
       "    <tr style=\"text-align: right;\">\n",
       "      <th></th>\n",
       "      <th>count</th>\n",
       "      <th>unique</th>\n",
       "      <th>top</th>\n",
       "      <th>freq</th>\n",
       "    </tr>\n",
       "  </thead>\n",
       "  <tbody>\n",
       "    <tr>\n",
       "      <th>offense_date</th>\n",
       "      <td>1990315</td>\n",
       "      <td>11192</td>\n",
       "      <td>2013-03-26</td>\n",
       "      <td>1624</td>\n",
       "    </tr>\n",
       "    <tr>\n",
       "      <th>final_disposition</th>\n",
       "      <td>1933598</td>\n",
       "      <td>12</td>\n",
       "      <td>Guilty</td>\n",
       "      <td>873527</td>\n",
       "    </tr>\n",
       "    <tr>\n",
       "      <th>gender</th>\n",
       "      <td>1990315</td>\n",
       "      <td>2</td>\n",
       "      <td>Male</td>\n",
       "      <td>1496894</td>\n",
       "    </tr>\n",
       "    <tr>\n",
       "      <th>race</th>\n",
       "      <td>1987177</td>\n",
       "      <td>10</td>\n",
       "      <td>White Caucasian (Non-Hispanic)</td>\n",
       "      <td>987196</td>\n",
       "    </tr>\n",
       "    <tr>\n",
       "      <th>class</th>\n",
       "      <td>1489945</td>\n",
       "      <td>8</td>\n",
       "      <td>U</td>\n",
       "      <td>739442</td>\n",
       "    </tr>\n",
       "    <tr>\n",
       "      <th>charge_type</th>\n",
       "      <td>1990315</td>\n",
       "      <td>6</td>\n",
       "      <td>Felony</td>\n",
       "      <td>1388595</td>\n",
       "    </tr>\n",
       "    <tr>\n",
       "      <th>ammended_charge_type</th>\n",
       "      <td>167939</td>\n",
       "      <td>5</td>\n",
       "      <td>Misdemeanor</td>\n",
       "      <td>103012</td>\n",
       "    </tr>\n",
       "  </tbody>\n",
       "</table>\n",
       "</div>"
      ],
      "text/plain": [
       "                        count unique                             top     freq\n",
       "offense_date          1990315  11192                      2013-03-26     1624\n",
       "final_disposition     1933598     12                          Guilty   873527\n",
       "gender                1990315      2                            Male  1496894\n",
       "race                  1987177     10  White Caucasian (Non-Hispanic)   987196\n",
       "class                 1489945      8                               U   739442\n",
       "charge_type           1990315      6                          Felony  1388595\n",
       "ammended_charge_type   167939      5                     Misdemeanor   103012"
      ]
     },
     "execution_count": 6,
     "metadata": {},
     "output_type": "execute_result"
    }
   ],
   "source": [
    "# In this example, the data frame is described and [‘object’] is passed to include parameter\n",
    "# to see description of object series. [.20, .40, .60, .80] is passed to percentile parameter \n",
    "# to view the respective percentile of Numeric series.\n",
    "# see: https://www.geeksforgeeks.org/python-pandas-dataframe-describe-method/\n",
    "perc = [0.20, .40, .60, 0.80]\n",
    "include = ['object', 'float', 'int']\n",
    "df.describe(percentiles= perc, include=include).T"
   ]
  },
  {
   "cell_type": "markdown",
   "metadata": {},
   "source": [
    "**Observations:**  \n",
    "**TODO** - need to update \n",
    "* largest numbers of hearings on a given day - 2267 hearings were scheduled on 2019-05-06,\n",
    "* Max number of cases (987196) were filed White Caucasian (Non-Hispanic) race"
   ]
  },
  {
   "cell_type": "markdown",
   "metadata": {},
   "source": [
    "## Data Cleaning"
   ]
  },
  {
   "cell_type": "markdown",
   "metadata": {},
   "source": [
    "### Check for missing values"
   ]
  },
  {
   "cell_type": "code",
   "execution_count": 7,
   "metadata": {
    "ExecuteTime": {
     "end_time": "2021-04-04T14:38:17.855481Z",
     "start_time": "2021-04-04T14:38:17.420587Z"
    }
   },
   "outputs": [
    {
     "data": {
      "text/plain": [
       "person_id                     0\n",
       "offense_date                  0\n",
       "final_disposition         56717\n",
       "fips                          0\n",
       "gender                        0\n",
       "race                       3138\n",
       "class                    500370\n",
       "charge_type                   0\n",
       "ammended_charge_type    1822376\n",
       "dtype: int64"
      ]
     },
     "execution_count": 7,
     "metadata": {},
     "output_type": "execute_result"
    }
   ],
   "source": [
    "# number of na values in each column\n",
    "df.isna().sum()"
   ]
  },
  {
   "cell_type": "code",
   "execution_count": 8,
   "metadata": {
    "ExecuteTime": {
     "end_time": "2021-04-04T14:38:18.231370Z",
     "start_time": "2021-04-04T14:38:18.108473Z"
    }
   },
   "outputs": [
    {
     "data": {
      "text/plain": [
       "array(['White Caucasian (Non-Hispanic)', 'Black (Non-Hispanic)',\n",
       "       'Hispanic', 'Other (Includes Not Applicable, Unknown)',\n",
       "       'Asian Or Pacific Islander', nan, 'American Indian', 'White',\n",
       "       'Black', 'Unknown', 'American Indian Or Alaskan Native'],\n",
       "      dtype=object)"
      ]
     },
     "execution_count": 8,
     "metadata": {},
     "output_type": "execute_result"
    }
   ],
   "source": [
    "df['race'].unique()"
   ]
  },
  {
   "cell_type": "markdown",
   "metadata": {},
   "source": [
    "Following are the valid races from the data dictionary at https://medium.com/@virginiacourtdata/virginia-court-data-fields-e224a9a41e15#.qkeo5r6ds.\n",
    "\n",
    "[“American Indian”   \n",
    " “Asian Or Pacific Islander”   \n",
    " “Black (Non-Hispanic)”  \n",
    " “Hispanic”   \n",
    " “Other (Includes Not Applicable, Unknown)”  \n",
    " “White Caucasian (Non-Hispanic)” ]  \n",
    "\n",
    "The circuit-court data contains 'Black', 'white', 'nan' values, so we are making assumption the following assumptions\n",
    "\n",
    "1. The 'nan' value will be treated as missing value and will be imputed to \"Other (Includes Not Applicable, Unknown)\"  case\n",
    "2. The 'White' value will be treated as  'White Caucasian (Non-Hispanic)'\n",
    "3. The 'Black' value will be treated as  'White Caucasian (Non-Hispanic)'\n",
    "4. The 'Unkown' value will be treated as "
   ]
  },
  {
   "cell_type": "code",
   "execution_count": 9,
   "metadata": {
    "ExecuteTime": {
     "end_time": "2021-04-04T14:38:19.056970Z",
     "start_time": "2021-04-04T14:38:18.482290Z"
    }
   },
   "outputs": [
    {
     "data": {
      "text/plain": [
       "array(['White Caucasian (Non-Hispanic)', 'Black (Non-Hispanic)',\n",
       "       'Hispanic', 'Other (Includes Not Applicable, Unknown)',\n",
       "       'Asian Or Pacific Islander', 'American Indian',\n",
       "       'American Indian Or Alaskan Native'], dtype=object)"
      ]
     },
     "execution_count": 9,
     "metadata": {},
     "output_type": "execute_result"
    }
   ],
   "source": [
    "df.loc[df['race'] == 'White', 'race'] = 'White Caucasian (Non-Hispanic)' \n",
    "df.loc[df['race'] == 'Black', 'race'] = 'Black (Non-Hispanic)' \n",
    "df.loc[df['race'] == 'Unknown', 'race'] = 'Other (Includes Not Applicable, Unknown)'\n",
    "df.loc[df['race'].isna(), 'race'] = 'Other (Includes Not Applicable, Unknown)'\n",
    "df['race'].unique()"
   ]
  },
  {
   "cell_type": "code",
   "execution_count": 10,
   "metadata": {
    "ExecuteTime": {
     "end_time": "2021-04-04T14:38:19.478989Z",
     "start_time": "2021-04-04T14:38:19.338522Z"
    }
   },
   "outputs": [
    {
     "data": {
      "text/plain": [
       "array(['Nolle Prosequi', 'Sentence/Probation Revoked', 'Guilty',\n",
       "       'Dismissed', 'Not Guilty/Acquitted', nan, 'Appeal Withdrawn',\n",
       "       'Not True Bill', 'Remanded', 'No Indictment Presented', 'Mistrial',\n",
       "       'Resolved', 'Not Guilty By Reason Of Insanity'], dtype=object)"
      ]
     },
     "execution_count": 10,
     "metadata": {},
     "output_type": "execute_result"
    }
   ],
   "source": [
    "df['final_disposition'].unique()"
   ]
  },
  {
   "cell_type": "markdown",
   "metadata": {
    "ExecuteTime": {
     "end_time": "2021-04-02T17:22:15.336915Z",
     "start_time": "2021-04-02T17:22:15.187929Z"
    }
   },
   "source": [
    "Following are the valid races from the data dictionary at https://medium.com/@virginiacourtdata/virginia-court-data-fields-e224a9a41e15#.qkeo5r6ds.\n",
    "\n",
    "**FinalDisposition**  \n",
    "[“Appeal Withdrawn”  \n",
    "“Dismissed”  \n",
    "“Guilty”  \n",
    "“Mistrial”  \n",
    "“No Indictment Presented”  \n",
    "“Nolle Prosequi”  \n",
    "“Not Guilty/Acquitted”  \n",
    "“Not Guilty By Reason Of Insanity”  \n",
    "“Not True Bill”  \n",
    "“Remanded”  \n",
    "“Resolved”  \n",
    "“Sentence/Probation Revoked”]     "
   ]
  },
  {
   "cell_type": "code",
   "execution_count": 11,
   "metadata": {
    "ExecuteTime": {
     "end_time": "2021-04-04T14:38:19.854828Z",
     "start_time": "2021-04-04T14:38:19.732862Z"
    }
   },
   "outputs": [
    {
     "data": {
      "text/plain": [
       "array(['Female', 'Male'], dtype=object)"
      ]
     },
     "execution_count": 11,
     "metadata": {},
     "output_type": "execute_result"
    }
   ],
   "source": [
    "df['gender'].unique()"
   ]
  },
  {
   "cell_type": "code",
   "execution_count": 12,
   "metadata": {
    "ExecuteTime": {
     "end_time": "2021-04-04T14:38:20.245155Z",
     "start_time": "2021-04-04T14:38:20.105800Z"
    }
   },
   "outputs": [
    {
     "data": {
      "text/plain": [
       "array(['Felony', 'Misdemeanor', 'Infraction',\n",
       "       'Other (Animal Violations, Bond Appeals)', 'Civil', 'F'],\n",
       "      dtype=object)"
      ]
     },
     "execution_count": 12,
     "metadata": {},
     "output_type": "execute_result"
    }
   ],
   "source": [
    "#Possible values from doc metadata ChargeType “Civil” “F” “Felony” “Infraction” “Misdemeanor” “Other (Animal Violations, Bond Appeals)”\n",
    "df['charge_type'].unique()"
   ]
  },
  {
   "cell_type": "code",
   "execution_count": 13,
   "metadata": {
    "ExecuteTime": {
     "end_time": "2021-04-04T14:38:21.103883Z",
     "start_time": "2021-04-04T14:38:20.497552Z"
    }
   },
   "outputs": [
    {
     "data": {
      "text/html": [
       "<div>\n",
       "<style scoped>\n",
       "    .dataframe tbody tr th:only-of-type {\n",
       "        vertical-align: middle;\n",
       "    }\n",
       "\n",
       "    .dataframe tbody tr th {\n",
       "        vertical-align: top;\n",
       "    }\n",
       "\n",
       "    .dataframe thead th {\n",
       "        text-align: right;\n",
       "    }\n",
       "</style>\n",
       "<table border=\"1\" class=\"dataframe\">\n",
       "  <thead>\n",
       "    <tr style=\"text-align: right;\">\n",
       "      <th></th>\n",
       "      <th>person_id</th>\n",
       "      <th>offense_date</th>\n",
       "      <th>final_disposition</th>\n",
       "      <th>fips</th>\n",
       "      <th>gender</th>\n",
       "      <th>race</th>\n",
       "      <th>class</th>\n",
       "      <th>ammended_charge_type</th>\n",
       "    </tr>\n",
       "    <tr>\n",
       "      <th>charge_type</th>\n",
       "      <th></th>\n",
       "      <th></th>\n",
       "      <th></th>\n",
       "      <th></th>\n",
       "      <th></th>\n",
       "      <th></th>\n",
       "      <th></th>\n",
       "      <th></th>\n",
       "    </tr>\n",
       "  </thead>\n",
       "  <tbody>\n",
       "    <tr>\n",
       "      <th>Civil</th>\n",
       "      <td>6200</td>\n",
       "      <td>6200</td>\n",
       "      <td>5949</td>\n",
       "      <td>6200</td>\n",
       "      <td>6200</td>\n",
       "      <td>6200</td>\n",
       "      <td>2681</td>\n",
       "      <td>53</td>\n",
       "    </tr>\n",
       "    <tr>\n",
       "      <th>F</th>\n",
       "      <td>1</td>\n",
       "      <td>1</td>\n",
       "      <td>0</td>\n",
       "      <td>1</td>\n",
       "      <td>1</td>\n",
       "      <td>1</td>\n",
       "      <td>0</td>\n",
       "      <td>0</td>\n",
       "    </tr>\n",
       "    <tr>\n",
       "      <th>Felony</th>\n",
       "      <td>1388595</td>\n",
       "      <td>1388595</td>\n",
       "      <td>1346959</td>\n",
       "      <td>1388595</td>\n",
       "      <td>1388595</td>\n",
       "      <td>1388595</td>\n",
       "      <td>1098398</td>\n",
       "      <td>129672</td>\n",
       "    </tr>\n",
       "    <tr>\n",
       "      <th>Infraction</th>\n",
       "      <td>76609</td>\n",
       "      <td>76609</td>\n",
       "      <td>76153</td>\n",
       "      <td>76609</td>\n",
       "      <td>76609</td>\n",
       "      <td>76609</td>\n",
       "      <td>23649</td>\n",
       "      <td>9373</td>\n",
       "    </tr>\n",
       "    <tr>\n",
       "      <th>Misdemeanor</th>\n",
       "      <td>462438</td>\n",
       "      <td>462438</td>\n",
       "      <td>450306</td>\n",
       "      <td>462438</td>\n",
       "      <td>462438</td>\n",
       "      <td>462438</td>\n",
       "      <td>364985</td>\n",
       "      <td>28833</td>\n",
       "    </tr>\n",
       "    <tr>\n",
       "      <th>Other (Animal Violations, Bond Appeals)</th>\n",
       "      <td>56472</td>\n",
       "      <td>56472</td>\n",
       "      <td>54231</td>\n",
       "      <td>56472</td>\n",
       "      <td>56472</td>\n",
       "      <td>56472</td>\n",
       "      <td>232</td>\n",
       "      <td>8</td>\n",
       "    </tr>\n",
       "  </tbody>\n",
       "</table>\n",
       "</div>"
      ],
      "text/plain": [
       "                                         person_id  offense_date  \\\n",
       "charge_type                                                        \n",
       "Civil                                         6200          6200   \n",
       "F                                                1             1   \n",
       "Felony                                     1388595       1388595   \n",
       "Infraction                                   76609         76609   \n",
       "Misdemeanor                                 462438        462438   \n",
       "Other (Animal Violations, Bond Appeals)      56472         56472   \n",
       "\n",
       "                                         final_disposition     fips   gender  \\\n",
       "charge_type                                                                    \n",
       "Civil                                                 5949     6200     6200   \n",
       "F                                                        0        1        1   \n",
       "Felony                                             1346959  1388595  1388595   \n",
       "Infraction                                           76153    76609    76609   \n",
       "Misdemeanor                                         450306   462438   462438   \n",
       "Other (Animal Violations, Bond Appeals)              54231    56472    56472   \n",
       "\n",
       "                                            race    class  \\\n",
       "charge_type                                                 \n",
       "Civil                                       6200     2681   \n",
       "F                                              1        0   \n",
       "Felony                                   1388595  1098398   \n",
       "Infraction                                 76609    23649   \n",
       "Misdemeanor                               462438   364985   \n",
       "Other (Animal Violations, Bond Appeals)    56472      232   \n",
       "\n",
       "                                         ammended_charge_type  \n",
       "charge_type                                                    \n",
       "Civil                                                      53  \n",
       "F                                                           0  \n",
       "Felony                                                 129672  \n",
       "Infraction                                               9373  \n",
       "Misdemeanor                                             28833  \n",
       "Other (Animal Violations, Bond Appeals)                     8  "
      ]
     },
     "execution_count": 13,
     "metadata": {},
     "output_type": "execute_result"
    }
   ],
   "source": [
    "df.groupby('charge_type').count()"
   ]
  },
  {
   "cell_type": "code",
   "execution_count": 14,
   "metadata": {
    "ExecuteTime": {
     "end_time": "2021-04-04T14:38:21.479870Z",
     "start_time": "2021-04-04T14:38:21.356017Z"
    }
   },
   "outputs": [
    {
     "data": {
      "text/plain": [
       "array([nan, 'Misdemeanor', 'Felony', 'Infraction',\n",
       "       'Other (Animal Violations, Bond Appeals)', 'Civil'], dtype=object)"
      ]
     },
     "execution_count": 14,
     "metadata": {},
     "output_type": "execute_result"
    }
   ],
   "source": [
    "#Possible values from doc metadata ChargeType “Civil” “F” “Felony” “Infraction” “Misdemeanor” “Other (Animal Violations, Bond Appeals)”\n",
    "df['ammended_charge_type'].unique()"
   ]
  },
  {
   "cell_type": "markdown",
   "metadata": {},
   "source": [
    "**Note:**  \n",
    "For our study, **'person_id', 'offense_date', 'final_disposition', 'fips', 'race', 'gender', and 'charge_type'** are mandatory columns.\n",
    "So removing all records where these field values are missing will be removed"
   ]
  },
  {
   "cell_type": "code",
   "execution_count": 15,
   "metadata": {
    "ExecuteTime": {
     "end_time": "2021-04-04T14:38:22.335708Z",
     "start_time": "2021-04-04T14:38:21.731383Z"
    }
   },
   "outputs": [
    {
     "name": "stdout",
     "output_type": "stream",
     "text": [
      "Num of records after cleaning missing data 1443699\n"
     ]
    }
   ],
   "source": [
    "df.dropna(axis=0, subset=['person_id', 'offense_date', 'final_disposition', 'fips', 'class',\\\n",
    "                          'race', 'gender', 'charge_type',],\\\n",
    "                          inplace=True)\n",
    "print(f\"Num of records after cleaning missing data {len(df)}\")"
   ]
  },
  {
   "cell_type": "code",
   "execution_count": 16,
   "metadata": {
    "ExecuteTime": {
     "end_time": "2021-04-04T14:38:22.694375Z",
     "start_time": "2021-04-04T14:38:22.588577Z"
    }
   },
   "outputs": [],
   "source": [
    "# for the moment we consider case_class as important field, so we will impute missing value 'unknown'\n",
    "df['ammended_charge_type'].fillna('unknown', inplace=True)"
   ]
  },
  {
   "cell_type": "code",
   "execution_count": 17,
   "metadata": {
    "ExecuteTime": {
     "end_time": "2021-04-04T14:38:23.275304Z",
     "start_time": "2021-04-04T14:38:22.946760Z"
    }
   },
   "outputs": [
    {
     "data": {
      "text/plain": [
       "person_id               0\n",
       "offense_date            0\n",
       "final_disposition       0\n",
       "fips                    0\n",
       "gender                  0\n",
       "race                    0\n",
       "class                   0\n",
       "charge_type             0\n",
       "ammended_charge_type    0\n",
       "dtype: int64"
      ]
     },
     "execution_count": 17,
     "metadata": {},
     "output_type": "execute_result"
    }
   ],
   "source": [
    "# validating for missing data again\n",
    "df.isna().sum()"
   ]
  },
  {
   "cell_type": "markdown",
   "metadata": {},
   "source": [
    "### Check for duplicate records"
   ]
  },
  {
   "cell_type": "code",
   "execution_count": 18,
   "metadata": {
    "ExecuteTime": {
     "end_time": "2021-04-04T14:38:24.366656Z",
     "start_time": "2021-04-04T14:38:23.542720Z"
    }
   },
   "outputs": [
    {
     "data": {
      "text/html": [
       "<div>\n",
       "<style scoped>\n",
       "    .dataframe tbody tr th:only-of-type {\n",
       "        vertical-align: middle;\n",
       "    }\n",
       "\n",
       "    .dataframe tbody tr th {\n",
       "        vertical-align: top;\n",
       "    }\n",
       "\n",
       "    .dataframe thead th {\n",
       "        text-align: right;\n",
       "    }\n",
       "</style>\n",
       "<table border=\"1\" class=\"dataframe\">\n",
       "  <thead>\n",
       "    <tr style=\"text-align: right;\">\n",
       "      <th></th>\n",
       "      <th>index</th>\n",
       "    </tr>\n",
       "    <tr>\n",
       "      <th>isduplicate</th>\n",
       "      <th></th>\n",
       "    </tr>\n",
       "  </thead>\n",
       "  <tbody>\n",
       "    <tr>\n",
       "      <th>False</th>\n",
       "      <td>1123044</td>\n",
       "    </tr>\n",
       "    <tr>\n",
       "      <th>True</th>\n",
       "      <td>320655</td>\n",
       "    </tr>\n",
       "  </tbody>\n",
       "</table>\n",
       "</div>"
      ],
      "text/plain": [
       "               index\n",
       "isduplicate         \n",
       "False        1123044\n",
       "True          320655"
      ]
     },
     "execution_count": 18,
     "metadata": {},
     "output_type": "execute_result"
    }
   ],
   "source": [
    "duplicate_records = pd.DataFrame(df.duplicated(), columns=['isduplicate'])\n",
    "duplicate_records = duplicate_records.reset_index()\n",
    "duplicate_records.columns = [str(column) for column in duplicate_records.columns]\n",
    "duplicate_records.set_index('index')\n",
    "duplicate_records.groupby('isduplicate').count()"
   ]
  },
  {
   "cell_type": "markdown",
   "metadata": {},
   "source": [
    "**TODO:** Our dataset has X duplicate records, so we purge these records from our dataset"
   ]
  },
  {
   "cell_type": "code",
   "execution_count": 19,
   "metadata": {
    "ExecuteTime": {
     "end_time": "2021-04-04T14:38:25.382603Z",
     "start_time": "2021-04-04T14:38:24.665771Z"
    }
   },
   "outputs": [
    {
     "data": {
      "text/plain": [
       "984062"
      ]
     },
     "execution_count": 19,
     "metadata": {},
     "output_type": "execute_result"
    }
   ],
   "source": [
    "#drop duplicate records\n",
    "df = df.drop_duplicates(['person_id', 'offense_date', 'final_disposition', 'fips', 'race', 'gender', 'ammended_charge_type'])\n",
    "len(df)"
   ]
  },
  {
   "cell_type": "markdown",
   "metadata": {},
   "source": [
    "## Preprocessing Data"
   ]
  },
  {
   "cell_type": "markdown",
   "metadata": {},
   "source": [
    "### Adding fips_area name column"
   ]
  },
  {
   "cell_type": "markdown",
   "metadata": {},
   "source": [
    "**Note**: FIPS Code file that I am using has duplicates resulting in Cartesian product, for now commenting the code"
   ]
  },
  {
   "cell_type": "code",
   "execution_count": 20,
   "metadata": {
    "ExecuteTime": {
     "end_time": "2021-04-04T14:38:25.693707Z",
     "start_time": "2021-04-04T14:38:25.632739Z"
    }
   },
   "outputs": [
    {
     "data": {
      "text/html": [
       "<div>\n",
       "<style scoped>\n",
       "    .dataframe tbody tr th:only-of-type {\n",
       "        vertical-align: middle;\n",
       "    }\n",
       "\n",
       "    .dataframe tbody tr th {\n",
       "        vertical-align: top;\n",
       "    }\n",
       "\n",
       "    .dataframe thead th {\n",
       "        text-align: right;\n",
       "    }\n",
       "</style>\n",
       "<table border=\"1\" class=\"dataframe\">\n",
       "  <thead>\n",
       "    <tr style=\"text-align: right;\">\n",
       "      <th></th>\n",
       "      <th>fips</th>\n",
       "      <th>name</th>\n",
       "    </tr>\n",
       "  </thead>\n",
       "  <tbody>\n",
       "    <tr>\n",
       "      <th>0</th>\n",
       "      <td>1</td>\n",
       "      <td>Accomack Circuit Court</td>\n",
       "    </tr>\n",
       "    <tr>\n",
       "      <th>1</th>\n",
       "      <td>3</td>\n",
       "      <td>Albemarle Circuit Court</td>\n",
       "    </tr>\n",
       "    <tr>\n",
       "      <th>2</th>\n",
       "      <td>5</td>\n",
       "      <td>Alleghany Circuit Court</td>\n",
       "    </tr>\n",
       "    <tr>\n",
       "      <th>3</th>\n",
       "      <td>7</td>\n",
       "      <td>Amelia Circuit Court</td>\n",
       "    </tr>\n",
       "    <tr>\n",
       "      <th>4</th>\n",
       "      <td>9</td>\n",
       "      <td>Amherst Circuit Court</td>\n",
       "    </tr>\n",
       "    <tr>\n",
       "      <th>...</th>\n",
       "      <td>...</td>\n",
       "      <td>...</td>\n",
       "    </tr>\n",
       "    <tr>\n",
       "      <th>114</th>\n",
       "      <td>800</td>\n",
       "      <td>Suffolk Circuit Court</td>\n",
       "    </tr>\n",
       "    <tr>\n",
       "      <th>115</th>\n",
       "      <td>810</td>\n",
       "      <td>Virginia Beach Circuit Court</td>\n",
       "    </tr>\n",
       "    <tr>\n",
       "      <th>116</th>\n",
       "      <td>820</td>\n",
       "      <td>Waynesboro Circuit Court</td>\n",
       "    </tr>\n",
       "    <tr>\n",
       "      <th>117</th>\n",
       "      <td>830</td>\n",
       "      <td>Williamsburg/James City County Circuit Court</td>\n",
       "    </tr>\n",
       "    <tr>\n",
       "      <th>118</th>\n",
       "      <td>840</td>\n",
       "      <td>Winchester Circuit Court</td>\n",
       "    </tr>\n",
       "  </tbody>\n",
       "</table>\n",
       "<p>119 rows × 2 columns</p>\n",
       "</div>"
      ],
      "text/plain": [
       "     fips                                          name\n",
       "0       1                        Accomack Circuit Court\n",
       "1       3                       Albemarle Circuit Court\n",
       "2       5                       Alleghany Circuit Court\n",
       "3       7                          Amelia Circuit Court\n",
       "4       9                         Amherst Circuit Court\n",
       "..    ...                                           ...\n",
       "114   800                         Suffolk Circuit Court\n",
       "115   810                  Virginia Beach Circuit Court\n",
       "116   820                      Waynesboro Circuit Court\n",
       "117   830  Williamsburg/James City County Circuit Court\n",
       "118   840                      Winchester Circuit Court\n",
       "\n",
       "[119 rows x 2 columns]"
      ]
     },
     "execution_count": 20,
     "metadata": {},
     "output_type": "execute_result"
    }
   ],
   "source": [
    "#load fips code table\n",
    "fips_file = 'reference-data/va-fips-codes.csv'\n",
    "fips_df = pd.read_csv(fips_file)\n",
    "fips_df"
   ]
  },
  {
   "cell_type": "code",
   "execution_count": 21,
   "metadata": {
    "ExecuteTime": {
     "end_time": "2021-04-04T14:38:26.308867Z",
     "start_time": "2021-04-04T14:38:25.948638Z"
    },
    "code_folding": [],
    "scrolled": true
   },
   "outputs": [
    {
     "data": {
      "text/html": [
       "<div>\n",
       "<style scoped>\n",
       "    .dataframe tbody tr th:only-of-type {\n",
       "        vertical-align: middle;\n",
       "    }\n",
       "\n",
       "    .dataframe tbody tr th {\n",
       "        vertical-align: top;\n",
       "    }\n",
       "\n",
       "    .dataframe thead th {\n",
       "        text-align: right;\n",
       "    }\n",
       "</style>\n",
       "<table border=\"1\" class=\"dataframe\">\n",
       "  <thead>\n",
       "    <tr style=\"text-align: right;\">\n",
       "      <th></th>\n",
       "      <th>person_id</th>\n",
       "      <th>offense_date</th>\n",
       "      <th>final_disposition</th>\n",
       "      <th>fips</th>\n",
       "      <th>gender</th>\n",
       "      <th>race</th>\n",
       "      <th>class</th>\n",
       "      <th>charge_type</th>\n",
       "      <th>ammended_charge_type</th>\n",
       "      <th>fips_area</th>\n",
       "    </tr>\n",
       "  </thead>\n",
       "  <tbody>\n",
       "    <tr>\n",
       "      <th>0</th>\n",
       "      <td>141170000000472</td>\n",
       "      <td>2009-01-09</td>\n",
       "      <td>Guilty</td>\n",
       "      <td>99</td>\n",
       "      <td>Male</td>\n",
       "      <td>White Caucasian (Non-Hispanic)</td>\n",
       "      <td>6</td>\n",
       "      <td>Felony</td>\n",
       "      <td>unknown</td>\n",
       "      <td>King George Circuit Court</td>\n",
       "    </tr>\n",
       "    <tr>\n",
       "      <th>1</th>\n",
       "      <td>28110000000310</td>\n",
       "      <td>2009-04-27</td>\n",
       "      <td>Guilty</td>\n",
       "      <td>99</td>\n",
       "      <td>Male</td>\n",
       "      <td>White Caucasian (Non-Hispanic)</td>\n",
       "      <td>5</td>\n",
       "      <td>Felony</td>\n",
       "      <td>unknown</td>\n",
       "      <td>King George Circuit Court</td>\n",
       "    </tr>\n",
       "    <tr>\n",
       "      <th>2</th>\n",
       "      <td>333221000000063</td>\n",
       "      <td>2009-06-12</td>\n",
       "      <td>Guilty</td>\n",
       "      <td>99</td>\n",
       "      <td>Female</td>\n",
       "      <td>White Caucasian (Non-Hispanic)</td>\n",
       "      <td>5</td>\n",
       "      <td>Felony</td>\n",
       "      <td>unknown</td>\n",
       "      <td>King George Circuit Court</td>\n",
       "    </tr>\n",
       "    <tr>\n",
       "      <th>3</th>\n",
       "      <td>259101000000198</td>\n",
       "      <td>2009-06-09</td>\n",
       "      <td>Guilty</td>\n",
       "      <td>99</td>\n",
       "      <td>Female</td>\n",
       "      <td>Black (Non-Hispanic)</td>\n",
       "      <td>1</td>\n",
       "      <td>Misdemeanor</td>\n",
       "      <td>unknown</td>\n",
       "      <td>King George Circuit Court</td>\n",
       "    </tr>\n",
       "    <tr>\n",
       "      <th>4</th>\n",
       "      <td>131120000001148</td>\n",
       "      <td>2009-05-06</td>\n",
       "      <td>Guilty</td>\n",
       "      <td>99</td>\n",
       "      <td>Male</td>\n",
       "      <td>White Caucasian (Non-Hispanic)</td>\n",
       "      <td>1</td>\n",
       "      <td>Misdemeanor</td>\n",
       "      <td>unknown</td>\n",
       "      <td>King George Circuit Court</td>\n",
       "    </tr>\n",
       "  </tbody>\n",
       "</table>\n",
       "</div>"
      ],
      "text/plain": [
       "         person_id offense_date final_disposition  fips  gender  \\\n",
       "0  141170000000472   2009-01-09            Guilty    99    Male   \n",
       "1   28110000000310   2009-04-27            Guilty    99    Male   \n",
       "2  333221000000063   2009-06-12            Guilty    99  Female   \n",
       "3  259101000000198   2009-06-09            Guilty    99  Female   \n",
       "4  131120000001148   2009-05-06            Guilty    99    Male   \n",
       "\n",
       "                             race class  charge_type ammended_charge_type  \\\n",
       "0  White Caucasian (Non-Hispanic)     6       Felony              unknown   \n",
       "1  White Caucasian (Non-Hispanic)     5       Felony              unknown   \n",
       "2  White Caucasian (Non-Hispanic)     5       Felony              unknown   \n",
       "3            Black (Non-Hispanic)     1  Misdemeanor              unknown   \n",
       "4  White Caucasian (Non-Hispanic)     1  Misdemeanor              unknown   \n",
       "\n",
       "                   fips_area  \n",
       "0  King George Circuit Court  \n",
       "1  King George Circuit Court  \n",
       "2  King George Circuit Court  \n",
       "3  King George Circuit Court  \n",
       "4  King George Circuit Court  "
      ]
     },
     "execution_count": 21,
     "metadata": {},
     "output_type": "execute_result"
    }
   ],
   "source": [
    "# #add fips_area\n",
    "df = pd.merge(df,fips_df, on='fips', how='left')\\\n",
    "    .rename(columns={'name': 'fips_area'})\n",
    "df.head()"
   ]
  },
  {
   "cell_type": "markdown",
   "metadata": {},
   "source": [
    "### Adding candidate column"
   ]
  },
  {
   "cell_type": "code",
   "execution_count": 22,
   "metadata": {
    "ExecuteTime": {
     "end_time": "2021-04-04T14:39:02.159455Z",
     "start_time": "2021-04-04T14:39:01.764878Z"
    }
   },
   "outputs": [],
   "source": [
    "cand_list =['Dismissed','Noile Prosequi','Not Guilty', 'Withdrawn', 'Not Found', 'No Indictment Presented', 'No Longer Under Advisement', 'Not True Bill']\n",
    "df['candidate'] = [1 if x in cand_list else 0 for x in df['final_disposition']]"
   ]
  },
  {
   "cell_type": "code",
   "execution_count": 23,
   "metadata": {
    "ExecuteTime": {
     "end_time": "2021-04-04T14:39:02.951022Z",
     "start_time": "2021-04-04T14:39:02.794822Z"
    }
   },
   "outputs": [
    {
     "data": {
      "text/html": [
       "<div>\n",
       "<style scoped>\n",
       "    .dataframe tbody tr th:only-of-type {\n",
       "        vertical-align: middle;\n",
       "    }\n",
       "\n",
       "    .dataframe tbody tr th {\n",
       "        vertical-align: top;\n",
       "    }\n",
       "\n",
       "    .dataframe thead th {\n",
       "        text-align: right;\n",
       "    }\n",
       "</style>\n",
       "<table border=\"1\" class=\"dataframe\">\n",
       "  <thead>\n",
       "    <tr style=\"text-align: right;\">\n",
       "      <th></th>\n",
       "      <th>person_id</th>\n",
       "      <th>offense_date</th>\n",
       "      <th>final_disposition</th>\n",
       "      <th>fips</th>\n",
       "      <th>gender</th>\n",
       "      <th>race</th>\n",
       "      <th>class</th>\n",
       "      <th>charge_type</th>\n",
       "      <th>ammended_charge_type</th>\n",
       "      <th>fips_area</th>\n",
       "      <th>candidate</th>\n",
       "    </tr>\n",
       "  </thead>\n",
       "  <tbody>\n",
       "    <tr>\n",
       "      <th>74099</th>\n",
       "      <td>233070000000034</td>\n",
       "      <td>2009-08-25</td>\n",
       "      <td>Guilty</td>\n",
       "      <td>690</td>\n",
       "      <td>Male</td>\n",
       "      <td>Black (Non-Hispanic)</td>\n",
       "      <td>U</td>\n",
       "      <td>Felony</td>\n",
       "      <td>unknown</td>\n",
       "      <td>Martinsville Circuit Court</td>\n",
       "      <td>0</td>\n",
       "    </tr>\n",
       "    <tr>\n",
       "      <th>220288</th>\n",
       "      <td>361151000000260</td>\n",
       "      <td>2011-11-01</td>\n",
       "      <td>Sentence/Probation Revoked</td>\n",
       "      <td>550</td>\n",
       "      <td>Female</td>\n",
       "      <td>White Caucasian (Non-Hispanic)</td>\n",
       "      <td>U</td>\n",
       "      <td>Felony</td>\n",
       "      <td>unknown</td>\n",
       "      <td>Chesapeake Circuit Court</td>\n",
       "      <td>0</td>\n",
       "    </tr>\n",
       "    <tr>\n",
       "      <th>225969</th>\n",
       "      <td>291020000000220</td>\n",
       "      <td>2012-06-04</td>\n",
       "      <td>Sentence/Probation Revoked</td>\n",
       "      <td>810</td>\n",
       "      <td>Male</td>\n",
       "      <td>White Caucasian (Non-Hispanic)</td>\n",
       "      <td>U</td>\n",
       "      <td>Felony</td>\n",
       "      <td>unknown</td>\n",
       "      <td>Virginia Beach Circuit Court</td>\n",
       "      <td>0</td>\n",
       "    </tr>\n",
       "    <tr>\n",
       "      <th>243217</th>\n",
       "      <td>262131000000047</td>\n",
       "      <td>2010-04-02</td>\n",
       "      <td>Guilty</td>\n",
       "      <td>700</td>\n",
       "      <td>Female</td>\n",
       "      <td>White Caucasian (Non-Hispanic)</td>\n",
       "      <td>2</td>\n",
       "      <td>Felony</td>\n",
       "      <td>Felony</td>\n",
       "      <td>Newport News Circuit Court</td>\n",
       "      <td>0</td>\n",
       "    </tr>\n",
       "    <tr>\n",
       "      <th>236432</th>\n",
       "      <td>332011000000557</td>\n",
       "      <td>2012-05-30</td>\n",
       "      <td>Guilty</td>\n",
       "      <td>820</td>\n",
       "      <td>Female</td>\n",
       "      <td>White Caucasian (Non-Hispanic)</td>\n",
       "      <td>5</td>\n",
       "      <td>Felony</td>\n",
       "      <td>unknown</td>\n",
       "      <td>Waynesboro Circuit Court</td>\n",
       "      <td>0</td>\n",
       "    </tr>\n",
       "    <tr>\n",
       "      <th>133932</th>\n",
       "      <td>184180000000792</td>\n",
       "      <td>2011-07-25</td>\n",
       "      <td>Nolle Prosequi</td>\n",
       "      <td>760</td>\n",
       "      <td>Male</td>\n",
       "      <td>Black (Non-Hispanic)</td>\n",
       "      <td>U</td>\n",
       "      <td>Felony</td>\n",
       "      <td>unknown</td>\n",
       "      <td>Richmond City Circuit Court</td>\n",
       "      <td>0</td>\n",
       "    </tr>\n",
       "    <tr>\n",
       "      <th>729661</th>\n",
       "      <td>205060000000475</td>\n",
       "      <td>2017-03-05</td>\n",
       "      <td>Guilty</td>\n",
       "      <td>73</td>\n",
       "      <td>Male</td>\n",
       "      <td>White Caucasian (Non-Hispanic)</td>\n",
       "      <td>U</td>\n",
       "      <td>Misdemeanor</td>\n",
       "      <td>unknown</td>\n",
       "      <td>Gloucester Circuit Court</td>\n",
       "      <td>0</td>\n",
       "    </tr>\n",
       "    <tr>\n",
       "      <th>2089</th>\n",
       "      <td>300010000000864</td>\n",
       "      <td>2004-11-09</td>\n",
       "      <td>Nolle Prosequi</td>\n",
       "      <td>760</td>\n",
       "      <td>Male</td>\n",
       "      <td>White Caucasian (Non-Hispanic)</td>\n",
       "      <td>U</td>\n",
       "      <td>Felony</td>\n",
       "      <td>unknown</td>\n",
       "      <td>Richmond City Circuit Court</td>\n",
       "      <td>0</td>\n",
       "    </tr>\n",
       "    <tr>\n",
       "      <th>442974</th>\n",
       "      <td>117070000000298</td>\n",
       "      <td>2014-02-03</td>\n",
       "      <td>Dismissed</td>\n",
       "      <td>187</td>\n",
       "      <td>Male</td>\n",
       "      <td>White Caucasian (Non-Hispanic)</td>\n",
       "      <td>U</td>\n",
       "      <td>Felony</td>\n",
       "      <td>unknown</td>\n",
       "      <td>Warren Circuit Court</td>\n",
       "      <td>1</td>\n",
       "    </tr>\n",
       "    <tr>\n",
       "      <th>466553</th>\n",
       "      <td>57190000000276</td>\n",
       "      <td>2013-09-24</td>\n",
       "      <td>Guilty</td>\n",
       "      <td>550</td>\n",
       "      <td>Male</td>\n",
       "      <td>White Caucasian (Non-Hispanic)</td>\n",
       "      <td>5</td>\n",
       "      <td>Felony</td>\n",
       "      <td>unknown</td>\n",
       "      <td>Chesapeake Circuit Court</td>\n",
       "      <td>0</td>\n",
       "    </tr>\n",
       "  </tbody>\n",
       "</table>\n",
       "</div>"
      ],
      "text/plain": [
       "              person_id offense_date           final_disposition  fips  \\\n",
       "74099   233070000000034   2009-08-25                      Guilty   690   \n",
       "220288  361151000000260   2011-11-01  Sentence/Probation Revoked   550   \n",
       "225969  291020000000220   2012-06-04  Sentence/Probation Revoked   810   \n",
       "243217  262131000000047   2010-04-02                      Guilty   700   \n",
       "236432  332011000000557   2012-05-30                      Guilty   820   \n",
       "133932  184180000000792   2011-07-25              Nolle Prosequi   760   \n",
       "729661  205060000000475   2017-03-05                      Guilty    73   \n",
       "2089    300010000000864   2004-11-09              Nolle Prosequi   760   \n",
       "442974  117070000000298   2014-02-03                   Dismissed   187   \n",
       "466553   57190000000276   2013-09-24                      Guilty   550   \n",
       "\n",
       "        gender                            race class  charge_type  \\\n",
       "74099     Male            Black (Non-Hispanic)     U       Felony   \n",
       "220288  Female  White Caucasian (Non-Hispanic)     U       Felony   \n",
       "225969    Male  White Caucasian (Non-Hispanic)     U       Felony   \n",
       "243217  Female  White Caucasian (Non-Hispanic)     2       Felony   \n",
       "236432  Female  White Caucasian (Non-Hispanic)     5       Felony   \n",
       "133932    Male            Black (Non-Hispanic)     U       Felony   \n",
       "729661    Male  White Caucasian (Non-Hispanic)     U  Misdemeanor   \n",
       "2089      Male  White Caucasian (Non-Hispanic)     U       Felony   \n",
       "442974    Male  White Caucasian (Non-Hispanic)     U       Felony   \n",
       "466553    Male  White Caucasian (Non-Hispanic)     5       Felony   \n",
       "\n",
       "       ammended_charge_type                     fips_area  candidate  \n",
       "74099               unknown    Martinsville Circuit Court          0  \n",
       "220288              unknown      Chesapeake Circuit Court          0  \n",
       "225969              unknown  Virginia Beach Circuit Court          0  \n",
       "243217               Felony    Newport News Circuit Court          0  \n",
       "236432              unknown      Waynesboro Circuit Court          0  \n",
       "133932              unknown   Richmond City Circuit Court          0  \n",
       "729661              unknown      Gloucester Circuit Court          0  \n",
       "2089                unknown   Richmond City Circuit Court          0  \n",
       "442974              unknown          Warren Circuit Court          1  \n",
       "466553              unknown      Chesapeake Circuit Court          0  "
      ]
     },
     "execution_count": 23,
     "metadata": {},
     "output_type": "execute_result"
    }
   ],
   "source": [
    "df.sample(10)"
   ]
  },
  {
   "cell_type": "code",
   "execution_count": 24,
   "metadata": {
    "ExecuteTime": {
     "end_time": "2021-04-04T14:39:03.900984Z",
     "start_time": "2021-04-04T14:39:03.829203Z"
    },
    "scrolled": true
   },
   "outputs": [
    {
     "data": {
      "text/html": [
       "<div>\n",
       "<style scoped>\n",
       "    .dataframe tbody tr th:only-of-type {\n",
       "        vertical-align: middle;\n",
       "    }\n",
       "\n",
       "    .dataframe tbody tr th {\n",
       "        vertical-align: top;\n",
       "    }\n",
       "\n",
       "    .dataframe thead th {\n",
       "        text-align: right;\n",
       "    }\n",
       "</style>\n",
       "<table border=\"1\" class=\"dataframe\">\n",
       "  <thead>\n",
       "    <tr style=\"text-align: right;\">\n",
       "      <th></th>\n",
       "      <th>person_id</th>\n",
       "      <th>offense_date</th>\n",
       "      <th>final_disposition</th>\n",
       "      <th>fips</th>\n",
       "      <th>gender</th>\n",
       "      <th>race</th>\n",
       "      <th>class</th>\n",
       "      <th>charge_type</th>\n",
       "      <th>ammended_charge_type</th>\n",
       "      <th>fips_area</th>\n",
       "      <th>candidate</th>\n",
       "    </tr>\n",
       "  </thead>\n",
       "  <tbody>\n",
       "    <tr>\n",
       "      <th>443918</th>\n",
       "      <td>1000000000053</td>\n",
       "      <td>2014-07-08</td>\n",
       "      <td>Guilty</td>\n",
       "      <td>61</td>\n",
       "      <td>Male</td>\n",
       "      <td>Black (Non-Hispanic)</td>\n",
       "      <td>1</td>\n",
       "      <td>Misdemeanor</td>\n",
       "      <td>unknown</td>\n",
       "      <td>Fauquier Circuit Court</td>\n",
       "      <td>0</td>\n",
       "    </tr>\n",
       "  </tbody>\n",
       "</table>\n",
       "</div>"
      ],
      "text/plain": [
       "            person_id offense_date final_disposition  fips gender  \\\n",
       "443918  1000000000053   2014-07-08            Guilty    61   Male   \n",
       "\n",
       "                        race class  charge_type ammended_charge_type  \\\n",
       "443918  Black (Non-Hispanic)     1  Misdemeanor              unknown   \n",
       "\n",
       "                     fips_area  candidate  \n",
       "443918  Fauquier Circuit Court          0  "
      ]
     },
     "execution_count": 24,
     "metadata": {},
     "output_type": "execute_result"
    }
   ],
   "source": [
    "df[df['person_id'] == 1000000000053]"
   ]
  },
  {
   "cell_type": "code",
   "execution_count": 25,
   "metadata": {
    "ExecuteTime": {
     "end_time": "2021-04-04T14:39:04.649624Z",
     "start_time": "2021-04-04T14:39:04.583584Z"
    },
    "scrolled": false
   },
   "outputs": [
    {
     "data": {
      "text/html": [
       "<div>\n",
       "<style scoped>\n",
       "    .dataframe tbody tr th:only-of-type {\n",
       "        vertical-align: middle;\n",
       "    }\n",
       "\n",
       "    .dataframe tbody tr th {\n",
       "        vertical-align: top;\n",
       "    }\n",
       "\n",
       "    .dataframe thead th {\n",
       "        text-align: right;\n",
       "    }\n",
       "</style>\n",
       "<table border=\"1\" class=\"dataframe\">\n",
       "  <thead>\n",
       "    <tr style=\"text-align: right;\">\n",
       "      <th></th>\n",
       "      <th>person_id</th>\n",
       "      <th>offense_date</th>\n",
       "      <th>final_disposition</th>\n",
       "      <th>fips</th>\n",
       "      <th>gender</th>\n",
       "      <th>race</th>\n",
       "      <th>class</th>\n",
       "      <th>charge_type</th>\n",
       "      <th>ammended_charge_type</th>\n",
       "      <th>fips_area</th>\n",
       "      <th>candidate</th>\n",
       "    </tr>\n",
       "  </thead>\n",
       "  <tbody>\n",
       "  </tbody>\n",
       "</table>\n",
       "</div>"
      ],
      "text/plain": [
       "Empty DataFrame\n",
       "Columns: [person_id, offense_date, final_disposition, fips, gender, race, class, charge_type, ammended_charge_type, fips_area, candidate]\n",
       "Index: []"
      ]
     },
     "execution_count": 25,
     "metadata": {},
     "output_type": "execute_result"
    }
   ],
   "source": [
    "df[df['person_id'] == 152051000000121]"
   ]
  },
  {
   "cell_type": "markdown",
   "metadata": {},
   "source": [
    "**TODO:** If the charges are ammended to DWI then also it can be a candidate for expungement if the person does not have any prior felony charges "
   ]
  },
  {
   "cell_type": "markdown",
   "metadata": {},
   "source": [
    "### Saving Cleaned Data & Delete the large Merged File"
   ]
  },
  {
   "cell_type": "code",
   "execution_count": 26,
   "metadata": {
    "ExecuteTime": {
     "end_time": "2021-04-04T14:39:13.836590Z",
     "start_time": "2021-04-04T14:39:06.608024Z"
    }
   },
   "outputs": [
    {
     "name": "stdout",
     "output_type": "stream",
     "text": [
      "./data/circuit_court_2009_2019.csv.gz file removed successfully!\n"
     ]
    }
   ],
   "source": [
    "df.to_csv(\n",
    "    PROCESSED_PATH + \"circuit_court_2009_2019_cleansed.csv.gz\",\n",
    "    index=False,\n",
    "    compression=\"gzip\",\n",
    "    header=True,\n",
    "    quotechar='\"',\n",
    "    doublequote=True,\n",
    "    line_terminator=\"\\n\",\n",
    ")\n",
    "\n",
    "delete_file(PROCESSED_PATH + \"circuit_court_2009_2019.csv.gz\")"
   ]
  },
  {
   "cell_type": "markdown",
   "metadata": {},
   "source": [
    "## Exploratory Data Analysis"
   ]
  },
  {
   "cell_type": "markdown",
   "metadata": {},
   "source": [
    "**Note to Team:** You can execute the above code once and start from Exploratory Data Analysis, execute first three lines"
   ]
  },
  {
   "cell_type": "code",
   "execution_count": 27,
   "metadata": {
    "ExecuteTime": {
     "end_time": "2021-04-04T14:39:15.785893Z",
     "start_time": "2021-04-04T14:39:14.136876Z"
    }
   },
   "outputs": [],
   "source": [
    "# Load the cleaned data file\n",
    "file = f'{BASE_DIR}/data/circuit_court_2009_2019_cleansed.csv.gz'\n",
    "cleansed_df = pd.read_csv(file, parse_dates =['offense_date'])\n",
    "cleansed_df.head(5)\n",
    "df = cleansed_df"
   ]
  },
  {
   "cell_type": "code",
   "execution_count": 28,
   "metadata": {
    "ExecuteTime": {
     "end_time": "2021-04-04T14:39:16.146009Z",
     "start_time": "2021-04-04T14:39:16.084703Z"
    }
   },
   "outputs": [
    {
     "data": {
      "text/html": [
       "<div>\n",
       "<style scoped>\n",
       "    .dataframe tbody tr th:only-of-type {\n",
       "        vertical-align: middle;\n",
       "    }\n",
       "\n",
       "    .dataframe tbody tr th {\n",
       "        vertical-align: top;\n",
       "    }\n",
       "\n",
       "    .dataframe thead th {\n",
       "        text-align: right;\n",
       "    }\n",
       "</style>\n",
       "<table border=\"1\" class=\"dataframe\">\n",
       "  <thead>\n",
       "    <tr style=\"text-align: right;\">\n",
       "      <th></th>\n",
       "      <th>person_id</th>\n",
       "      <th>offense_date</th>\n",
       "      <th>final_disposition</th>\n",
       "      <th>fips</th>\n",
       "      <th>gender</th>\n",
       "      <th>race</th>\n",
       "      <th>class</th>\n",
       "      <th>charge_type</th>\n",
       "      <th>ammended_charge_type</th>\n",
       "      <th>fips_area</th>\n",
       "      <th>candidate</th>\n",
       "    </tr>\n",
       "  </thead>\n",
       "  <tbody>\n",
       "    <tr>\n",
       "      <th>0</th>\n",
       "      <td>141170000000472</td>\n",
       "      <td>2009-01-09</td>\n",
       "      <td>Guilty</td>\n",
       "      <td>99</td>\n",
       "      <td>Male</td>\n",
       "      <td>White Caucasian (Non-Hispanic)</td>\n",
       "      <td>6</td>\n",
       "      <td>Felony</td>\n",
       "      <td>unknown</td>\n",
       "      <td>King George Circuit Court</td>\n",
       "      <td>0</td>\n",
       "    </tr>\n",
       "    <tr>\n",
       "      <th>1</th>\n",
       "      <td>28110000000310</td>\n",
       "      <td>2009-04-27</td>\n",
       "      <td>Guilty</td>\n",
       "      <td>99</td>\n",
       "      <td>Male</td>\n",
       "      <td>White Caucasian (Non-Hispanic)</td>\n",
       "      <td>5</td>\n",
       "      <td>Felony</td>\n",
       "      <td>unknown</td>\n",
       "      <td>King George Circuit Court</td>\n",
       "      <td>0</td>\n",
       "    </tr>\n",
       "    <tr>\n",
       "      <th>2</th>\n",
       "      <td>333221000000063</td>\n",
       "      <td>2009-06-12</td>\n",
       "      <td>Guilty</td>\n",
       "      <td>99</td>\n",
       "      <td>Female</td>\n",
       "      <td>White Caucasian (Non-Hispanic)</td>\n",
       "      <td>5</td>\n",
       "      <td>Felony</td>\n",
       "      <td>unknown</td>\n",
       "      <td>King George Circuit Court</td>\n",
       "      <td>0</td>\n",
       "    </tr>\n",
       "    <tr>\n",
       "      <th>3</th>\n",
       "      <td>259101000000198</td>\n",
       "      <td>2009-06-09</td>\n",
       "      <td>Guilty</td>\n",
       "      <td>99</td>\n",
       "      <td>Female</td>\n",
       "      <td>Black (Non-Hispanic)</td>\n",
       "      <td>1</td>\n",
       "      <td>Misdemeanor</td>\n",
       "      <td>unknown</td>\n",
       "      <td>King George Circuit Court</td>\n",
       "      <td>0</td>\n",
       "    </tr>\n",
       "    <tr>\n",
       "      <th>4</th>\n",
       "      <td>131120000001148</td>\n",
       "      <td>2009-05-06</td>\n",
       "      <td>Guilty</td>\n",
       "      <td>99</td>\n",
       "      <td>Male</td>\n",
       "      <td>White Caucasian (Non-Hispanic)</td>\n",
       "      <td>1</td>\n",
       "      <td>Misdemeanor</td>\n",
       "      <td>unknown</td>\n",
       "      <td>King George Circuit Court</td>\n",
       "      <td>0</td>\n",
       "    </tr>\n",
       "  </tbody>\n",
       "</table>\n",
       "</div>"
      ],
      "text/plain": [
       "         person_id offense_date final_disposition  fips  gender  \\\n",
       "0  141170000000472   2009-01-09            Guilty    99    Male   \n",
       "1   28110000000310   2009-04-27            Guilty    99    Male   \n",
       "2  333221000000063   2009-06-12            Guilty    99  Female   \n",
       "3  259101000000198   2009-06-09            Guilty    99  Female   \n",
       "4  131120000001148   2009-05-06            Guilty    99    Male   \n",
       "\n",
       "                             race class  charge_type ammended_charge_type  \\\n",
       "0  White Caucasian (Non-Hispanic)     6       Felony              unknown   \n",
       "1  White Caucasian (Non-Hispanic)     5       Felony              unknown   \n",
       "2  White Caucasian (Non-Hispanic)     5       Felony              unknown   \n",
       "3            Black (Non-Hispanic)     1  Misdemeanor              unknown   \n",
       "4  White Caucasian (Non-Hispanic)     1  Misdemeanor              unknown   \n",
       "\n",
       "                   fips_area  candidate  \n",
       "0  King George Circuit Court          0  \n",
       "1  King George Circuit Court          0  \n",
       "2  King George Circuit Court          0  \n",
       "3  King George Circuit Court          0  \n",
       "4  King George Circuit Court          0  "
      ]
     },
     "execution_count": 28,
     "metadata": {},
     "output_type": "execute_result"
    }
   ],
   "source": [
    "df.head()"
   ]
  },
  {
   "cell_type": "markdown",
   "metadata": {},
   "source": [
    "**Top 20 final_disposition result**"
   ]
  },
  {
   "cell_type": "code",
   "execution_count": 29,
   "metadata": {
    "ExecuteTime": {
     "end_time": "2021-04-04T14:39:16.758772Z",
     "start_time": "2021-04-04T14:39:16.446564Z"
    },
    "scrolled": true
   },
   "outputs": [
    {
     "data": {
      "text/plain": [
       "<AxesSubplot:>"
      ]
     },
     "execution_count": 29,
     "metadata": {},
     "output_type": "execute_result"
    },
    {
     "data": {
      "image/png": "[encoded data removed]",
      "text/plain": [
       "<Figure size 1000x600 with 1 Axes>"
      ]
     },
     "metadata": {},
     "output_type": "display_data"
    }
   ],
   "source": [
    "hearing_result_counts = df['final_disposition'].value_counts()\n",
    "subset = hearing_result_counts[:15]\n",
    "sns.barplot(y=subset.index, x=subset.values)"
   ]
  },
  {
   "cell_type": "markdown",
   "metadata": {
    "ExecuteTime": {
     "end_time": "2021-04-01T21:07:13.431627Z",
     "start_time": "2021-04-01T21:07:13.354627Z"
    }
   },
   "source": [
    "**Top 20 final_disposition by gender**"
   ]
  },
  {
   "cell_type": "code",
   "execution_count": 30,
   "metadata": {
    "ExecuteTime": {
     "end_time": "2021-04-04T14:39:20.939732Z",
     "start_time": "2021-04-04T14:39:20.512565Z"
    }
   },
   "outputs": [
    {
     "data": {
      "text/plain": [
       "<AxesSubplot:xlabel='total', ylabel='final_disposition'>"
      ]
     },
     "execution_count": 30,
     "metadata": {},
     "output_type": "execute_result"
    },
    {
     "data": {
      "image/png": "[encoded data removed]",
      "text/plain": [
       "<Figure size 1000x600 with 1 Axes>"
      ]
     },
     "metadata": {},
     "output_type": "display_data"
    }
   ],
   "source": [
    "df_result_bygendger = df.groupby(['final_disposition', 'gender'])\\\n",
    "                        .size()\\\n",
    "                        .unstack()\\\n",
    "                        .fillna(0)\\\n",
    "                        .sort_values(['Female', 'Male'], ascending=False)\n",
    "df_stacked = df_result_bygendger.head(15).stack()\n",
    "df_stacked.name = 'total'\n",
    "df_stacked= df_stacked.reset_index()\n",
    "sns.barplot(x='total', y='final_disposition', hue='gender', data= df_stacked)"
   ]
  },
  {
   "cell_type": "code",
   "execution_count": 31,
   "metadata": {
    "ExecuteTime": {
     "end_time": "2021-04-04T14:39:22.037533Z",
     "start_time": "2021-04-04T14:39:21.836365Z"
    },
    "scrolled": true
   },
   "outputs": [
    {
     "data": {
      "text/plain": [
       "gender  race                                    \n",
       "Female  American Indian                                101\n",
       "        American Indian Or Alaskan Native               11\n",
       "        Asian Or Pacific Islander                     1022\n",
       "        Black (Non-Hispanic)                         79497\n",
       "        Hispanic                                       856\n",
       "        Other (Includes Not Applicable, Unknown)      2875\n",
       "        White Caucasian (Non-Hispanic)              171305\n",
       "Male    American Indian                                354\n",
       "        American Indian Or Alaskan Native               27\n",
       "        Asian Or Pacific Islander                     3212\n",
       "        Black (Non-Hispanic)                        323804\n",
       "        Hispanic                                      5939\n",
       "        Other (Includes Not Applicable, Unknown)      7687\n",
       "        White Caucasian (Non-Hispanic)              387372\n",
       "Name: candidate, dtype: int64"
      ]
     },
     "execution_count": 31,
     "metadata": {},
     "output_type": "execute_result"
    }
   ],
   "source": [
    "candidate_count = df['candidate'].groupby([df['gender'],df['race']]).count()\n",
    "candidate_count"
   ]
  },
  {
   "cell_type": "code",
   "execution_count": 32,
   "metadata": {
    "ExecuteTime": {
     "end_time": "2021-04-04T14:39:22.461505Z",
     "start_time": "2021-04-04T14:39:22.354773Z"
    }
   },
   "outputs": [
    {
     "data": {
      "text/plain": [
       "gender\n",
       "Female    255667\n",
       "Male      728395\n",
       "Name: candidate, dtype: int64"
      ]
     },
     "execution_count": 32,
     "metadata": {},
     "output_type": "execute_result"
    }
   ],
   "source": [
    "df['candidate'].groupby(df['gender']).count()"
   ]
  },
  {
   "cell_type": "markdown",
   "metadata": {
    "ExecuteTime": {
     "end_time": "2021-04-01T21:02:08.672921Z",
     "start_time": "2021-04-01T21:02:08.542933Z"
    }
   },
   "source": [
    "**TODO** document observations based on above data"
   ]
  },
  {
   "cell_type": "code",
   "execution_count": 79,
   "metadata": {
    "ExecuteTime": {
     "end_time": "2021-04-04T15:41:56.867790Z",
     "start_time": "2021-04-04T15:41:56.771789Z"
    }
   },
   "outputs": [],
   "source": [
    "# set RIVANA to True if running on UVA Rivana apache spark Node \n",
    "RIVANA = False\n",
    "\n",
    "if RIVANA != True:\n",
    "    import findspark\n",
    "    findspark.init()"
   ]
  },
  {
   "cell_type": "code",
   "execution_count": 80,
   "metadata": {
    "ExecuteTime": {
     "end_time": "2021-04-04T15:41:57.542748Z",
     "start_time": "2021-04-04T15:41:57.477749Z"
    }
   },
   "outputs": [],
   "source": [
    "from pyspark.sql import SparkSession\n",
    "from pyspark import SparkConf\n",
    "from pyspark.sql.functions import *\n",
    "from pyspark.sql.types import *"
   ]
  },
  {
   "cell_type": "code",
   "execution_count": 81,
   "metadata": {
    "ExecuteTime": {
     "end_time": "2021-04-04T15:41:58.398700Z",
     "start_time": "2021-04-04T15:41:58.330699Z"
    }
   },
   "outputs": [],
   "source": [
    "app_name = 'va_expungement'\n",
    "\n",
    "if RIVANA != True:\n",
    "    # update spark_master to your master local IP and port\n",
    "    spark_master = \"spark://10.143.158.50:7077\"\n",
    "    spark = SparkSession\\\n",
    "        .builder\\\n",
    "        .config('spark.executor.memory', '2g')\\\n",
    "        .config('spark.executor.cores', '2')\\\n",
    "        .config('spark.cores.max', '24')\\\n",
    "        .config('spark.cores.min', '20')\\\n",
    "        .config('spark.driver.memory', '8g')\\\n",
    "        .config(\"spark.local.dir\", \"C:/tmp/hive\")\\\n",
    "        .appName(app_name)\\\n",
    "        .master(spark_master)\\\n",
    "        .getOrCreate()\n",
    "elif RIVANA == True:\n",
    "    spark = SparkSession \\\n",
    "        .builder \\\n",
    "        .master(\"local\") \\\n",
    "        .appName(app_name) \\\n",
    "        .config(\"spark.executor.memory\", '8g') \\\n",
    "        .config('spark.executor.cores', '4') \\\n",
    "        .config('spark.cores.max', '4') \\\n",
    "        .config(\"spark.driver.memory\",'8g') \\\n",
    "        .getOrCreate()"
   ]
  },
  {
   "cell_type": "code",
   "execution_count": 82,
   "metadata": {
    "ExecuteTime": {
     "end_time": "2021-04-04T15:41:59.060660Z",
     "start_time": "2021-04-04T15:41:58.988662Z"
    }
   },
   "outputs": [],
   "source": [
    "file = f'{BASE_DIR}/data/circuit_court_2009_2019_cleansed.csv.gz'\n",
    "\n",
    "schema = StructType([\n",
    "    StructField('person_id', LongType(), False),\n",
    "    StructField('offense_date', DateType(), False),\n",
    "    StructField('final_disposition', StringType(), False),\n",
    "    StructField('fips', IntegerType(), False),\n",
    "    StructField('gender', StringType(), False),\n",
    "    StructField('race', StringType(), False),\n",
    "    StructField('class', StringType(), False),\n",
    "    StructField('charge_type', StringType(), False),\n",
    "    StructField('ammended_charge_type', StringType(), False),\n",
    "    StructField('fips_area', StringType(), False),\n",
    "    StructField('candidate', IntegerType(), False)\n",
    "])\n",
    "\n",
    "circuit_df = (spark.read.schema(schema)\n",
    "             .format(\"csv\")\n",
    "             .option(\"inferSchema\", True)\n",
    "             .option(\"header\", True)\n",
    "             .load(file))\n"
   ]
  },
  {
   "cell_type": "markdown",
   "metadata": {},
   "source": [
    "**Basic Data Analysis**"
   ]
  },
  {
   "cell_type": "markdown",
   "metadata": {},
   "source": [
    " From the above analysis we see the following condition in the data  \n",
    " - The charge column is free form text, charge_type is categorical. The same person can be charges one more times on the same day or on different days on multiple counts  \n",
    " - however since we are not able to use charge as a predictor variable using only charge_types will result in multiple record for the same person (by person_id)  \n",
    " - so to minimize the noise in the data we will introduce a variable called 'repeat_offender', this will be 1 if a person has felony or otherwise  "
   ]
  },
  {
   "cell_type": "code",
   "execution_count": 83,
   "metadata": {
    "ExecuteTime": {
     "end_time": "2021-04-04T15:42:01.407340Z",
     "start_time": "2021-04-04T15:42:00.758342Z"
    }
   },
   "outputs": [
    {
     "data": {
      "text/plain": [
       "984062"
      ]
     },
     "execution_count": 83,
     "metadata": {},
     "output_type": "execute_result"
    }
   ],
   "source": [
    "circuit_df.count()"
   ]
  },
  {
   "cell_type": "code",
   "execution_count": 84,
   "metadata": {
    "ExecuteTime": {
     "end_time": "2021-04-04T15:42:03.479342Z",
     "start_time": "2021-04-04T15:42:01.582340Z"
    }
   },
   "outputs": [
    {
     "name": "stdout",
     "output_type": "stream",
     "text": [
      "+---------------+--------------+\n",
      "|      person_id|rpt_offense_ct|\n",
      "+---------------+--------------+\n",
      "|213011000000129|           320|\n",
      "|141010000000236|           157|\n",
      "|101141000000123|           127|\n",
      "|  4150000000636|           125|\n",
      "|262020000000221|           121|\n",
      "+---------------+--------------+\n",
      "only showing top 5 rows\n",
      "\n"
     ]
    }
   ],
   "source": [
    "# add where condition where case_type is not \n",
    "repeat_offenders = circuit_df.groupBy('person_id').count().orderBy('count', ascending=False)\n",
    "repeat_offenders = repeat_offenders.withColumnRenamed(\"count\", \"rpt_offense_ct\")\n",
    "repeat_offenders.show(5)"
   ]
  },
  {
   "cell_type": "code",
   "execution_count": 86,
   "metadata": {
    "ExecuteTime": {
     "end_time": "2021-04-04T15:42:16.124768Z",
     "start_time": "2021-04-04T15:42:16.053768Z"
    }
   },
   "outputs": [],
   "source": [
    "circuit_df.createOrReplaceTempView(\"cc_case\")\n",
    "repeat_offenders.createOrReplaceTempView(\"cc_rpt_offender\")"
   ]
  },
  {
   "cell_type": "code",
   "execution_count": 87,
   "metadata": {
    "ExecuteTime": {
     "end_time": "2021-04-04T15:42:20.466513Z",
     "start_time": "2021-04-04T15:42:18.529523Z"
    }
   },
   "outputs": [
    {
     "data": {
      "text/plain": [
       "Row(person_id=141170000000472, offense_date=datetime.date(2009, 1, 9), final_disposition='Guilty', fips=99, gender='Male', race='White Caucasian (Non-Hispanic)', class='6', charge_type='Felony', ammended_charge_type='unknown', fips_area='King George Circuit Court', candidate=0, rpt_offense_ct=11)"
      ]
     },
     "execution_count": 87,
     "metadata": {},
     "output_type": "execute_result"
    }
   ],
   "source": [
    "#circuit_df = circuit_df.join(repeat_offenders,circuit_df.person_id ==  repeat_offenders.person_id,\"left\")\n",
    "#circuit_df.show(1)\n",
    "circuit_df = spark.sql('''select cc_case.person_id,  cc_case.offense_date, cc_case.final_disposition, cc_case.fips,\n",
    "            cc_case.gender, cc_case.race, cc_case.class, cc_case.charge_type, cc_case.ammended_charge_type, \n",
    "            cc_case.fips_area, cc_case.candidate, cc_rpt_offender.rpt_offense_ct\n",
    "            from cc_case, cc_rpt_offender where cc_case.person_id == cc_rpt_offender.person_id''')\n",
    "circuit_df.head()"
   ]
  },
  {
   "cell_type": "code",
   "execution_count": 88,
   "metadata": {
    "ExecuteTime": {
     "end_time": "2021-04-04T15:42:21.811883Z",
     "start_time": "2021-04-04T15:42:21.743884Z"
    }
   },
   "outputs": [],
   "source": [
    "circuit_df = circuit_df\\\n",
    "    .withColumn('repeat_offender', expr(\"CASE WHEN rpt_offense_ct > 1 THEN 1 ELSE 0 END\"))\\\n",
    "    .drop('rpt_offense_ct')"
   ]
  },
  {
   "cell_type": "code",
   "execution_count": 89,
   "metadata": {
    "ExecuteTime": {
     "end_time": "2021-04-04T15:42:26.007190Z",
     "start_time": "2021-04-04T15:42:23.775192Z"
    }
   },
   "outputs": [
    {
     "data": {
      "text/plain": [
       "Row(person_id=141170000000472, offense_date=datetime.date(2009, 1, 9), final_disposition='Guilty', fips=99, gender='Male', race='White Caucasian (Non-Hispanic)', class='6', charge_type='Felony', ammended_charge_type='unknown', fips_area='King George Circuit Court', candidate=0, repeat_offender=1)"
      ]
     },
     "execution_count": 89,
     "metadata": {},
     "output_type": "execute_result"
    }
   ],
   "source": [
    "circuit_df.createOrReplaceTempView(\"cc_case\")\n",
    "circuit_df.head()"
   ]
  },
  {
   "cell_type": "code",
   "execution_count": 90,
   "metadata": {
    "ExecuteTime": {
     "end_time": "2021-04-04T15:42:26.482344Z",
     "start_time": "2021-04-04T15:42:26.418344Z"
    }
   },
   "outputs": [],
   "source": [
    "from pyspark.sql.types import IntegerType\n",
    "from pyspark.sql.functions import udf\n",
    "\n",
    "def encode_class_and_chargetype(case_class, charge_type):\n",
    "    if charge_type == 'Felony':\n",
    "            if case_class == \"1\":\n",
    "                return 11\n",
    "            elif case_class == \"2\":\n",
    "                return 10\n",
    "            elif case_class == \"3\":\n",
    "                return 9\n",
    "            elif case_class == \"4\":\n",
    "                return 7\n",
    "            elif case_class == \"5\":\n",
    "                return 6\n",
    "            elif case_class == \"6\":\n",
    "                return 5\n",
    "            elif case_class == \"O\":\n",
    "                return 8\n",
    "            elif case_class == \"U\":\n",
    "                return 8\n",
    "            else:\n",
    "                return 0\n",
    "    elif charge_type == 'Misdemeanor':\n",
    "            if case_class == \"1\":\n",
    "                return 4\n",
    "            elif case_class == \"2\":\n",
    "                return 3\n",
    "            elif case_class == \"3\":\n",
    "                return 2\n",
    "            elif case_class == \"4\":\n",
    "                return 1\n",
    "            else:\n",
    "                return 0\n"
   ]
  },
  {
   "cell_type": "code",
   "execution_count": 91,
   "metadata": {
    "ExecuteTime": {
     "end_time": "2021-04-04T15:42:31.081598Z",
     "start_time": "2021-04-04T15:42:31.002555Z"
    }
   },
   "outputs": [],
   "source": [
    "encode_udf = udf(encode_class_and_chargetype, IntegerType())\n",
    "circuit_df = circuit_df.withColumn('case_charge_type_enc', encode_udf('class', 'charge_type'))"
   ]
  },
  {
   "cell_type": "code",
   "execution_count": 92,
   "metadata": {
    "ExecuteTime": {
     "end_time": "2021-04-04T15:42:34.993491Z",
     "start_time": "2021-04-04T15:42:32.390504Z"
    }
   },
   "outputs": [
    {
     "data": {
      "text/plain": [
       "Row(person_id=141170000000472, offense_date=datetime.date(2009, 1, 9), final_disposition='Guilty', fips=99, gender='Male', race='White Caucasian (Non-Hispanic)', class='6', charge_type='Felony', ammended_charge_type='unknown', fips_area='King George Circuit Court', candidate=0, repeat_offender=1, case_charge_type_enc=5)"
      ]
     },
     "execution_count": 92,
     "metadata": {},
     "output_type": "execute_result"
    }
   ],
   "source": [
    "circuit_df.head()"
   ]
  },
  {
   "cell_type": "code",
   "execution_count": 93,
   "metadata": {
    "ExecuteTime": {
     "end_time": "2021-04-04T15:42:39.380491Z",
     "start_time": "2021-04-04T15:42:35.685490Z"
    }
   },
   "outputs": [
    {
     "data": {
      "text/plain": [
       "962748"
      ]
     },
     "execution_count": 93,
     "metadata": {},
     "output_type": "execute_result"
    }
   ],
   "source": [
    "#retain only 'Felony', 'Misdemeanor' cases\n",
    "circuit_df.createOrReplaceTempView(\"cc_case\")\n",
    "circuit_df = spark.sql (\"select * from cc_case where charge_type in ('Felony', 'Misdemeanor')\")\n",
    "circuit_df.count()"
   ]
  },
  {
   "cell_type": "code",
   "execution_count": 94,
   "metadata": {
    "ExecuteTime": {
     "end_time": "2021-04-04T15:42:41.531713Z",
     "start_time": "2021-04-04T15:42:41.476713Z"
    }
   },
   "outputs": [
    {
     "name": "stdout",
     "output_type": "stream",
     "text": [
      "root\n",
      " |-- person_id: long (nullable = true)\n",
      " |-- offense_date: date (nullable = true)\n",
      " |-- final_disposition: string (nullable = true)\n",
      " |-- fips: integer (nullable = true)\n",
      " |-- gender: string (nullable = true)\n",
      " |-- race: string (nullable = true)\n",
      " |-- class: string (nullable = true)\n",
      " |-- charge_type: string (nullable = true)\n",
      " |-- ammended_charge_type: string (nullable = true)\n",
      " |-- fips_area: string (nullable = true)\n",
      " |-- candidate: integer (nullable = true)\n",
      " |-- repeat_offender: integer (nullable = false)\n",
      " |-- case_charge_type_enc: integer (nullable = true)\n",
      "\n"
     ]
    }
   ],
   "source": [
    "circuit_df.printSchema()"
   ]
  },
  {
   "cell_type": "code",
   "execution_count": 95,
   "metadata": {
    "ExecuteTime": {
     "end_time": "2021-04-04T15:43:03.634498Z",
     "start_time": "2021-04-04T15:42:44.037467Z"
    }
   },
   "outputs": [],
   "source": [
    "circuit_df.toPandas().to_csv(\n",
    "    PROCESSED_PATH + \"circuit_court_2009_2019_transformed.csv.gz\",\n",
    "    index=False,\n",
    "    compression=\"gzip\",\n",
    "    header=True,\n",
    "    quotechar='\"',\n",
    "    doublequote=True,\n",
    "    line_terminator=\"\\n\",\n",
    ")\n",
    "\n",
    "#delete_file(PROCESSED_PATH + \"circuit_court_2009_2019_cleansed.csv.gz\")"
   ]
  },
  {
   "cell_type": "code",
   "execution_count": 97,
   "metadata": {
    "ExecuteTime": {
     "end_time": "2021-04-04T15:43:08.601581Z",
     "start_time": "2021-04-04T15:43:08.528557Z"
    }
   },
   "outputs": [],
   "source": [
    "tempdf  = circuit_df.select('person_id', 'repeat_offender', 'case_charge_type_enc', 'candidate')"
   ]
  },
  {
   "cell_type": "code",
   "execution_count": 98,
   "metadata": {
    "ExecuteTime": {
     "end_time": "2021-04-04T15:43:13.636329Z",
     "start_time": "2021-04-04T15:43:10.851331Z"
    }
   },
   "outputs": [
    {
     "name": "stdout",
     "output_type": "stream",
     "text": [
      "+---------------+---------------+--------------------+---------+\n",
      "|      person_id|repeat_offender|case_charge_type_enc|candidate|\n",
      "+---------------+---------------+--------------------+---------+\n",
      "| 61131000000101|              1|                   6|        0|\n",
      "| 10040000000265|              1|                   5|        0|\n",
      "|212030000000116|              0|                   8|        0|\n",
      "|302010000000568|              0|                   6|        0|\n",
      "| 32021000000472|              0|                   5|        0|\n",
      "| 14120000000646|              0|                   5|        0|\n",
      "| 22150000000373|              0|                   8|        0|\n",
      "| 34170000000301|              1|                   5|        0|\n",
      "|169090000000125|              1|                   8|        0|\n",
      "| 32180000000440|              1|                   6|        0|\n",
      "+---------------+---------------+--------------------+---------+\n",
      "only showing top 10 rows\n",
      "\n"
     ]
    }
   ],
   "source": [
    "tempdf.sample(False, 0.0001).show(10)"
   ]
  },
  {
   "cell_type": "code",
   "execution_count": 99,
   "metadata": {
    "ExecuteTime": {
     "end_time": "2021-04-04T15:43:17.318188Z",
     "start_time": "2021-04-04T15:43:14.622199Z"
    }
   },
   "outputs": [
    {
     "name": "stdout",
     "output_type": "stream",
     "text": [
      "+-------------+------------+-----------------+--------------------+------+-----+-----------+---------------+\n",
      "|    person_id|offense_date|final_disposition|                race|gender|class|charge_type|repeat_offender|\n",
      "+-------------+------------+-----------------+--------------------+------+-----+-----------+---------------+\n",
      "|2170000000014|  2009-03-22|           Guilty|White Caucasian (...|  Male|    5|     Felony|              1|\n",
      "|2170000000014|  2012-02-07|        Dismissed|White Caucasian (...|  Male|    5|     Felony|              1|\n",
      "|2170000000014|  2012-03-01|   Nolle Prosequi|White Caucasian (...|  Male|    5|     Felony|              1|\n",
      "|2170000000014|  2012-03-03|           Guilty|White Caucasian (...|  Male|    5|     Felony|              1|\n",
      "|2170000000014|  2012-03-05|           Guilty|White Caucasian (...|  Male|    5|     Felony|              1|\n",
      "|2170000000014|  2012-03-06|           Guilty|White Caucasian (...|  Male|    5|     Felony|              1|\n",
      "|2170000000014|  2012-03-17|           Guilty|White Caucasian (...|  Male|    5|     Felony|              1|\n",
      "|2170000000014|  2012-03-31|           Guilty|White Caucasian (...|  Male|    5|     Felony|              1|\n",
      "|2170000000014|  2012-05-01|           Guilty|White Caucasian (...|  Male|    5|     Felony|              1|\n",
      "|2170000000014|  2012-05-03|           Guilty|White Caucasian (...|  Male|    5|     Felony|              1|\n",
      "|2170000000014|  2012-05-16|           Guilty|White Caucasian (...|  Male|    5|     Felony|              1|\n",
      "|2170000000014|  2012-05-17|           Guilty|White Caucasian (...|  Male|    5|     Felony|              1|\n",
      "|2170000000014|  2012-05-29|        Dismissed|White Caucasian (...|  Male|    5|     Felony|              1|\n",
      "|2170000000014|  2012-05-30|           Guilty|White Caucasian (...|  Male|    5|     Felony|              1|\n",
      "|2170000000014|  2012-06-07|           Guilty|White Caucasian (...|  Male|    5|     Felony|              1|\n",
      "|2170000000014|  2012-06-12|           Guilty|White Caucasian (...|  Male|    5|     Felony|              1|\n",
      "|2170000000014|  2012-06-13|           Guilty|White Caucasian (...|  Male|    5|     Felony|              1|\n",
      "|2170000000014|  2012-06-14|           Guilty|White Caucasian (...|  Male|    5|     Felony|              1|\n",
      "|2170000000014|  2012-06-19|           Guilty|White Caucasian (...|  Male|    5|     Felony|              1|\n",
      "|2170000000014|  2012-06-20|           Guilty|White Caucasian (...|  Male|    5|     Felony|              1|\n",
      "|2170000000014|  2012-06-21|           Guilty|White Caucasian (...|  Male|    5|     Felony|              1|\n",
      "|2170000000014|  2012-06-26|           Guilty|White Caucasian (...|  Male|    5|     Felony|              1|\n",
      "|2170000000014|  2012-06-27|           Guilty|White Caucasian (...|  Male|    5|     Felony|              1|\n",
      "|2170000000014|  2012-06-28|           Guilty|White Caucasian (...|  Male|    5|     Felony|              1|\n",
      "|2170000000014|  2012-07-03|           Guilty|White Caucasian (...|  Male|    5|     Felony|              1|\n",
      "+-------------+------------+-----------------+--------------------+------+-----+-----------+---------------+\n",
      "only showing top 25 rows\n",
      "\n"
     ]
    }
   ],
   "source": [
    "spark.sql('''SELECT person_id, offense_date, final_disposition, race, gender, class, charge_type, repeat_offender\n",
    "    FROM cc_case\n",
    "    WHERE person_id = 2170000000014\n",
    "    ORDER by offense_date''').show(25, True)\n",
    "\n",
    "#213011000000129"
   ]
  },
  {
   "cell_type": "code",
   "execution_count": null,
   "metadata": {
    "ExecuteTime": {
     "end_time": "2021-04-04T15:43:17.400189Z",
     "start_time": "2021-04-04T15:43:15.782Z"
    }
   },
   "outputs": [],
   "source": [
    "spark.sql('''SELECT person_id, offense_date, final_disposition, race, charge_type, candidate\n",
    "    FROM cc_case\n",
    "    WHERE person_id = 213011000000129\n",
    "    ORDER by offense_date''').show(25, True)"
   ]
  },
  {
   "cell_type": "code",
   "execution_count": 100,
   "metadata": {
    "ExecuteTime": {
     "end_time": "2021-04-04T15:43:21.292623Z",
     "start_time": "2021-04-04T15:43:18.231947Z"
    }
   },
   "outputs": [
    {
     "name": "stdout",
     "output_type": "stream",
     "text": [
      "+------+\n",
      "| count|\n",
      "+------+\n",
      "|984062|\n",
      "+------+\n",
      "\n"
     ]
    }
   ],
   "source": [
    "spark.sql('select count(*) as count from cc_case').show()"
   ]
  },
  {
   "cell_type": "code",
   "execution_count": null,
   "metadata": {
    "ExecuteTime": {
     "end_time": "2021-04-04T15:43:21.374621Z",
     "start_time": "2021-04-04T15:43:19.274Z"
    }
   },
   "outputs": [],
   "source": [
    "spark.sql('select *  from cc_case').show(1)"
   ]
  },
  {
   "cell_type": "code",
   "execution_count": 103,
   "metadata": {
    "ExecuteTime": {
     "end_time": "2021-04-04T15:43:48.173469Z",
     "start_time": "2021-04-04T15:43:45.813468Z"
    }
   },
   "outputs": [
    {
     "name": "stdout",
     "output_type": "stream",
     "text": [
      "+-------------+------------+-----------------+--------------------+------+-----------+---------+\n",
      "|    person_id|offense_date|final_disposition|                race|gender|charge_type|candidate|\n",
      "+-------------+------------+-----------------+--------------------+------+-----------+---------+\n",
      "|1000000000053|  2014-07-08|           Guilty|Black (Non-Hispanic)|  Male|Misdemeanor|        0|\n",
      "+-------------+------------+-----------------+--------------------+------+-----------+---------+\n",
      "\n"
     ]
    }
   ],
   "source": [
    "spark.sql('''SELECT person_id, offense_date,  final_disposition, race, gender, charge_type, candidate\n",
    "    FROM cc_case\n",
    "    WHERE person_id = 1000000000053\n",
    "    ORDER by person_id''').show(20)"
   ]
  },
  {
   "cell_type": "code",
   "execution_count": 104,
   "metadata": {
    "ExecuteTime": {
     "end_time": "2021-04-04T15:43:51.303060Z",
     "start_time": "2021-04-04T15:43:48.817977Z"
    }
   },
   "outputs": [
    {
     "name": "stdout",
     "output_type": "stream",
     "text": [
      "+---------+------------+-----------------+----+------+-----------+---------+\n",
      "|person_id|offense_date|final_disposition|race|gender|charge_type|candidate|\n",
      "+---------+------------+-----------------+----+------+-----------+---------+\n",
      "+---------+------------+-----------------+----+------+-----------+---------+\n",
      "\n"
     ]
    }
   ],
   "source": [
    "spark.sql('''SELECT person_id, offense_date, final_disposition,  race, gender, charge_type, candidate\n",
    "    FROM cc_case\n",
    "    WHERE person_id = 152051000000121\n",
    "    ORDER by person_id''').show(20, False)"
   ]
  },
  {
   "cell_type": "code",
   "execution_count": 105,
   "metadata": {
    "ExecuteTime": {
     "end_time": "2021-04-04T15:43:55.604055Z",
     "start_time": "2021-04-04T15:43:52.027056Z"
    }
   },
   "outputs": [
    {
     "name": "stdout",
     "output_type": "stream",
     "text": [
      "+------------+\n",
      "|sum(mycount)|\n",
      "+------------+\n",
      "|175127      |\n",
      "+------------+\n",
      "\n"
     ]
    }
   ],
   "source": [
    "spark.sql('''SELECT sum(mycount)\n",
    "from (\n",
    "        select count(person_id) as mycount\n",
    "            FROM cc_case\n",
    "            group by person_id\n",
    "            having count(person_id)=1\n",
    "        ) \n",
    "    ''').show(1, False)"
   ]
  },
  {
   "cell_type": "code",
   "execution_count": 106,
   "metadata": {
    "ExecuteTime": {
     "end_time": "2021-04-04T15:44:00.003625Z",
     "start_time": "2021-04-04T15:43:56.441625Z"
    }
   },
   "outputs": [
    {
     "name": "stdout",
     "output_type": "stream",
     "text": [
      "+------------+\n",
      "|sum(mycount)|\n",
      "+------------+\n",
      "|808935      |\n",
      "+------------+\n",
      "\n"
     ]
    }
   ],
   "source": [
    "spark.sql('''SELECT sum(mycount)\n",
    "from (\n",
    "        select count(person_id) as mycount\n",
    "            FROM cc_case\n",
    "            group by person_id\n",
    "            having count(person_id)>1\n",
    "        ) \n",
    "    ''').show(1, False)"
   ]
  },
  {
   "cell_type": "code",
   "execution_count": 108,
   "metadata": {
    "ExecuteTime": {
     "end_time": "2021-04-04T15:44:11.980851Z",
     "start_time": "2021-04-04T15:44:11.916854Z"
    }
   },
   "outputs": [],
   "source": [
    "from pyspark.sql.functions import col\n",
    "SEED = 42\n",
    "target = 'candidate'\n",
    "def downsample(df, target=target, positive_label=1, negative_label=0):\n",
    "    \"\"\"\n",
    "    df              spark dataframe\n",
    "    target          str, target variable\n",
    "    positive_label  int, value of positive label\n",
    "    negative_label  int, value of negative label\n",
    "    \n",
    "    \"\"\"\n",
    "    \n",
    "    majority_df = df.filter(col(target) == negative_label)\n",
    "    print(f\"majority class count: {majority_df.count()}\")\n",
    "    minority_df = df.filter(col(target) == positive_label)\n",
    "    print(f\"minority class count: {minority_df.count()}\")\n",
    "    ratio = majority_df.count()/minority_df.count()\n",
    "    print(f\"sampling ratio : {ratio}\")\n",
    "    \n",
    "    sample_majority_df = majority_df.sample(False, fraction=1/ratio, seed= SEED)\n",
    "    df_b = sample_majority_df.unionAll(minority_df)\n",
    "    return df_b"
   ]
  },
  {
   "cell_type": "code",
   "execution_count": 109,
   "metadata": {
    "ExecuteTime": {
     "end_time": "2021-04-04T15:44:29.623523Z",
     "start_time": "2021-04-04T15:44:12.696534Z"
    }
   },
   "outputs": [
    {
     "name": "stdout",
     "output_type": "stream",
     "text": [
      "majority class count: 868388\n",
      "minority class count: 94360\n",
      "sampling ratio : 9.202924968206867\n",
      "+---------+-----+\n",
      "|candidate|count|\n",
      "+---------+-----+\n",
      "|        1|94360|\n",
      "|        0|94544|\n",
      "+---------+-----+\n",
      "\n"
     ]
    }
   ],
   "source": [
    "sampled_cricuit_df = downsample(circuit_df)\n",
    "sampled_cricuit_df.groupBy(target).count().show()"
   ]
  },
  {
   "cell_type": "code",
   "execution_count": 110,
   "metadata": {
    "ExecuteTime": {
     "end_time": "2021-04-04T15:44:35.708081Z",
     "start_time": "2021-04-04T15:44:35.640083Z"
    }
   },
   "outputs": [
    {
     "name": "stdout",
     "output_type": "stream",
     "text": [
      "root\n",
      " |-- person_id: long (nullable = true)\n",
      " |-- offense_date: date (nullable = true)\n",
      " |-- final_disposition: string (nullable = true)\n",
      " |-- fips: integer (nullable = true)\n",
      " |-- gender: string (nullable = true)\n",
      " |-- race: string (nullable = true)\n",
      " |-- class: string (nullable = true)\n",
      " |-- charge_type: string (nullable = true)\n",
      " |-- ammended_charge_type: string (nullable = true)\n",
      " |-- fips_area: string (nullable = true)\n",
      " |-- candidate: integer (nullable = true)\n",
      " |-- repeat_offender: integer (nullable = false)\n",
      " |-- case_charge_type_enc: integer (nullable = true)\n",
      "\n"
     ]
    }
   ],
   "source": [
    "sampled_cricuit_df.printSchema()"
   ]
  },
  {
   "cell_type": "code",
   "execution_count": 111,
   "metadata": {
    "ExecuteTime": {
     "end_time": "2021-04-04T15:44:43.110151Z",
     "start_time": "2021-04-04T15:44:42.949151Z"
    }
   },
   "outputs": [
    {
     "name": "stdout",
     "output_type": "stream",
     "text": [
      "['gender', 'race']\n",
      "['genderIndex', 'raceIndex']\n",
      "['genderOHE', 'raceOHE']\n",
      "['repeat_offender', 'case_charge_type_enc']\n"
     ]
    }
   ],
   "source": [
    "from pyspark.ml.feature import VectorAssembler\n",
    "from pyspark.ml.feature import OneHotEncoder, StringIndexer\n",
    "from pyspark.ml.classification import LogisticRegression\n",
    "\n",
    "sub_circuit_df = sampled_cricuit_df.select(\"gender\", \"race\", \"repeat_offender\", \"case_charge_type_enc\", \"candidate\")\n",
    "\n",
    "train_df, test_df = sub_circuit_df.randomSplit([0.8, 0.2], seed=42)\n",
    "\n",
    "# create a list of all categorical colums\n",
    "categorical_cols = [field for (field, dataType) in sub_circuit_df.dtypes if dataType == 'string']\n",
    "print(categorical_cols)\n",
    "# Note:  String indexer converts the categorical values into category indexes ordered by label frequencies \n",
    "# so most frequent labels gets 0 which provides us with reproducible results across the various runs of the same data\n",
    "\n",
    "# create a list of indexed columns as output cols for string indexer\n",
    "index_output_cols = [x + \"Index\" for x in categorical_cols]\n",
    "print(index_output_cols)\n",
    "# Note: Once you have created your category indecies, pass those to OneHotEncoder, it maps categorical indices into \n",
    "# a column of binary vectors\n",
    "\n",
    "# create a list of indexed columns as output cols for one hot encoding\n",
    "ohe_output_cols = [x + \"OHE\" for x in categorical_cols]\n",
    "print(ohe_output_cols)\n",
    "string_indexer = StringIndexer(inputCols=categorical_cols,\n",
    "                             outputCols=index_output_cols,\n",
    "                             handleInvalid='skip')\n",
    "\n",
    "ohe_encoder = OneHotEncoder(inputCols=index_output_cols, outputCols=ohe_output_cols)\n",
    "\n",
    "numeric_cols = [field for (field, dataType) in sub_circuit_df.dtypes if ((dataType == 'int') & (field != 'candidate'))]\n",
    "print(numeric_cols)\n",
    "assembler_inputs = ohe_output_cols + numeric_cols\n",
    "\n",
    "vec_assembler = VectorAssembler(inputCols = assembler_inputs, outputCol=\"features\")\n",
    "\n",
    "lr = LogisticRegression(maxIter=10,\n",
    "    regParam=0.01, \n",
    "    labelCol='candidate')\n",
    "\n"
   ]
  },
  {
   "cell_type": "code",
   "execution_count": 112,
   "metadata": {
    "ExecuteTime": {
     "end_time": "2021-04-04T15:45:15.741771Z",
     "start_time": "2021-04-04T15:44:53.220770Z"
    }
   },
   "outputs": [],
   "source": [
    "from pyspark.ml import Pipeline\n",
    "stages = [string_indexer, ohe_encoder, vec_assembler, lr]\n",
    "pipeline = Pipeline(stages = stages)\n",
    "pipeline_model = pipeline.fit(train_df)"
   ]
  },
  {
   "cell_type": "code",
   "execution_count": null,
   "metadata": {
    "ExecuteTime": {
     "end_time": "2021-04-04T15:45:15.825770Z",
     "start_time": "2021-04-04T15:44:55.192Z"
    }
   },
   "outputs": [],
   "source": [
    "#dir(pipeline_model)"
   ]
  },
  {
   "cell_type": "code",
   "execution_count": 113,
   "metadata": {
    "ExecuteTime": {
     "end_time": "2021-04-04T15:45:18.775280Z",
     "start_time": "2021-04-04T15:45:18.627255Z"
    }
   },
   "outputs": [
    {
     "name": "stdout",
     "output_type": "stream",
     "text": [
      "root\n",
      " |-- gender: string (nullable = true)\n",
      " |-- race: string (nullable = true)\n",
      " |-- repeat_offender: integer (nullable = false)\n",
      " |-- case_charge_type_enc: integer (nullable = true)\n",
      " |-- candidate: integer (nullable = true)\n",
      " |-- genderIndex: double (nullable = false)\n",
      " |-- raceIndex: double (nullable = false)\n",
      " |-- genderOHE: vector (nullable = true)\n",
      " |-- raceOHE: vector (nullable = true)\n",
      " |-- features: vector (nullable = true)\n",
      " |-- rawPrediction: vector (nullable = true)\n",
      " |-- probability: vector (nullable = true)\n",
      " |-- prediction: double (nullable = false)\n",
      "\n"
     ]
    }
   ],
   "source": [
    "predDF = pipeline_model.transform(test_df)\n",
    "predDF.printSchema()"
   ]
  },
  {
   "cell_type": "code",
   "execution_count": 114,
   "metadata": {
    "ExecuteTime": {
     "end_time": "2021-04-04T15:45:25.872944Z",
     "start_time": "2021-04-04T15:45:20.052954Z"
    }
   },
   "outputs": [
    {
     "data": {
      "text/plain": [
       "[Row(candidate=0, features=SparseVector(9, {6: 1.0, 7: 1.0, 8: 5.0}))]"
      ]
     },
     "execution_count": 114,
     "metadata": {},
     "output_type": "execute_result"
    }
   ],
   "source": [
    "predDF.select('candidate','features').head(1)"
   ]
  },
  {
   "cell_type": "code",
   "execution_count": 115,
   "metadata": {
    "ExecuteTime": {
     "end_time": "2021-04-04T15:45:35.356188Z",
     "start_time": "2021-04-04T15:45:29.401188Z"
    }
   },
   "outputs": [
    {
     "name": "stdout",
     "output_type": "stream",
     "text": [
      "+-------------+-----+\n",
      "|    genderOHE|count|\n",
      "+-------------+-----+\n",
      "|(1,[0],[1.0])|27301|\n",
      "|    (1,[],[])|10430|\n",
      "+-------------+-----+\n",
      "\n"
     ]
    }
   ],
   "source": [
    "predDF.select('genderOHE').groupBy('genderOHE').count().show()"
   ]
  },
  {
   "cell_type": "code",
   "execution_count": 116,
   "metadata": {
    "ExecuteTime": {
     "end_time": "2021-04-04T15:45:41.792761Z",
     "start_time": "2021-04-04T15:45:36.603759Z"
    }
   },
   "outputs": [
    {
     "name": "stdout",
     "output_type": "stream",
     "text": [
      "+------+-----+\n",
      "|gender|count|\n",
      "+------+-----+\n",
      "|Female|10430|\n",
      "|  Male|27301|\n",
      "+------+-----+\n",
      "\n"
     ]
    }
   ],
   "source": [
    "test_df.select('gender').groupBy('gender').count().show()"
   ]
  },
  {
   "cell_type": "code",
   "execution_count": 120,
   "metadata": {
    "ExecuteTime": {
     "end_time": "2021-04-04T15:46:09.734006Z",
     "start_time": "2021-04-04T15:46:04.908005Z"
    },
    "scrolled": true
   },
   "outputs": [
    {
     "name": "stdout",
     "output_type": "stream",
     "text": [
      "+---------+-------------+\n",
      "|genderOHE|      raceOHE|\n",
      "+---------+-------------+\n",
      "|(1,[],[])|(6,[5],[1.0])|\n",
      "|(1,[],[])|(6,[5],[1.0])|\n",
      "|(1,[],[])|    (6,[],[])|\n",
      "|(1,[],[])|(6,[4],[1.0])|\n",
      "|(1,[],[])|(6,[4],[1.0])|\n",
      "|(1,[],[])|(6,[4],[1.0])|\n",
      "|(1,[],[])|(6,[4],[1.0])|\n",
      "|(1,[],[])|(6,[4],[1.0])|\n",
      "|(1,[],[])|(6,[4],[1.0])|\n",
      "|(1,[],[])|(6,[4],[1.0])|\n",
      "|(1,[],[])|(6,[4],[1.0])|\n",
      "|(1,[],[])|(6,[4],[1.0])|\n",
      "|(1,[],[])|(6,[4],[1.0])|\n",
      "|(1,[],[])|(6,[4],[1.0])|\n",
      "|(1,[],[])|(6,[4],[1.0])|\n",
      "|(1,[],[])|(6,[4],[1.0])|\n",
      "|(1,[],[])|(6,[4],[1.0])|\n",
      "|(1,[],[])|(6,[1],[1.0])|\n",
      "|(1,[],[])|(6,[1],[1.0])|\n",
      "|(1,[],[])|(6,[1],[1.0])|\n",
      "+---------+-------------+\n",
      "only showing top 20 rows\n",
      "\n"
     ]
    }
   ],
   "source": [
    "predDF.select('genderOHE','raceOHE').show()"
   ]
  },
  {
   "cell_type": "code",
   "execution_count": 121,
   "metadata": {
    "ExecuteTime": {
     "end_time": "2021-04-04T15:46:18.804264Z",
     "start_time": "2021-04-04T15:46:13.245276Z"
    }
   },
   "outputs": [
    {
     "name": "stdout",
     "output_type": "stream",
     "text": [
      "+-------------+-----+\n",
      "|    genderOHE|count|\n",
      "+-------------+-----+\n",
      "|(1,[0],[1.0])|27301|\n",
      "|    (1,[],[])|10430|\n",
      "+-------------+-----+\n",
      "\n"
     ]
    }
   ],
   "source": [
    "predDF.groupBy('genderOHE').count().show()"
   ]
  },
  {
   "cell_type": "code",
   "execution_count": 123,
   "metadata": {
    "ExecuteTime": {
     "end_time": "2021-04-04T15:46:35.132768Z",
     "start_time": "2021-04-04T15:46:28.262697Z"
    }
   },
   "outputs": [
    {
     "name": "stdout",
     "output_type": "stream",
     "text": [
      "+---------+--------------------+\n",
      "|candidate|            features|\n",
      "+---------+--------------------+\n",
      "|        0|(9,[0,1,7,8],[1.0...|\n",
      "|        1|(9,[2,7,8],[1.0,1...|\n",
      "|        1|(9,[2,7,8],[1.0,1...|\n",
      "|        1|(9,[0,2,7,8],[1.0...|\n",
      "|        1|(9,[0,1,8],[1.0,1...|\n",
      "+---------+--------------------+\n",
      "\n"
     ]
    }
   ],
   "source": [
    "predDF.select(['candidate','features']).sample(0.0001).show()"
   ]
  },
  {
   "cell_type": "code",
   "execution_count": 127,
   "metadata": {
    "ExecuteTime": {
     "end_time": "2021-04-05T11:07:14.399761Z",
     "start_time": "2021-04-05T11:07:08.811685Z"
    }
   },
   "outputs": [
    {
     "name": "stdout",
     "output_type": "stream",
     "text": [
      "+---------+------------------------------------------+----------------------------------------+----------+\n",
      "|candidate|rawPrediction                             |probability                             |prediction|\n",
      "+---------+------------------------------------------+----------------------------------------+----------+\n",
      "|0        |[-0.23631644754667414,0.23631644754667414]|[0.44119430301488144,0.5588056969851185]|1.0       |\n",
      "|0        |[0.2877578130309839,-0.2877578130309839]  |[0.571447120041488,0.428552879958512]   |0.0       |\n",
      "|0        |[0.7402727004591667,-0.7402727004591667]  |[0.6770554854421633,0.3229445145578367] |0.0       |\n",
      "|0        |[-0.6714180673927805,0.6714180673927805]  |[0.33817938454193003,0.6618206154580699]|1.0       |\n",
      "|0        |[-0.6714180673927805,0.6714180673927805]  |[0.33817938454193003,0.6618206154580699]|1.0       |\n",
      "|0        |[-0.49672664720022786,0.49672664720022786]|[0.37831022664955827,0.6216897733504417]|1.0       |\n",
      "|0        |[0.02734761337743019,-0.02734761337743019]|[0.5068364772708045,0.4931635227291955] |0.0       |\n",
      "|0        |[-0.4481173925625334,0.4481173925625334]  |[0.3898084659563254,0.6101915340436745] |1.0       |\n",
      "|0        |[-0.27342597236998073,0.27342597236998073]|[0.43206621791759825,0.5679337820824018]|1.0       |\n",
      "|0        |[-0.27342597236998073,0.27342597236998073]|[0.43206621791759825,0.5679337820824018]|1.0       |\n",
      "+---------+------------------------------------------+----------------------------------------+----------+\n",
      "only showing top 10 rows\n",
      "\n"
     ]
    }
   ],
   "source": [
    "predDF.select(['candidate','rawPrediction','probability','prediction']).show(10,False)"
   ]
  },
  {
   "cell_type": "code",
   "execution_count": 124,
   "metadata": {
    "ExecuteTime": {
     "end_time": "2021-04-04T15:46:41.453260Z",
     "start_time": "2021-04-04T15:46:36.238259Z"
    }
   },
   "outputs": [
    {
     "name": "stdout",
     "output_type": "stream",
     "text": [
      "The auroc value of Logistic Regression Model is 0.6590959761482504\n"
     ]
    }
   ],
   "source": [
    "from pyspark.ml.evaluation import BinaryClassificationEvaluator\n",
    "lr_evaluator = BinaryClassificationEvaluator(metricName='areaUnderROC',labelCol='candidate')\n",
    "lr_auroc = lr_evaluator.evaluate(predDF)\n",
    "print(f'The auroc value of Logistic Regression Model is {lr_auroc}')"
   ]
  },
  {
   "cell_type": "code",
   "execution_count": 125,
   "metadata": {
    "ExecuteTime": {
     "end_time": "2021-04-04T15:46:55.331418Z",
     "start_time": "2021-04-04T15:46:49.802419Z"
    }
   },
   "outputs": [
    {
     "name": "stdout",
     "output_type": "stream",
     "text": [
      "The aupr value of Logistic Regression Model is 0.6628103552057009\n"
     ]
    }
   ],
   "source": [
    "lr_evaluator = BinaryClassificationEvaluator(metricName='areaUnderPR', labelCol='candidate')\n",
    "lr_aupr = lr_evaluator.evaluate(predDF)\n",
    "print(f'The aupr value of Logistic Regression Model is {lr_aupr}')"
   ]
  },
  {
   "cell_type": "code",
   "execution_count": null,
   "metadata": {
    "ExecuteTime": {
     "end_time": "2021-04-04T14:40:03.582436Z",
     "start_time": "2021-04-04T14:40:01.617Z"
    }
   },
   "outputs": [],
   "source": [
    "TP =  predDF.filter(predDF['candidate'] == 1)\\\n",
    "    .filter(predDF['prediction'] == 1).count()\n",
    "TP"
   ]
  },
  {
   "cell_type": "code",
   "execution_count": null,
   "metadata": {
    "ExecuteTime": {
     "end_time": "2021-04-04T14:40:03.586434Z",
     "start_time": "2021-04-04T14:40:01.838Z"
    }
   },
   "outputs": [],
   "source": [
    "FP =  predDF.filter(predDF['candidate'] == 1)\\\n",
    "    .filter(predDF['prediction'] == 0).count()\n",
    "FP"
   ]
  },
  {
   "cell_type": "code",
   "execution_count": null,
   "metadata": {
    "ExecuteTime": {
     "end_time": "2021-04-04T14:40:03.589306Z",
     "start_time": "2021-04-04T14:40:02.061Z"
    }
   },
   "outputs": [],
   "source": [
    "lr_summary=lr_model.summary\n",
    "print(f\" Accuracy {lr_summary.accuracy}\")\n",
    "print(f\" AreaUnderROC {lr_summary.areaUnderROC}\")\n",
    "print(f\" Weighted Recall {lr_summary.weightedRecall}\")\n",
    "print(f\" Weighted Precision {lr_summary.weightedPrecision}\")"
   ]
  },
  {
   "cell_type": "code",
   "execution_count": null,
   "metadata": {},
   "outputs": [],
   "source": []
  },
  {
   "cell_type": "code",
   "execution_count": null,
   "metadata": {},
   "outputs": [],
   "source": []
  },
  {
   "cell_type": "code",
   "execution_count": null,
   "metadata": {
    "ExecuteTime": {
     "end_time": "2021-04-04T14:40:03.592688Z",
     "start_time": "2021-04-04T14:40:03.100Z"
    }
   },
   "outputs": [],
   "source": [
    "lr_summary.precisionByThreshold.show()"
   ]
  },
  {
   "cell_type": "markdown",
   "metadata": {},
   "source": [
    "## 4.0 Model Training"
   ]
  },
  {
   "cell_type": "markdown",
   "metadata": {},
   "source": [
    "## 5.0 Predictions"
   ]
  },
  {
   "cell_type": "markdown",
   "metadata": {},
   "source": [
    "## 6.0 Conclusions"
   ]
  },
  {
   "cell_type": "code",
   "execution_count": null,
   "metadata": {
    "ExecuteTime": {
     "end_time": "2021-04-03T01:22:04.258751Z",
     "start_time": "2021-04-03T01:20:25.991Z"
    }
   },
   "outputs": [],
   "source": [
    "#!jupyter nbconvert va_circuit_court_expungment.ipynb --to pdf"
   ]
  },
  {
   "cell_type": "code",
   "execution_count": null,
   "metadata": {},
   "outputs": [],
   "source": []
  }
 ],
 "metadata": {
  "kernelspec": {
   "display_name": "Python 3",
   "language": "python",
   "name": "python3"
  },
  "language_info": {
   "codemirror_mode": {
    "name": "ipython",
    "version": 3
   },
   "file_extension": ".py",
   "mimetype": "text/x-python",
   "name": "python",
   "nbconvert_exporter": "python",
   "pygments_lexer": "ipython3",
   "version": "3.8.8"
  },
  "toc": {
   "base_numbering": 1,
   "nav_menu": {},
   "number_sections": true,
   "sideBar": true,
   "skip_h1_title": false,
   "title_cell": "Table of Contents",
   "title_sidebar": "Contents",
   "toc_cell": false,
   "toc_position": {},
   "toc_section_display": true,
   "toc_window_display": false
  },
  "varInspector": {
   "cols": {
    "lenName": 16,
    "lenType": 16,
    "lenVar": 40
   },
   "kernels_config": {
    "python": {
     "delete_cmd_postfix": "",
     "delete_cmd_prefix": "del ",
     "library": "var_list.py",
     "varRefreshCmd": "print(var_dic_list())"
    },
    "r": {
     "delete_cmd_postfix": ") ",
     "delete_cmd_prefix": "rm(",
     "library": "var_list.r",
     "varRefreshCmd": "cat(var_dic_list()) "
    }
   },
   "types_to_exclude": [
    "module",
    "function",
    "builtin_function_or_method",
    "instance",
    "_Feature"
   ],
   "window_display": false
  }
 },
 "nbformat": 4,
 "nbformat_minor": 4
}
